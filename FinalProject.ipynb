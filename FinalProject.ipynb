{
  "cells": [
    {
      "cell_type": "markdown",
      "metadata": {
        "id": "view-in-github",
        "colab_type": "text"
      },
      "source": [
        "<a href=\"https://colab.research.google.com/github/LucasNH/CSC413-Final-Project/blob/main/FinalProject.ipynb\" target=\"_parent\"><img src=\"https://colab.research.google.com/assets/colab-badge.svg\" alt=\"Open In Colab\"/></a>"
      ]
    },
    {
      "cell_type": "markdown",
      "metadata": {
        "id": "AsOtNuu3JzS9"
      },
      "source": [
        "# Install torchtext package and load data\n",
        "Download the files `reuters_train.txt` and `reuters_valid.txt`, and upload them to Google Drive.\n",
        "\n",
        "Then, mount Google Drive from your Google Colab notebook:"
      ]
    },
    {
      "cell_type": "code",
      "execution_count": null,
      "metadata": {
        "id": "Hr67PSFAOWFE"
      },
      "outputs": [],
      "source": [
        "import torch\n",
        "import torch.nn as nn\n",
        "import torch.nn.functional as F\n",
        "import torch.optim as optim\n",
        "\n",
        "import matplotlib.pyplot as plt\n",
        "import numpy as np\n",
        "import random\n",
        "\n",
        "%matplotlib inline"
      ]
    },
    {
      "cell_type": "code",
      "execution_count": null,
      "metadata": {
        "colab": {
          "base_uri": "https://localhost:8080/"
        },
        "id": "57FvL2tRNbe2",
        "outputId": "31980b3a-246b-42d2-89cc-ee00e2fefee8"
      },
      "outputs": [
        {
          "output_type": "stream",
          "name": "stdout",
          "text": [
            "Requirement already satisfied: torchtext==0.6.0 in /usr/local/lib/python3.10/dist-packages (0.6.0)\n",
            "Requirement already satisfied: tqdm in /usr/local/lib/python3.10/dist-packages (from torchtext==0.6.0) (4.66.1)\n",
            "Requirement already satisfied: requests in /usr/local/lib/python3.10/dist-packages (from torchtext==0.6.0) (2.31.0)\n",
            "Requirement already satisfied: torch in /usr/local/lib/python3.10/dist-packages (from torchtext==0.6.0) (2.1.0+cu118)\n",
            "Requirement already satisfied: numpy in /usr/local/lib/python3.10/dist-packages (from torchtext==0.6.0) (1.23.5)\n",
            "Requirement already satisfied: six in /usr/local/lib/python3.10/dist-packages (from torchtext==0.6.0) (1.16.0)\n",
            "Requirement already satisfied: sentencepiece in /usr/local/lib/python3.10/dist-packages (from torchtext==0.6.0) (0.1.99)\n",
            "Requirement already satisfied: charset-normalizer<4,>=2 in /usr/local/lib/python3.10/dist-packages (from requests->torchtext==0.6.0) (3.3.2)\n",
            "Requirement already satisfied: idna<4,>=2.5 in /usr/local/lib/python3.10/dist-packages (from requests->torchtext==0.6.0) (3.6)\n",
            "Requirement already satisfied: urllib3<3,>=1.21.1 in /usr/local/lib/python3.10/dist-packages (from requests->torchtext==0.6.0) (2.0.7)\n",
            "Requirement already satisfied: certifi>=2017.4.17 in /usr/local/lib/python3.10/dist-packages (from requests->torchtext==0.6.0) (2023.11.17)\n",
            "Requirement already satisfied: filelock in /usr/local/lib/python3.10/dist-packages (from torch->torchtext==0.6.0) (3.13.1)\n",
            "Requirement already satisfied: typing-extensions in /usr/local/lib/python3.10/dist-packages (from torch->torchtext==0.6.0) (4.5.0)\n",
            "Requirement already satisfied: sympy in /usr/local/lib/python3.10/dist-packages (from torch->torchtext==0.6.0) (1.12)\n",
            "Requirement already satisfied: networkx in /usr/local/lib/python3.10/dist-packages (from torch->torchtext==0.6.0) (3.2.1)\n",
            "Requirement already satisfied: jinja2 in /usr/local/lib/python3.10/dist-packages (from torch->torchtext==0.6.0) (3.1.2)\n",
            "Requirement already satisfied: fsspec in /usr/local/lib/python3.10/dist-packages (from torch->torchtext==0.6.0) (2023.6.0)\n",
            "Requirement already satisfied: triton==2.1.0 in /usr/local/lib/python3.10/dist-packages (from torch->torchtext==0.6.0) (2.1.0)\n",
            "Requirement already satisfied: MarkupSafe>=2.0 in /usr/local/lib/python3.10/dist-packages (from jinja2->torch->torchtext==0.6.0) (2.1.3)\n",
            "Requirement already satisfied: mpmath>=0.19 in /usr/local/lib/python3.10/dist-packages (from sympy->torch->torchtext==0.6.0) (1.3.0)\n"
          ]
        }
      ],
      "source": [
        "!pip install torchtext==0.6.0"
      ]
    },
    {
      "cell_type": "code",
      "source": [
        "import gc\n",
        "gc.collect()"
      ],
      "metadata": {
        "id": "frdflkVwIrFb",
        "colab": {
          "base_uri": "https://localhost:8080/"
        },
        "outputId": "ce15b5b5-1087-43bc-d4c9-389ec8e1fc0a"
      },
      "execution_count": null,
      "outputs": [
        {
          "output_type": "execute_result",
          "data": {
            "text/plain": [
              "9616"
            ]
          },
          "metadata": {},
          "execution_count": 17
        }
      ]
    },
    {
      "cell_type": "code",
      "execution_count": null,
      "metadata": {
        "colab": {
          "base_uri": "https://localhost:8080/"
        },
        "id": "OxGcK1xfJ9-l",
        "outputId": "5f6d7a69-52c7-4f3a-b640-26a2ccfdc556"
      },
      "outputs": [
        {
          "output_type": "stream",
          "name": "stdout",
          "text": [
            "Drive already mounted at /content/gdrive; to attempt to forcibly remount, call drive.mount(\"/content/gdrive\", force_remount=True).\n"
          ]
        }
      ],
      "source": [
        "from google.colab import drive\n",
        "drive.mount('/content/gdrive')\n",
        "\n"
      ]
    },
    {
      "cell_type": "code",
      "execution_count": null,
      "metadata": {
        "id": "GvKfMrNgsMMn"
      },
      "outputs": [],
      "source": [
        "file_path =  '/content/gdrive/MyDrive/Colab Notebooks/data/arxiv.txt'"
      ]
    },
    {
      "cell_type": "markdown",
      "metadata": {
        "id": "IPijuGS6JzS-"
      },
      "source": [
        "We will be using PyTorch's `torchtext` utilities to help us load, process,\n",
        "and batch the data. This package is useful, but takes a bit of time to get\n",
        "used to.\n",
        "\n",
        "We'll be using a `TabularDataset` to load our data, which works well on structured\n",
        "CSV data with fixed columns (e.g. a column for the sequence, a column for the label). Our tabular dataset\n",
        "is even simpler: we have no labels, just some text. So, we are treating our data as a table with one field\n",
        "representing our sequence."
      ]
    },
    {
      "cell_type": "code",
      "execution_count": null,
      "metadata": {
        "id": "ER2T6iRdJzS-"
      },
      "outputs": [],
      "source": [
        "import torchtext\n",
        "\n",
        "# Tokenization function to separate a title into words\n",
        "def tokenize_title(title):\n",
        "    \"\"\"Returns the sequence of words in the string title. We also\n",
        "    prepend the \"<bos>\" or beginning-of-string token, and append the\n",
        "    \"<eos>\" or end-of-string token to the title.\n",
        "    \"\"\"\n",
        "    return (\"<bos> \" + title + \" <eos>\").split()\n",
        "\n",
        "# Data field (column) representing our *text*.\n",
        "\n",
        "text_field = torchtext.data.Field(\n",
        "    sequential=True,            # this field consists of a sequence\n",
        "    tokenize=tokenize_title, # how to split sequences into words\n",
        "    include_lengths=True,       # to track the length of sequences, for batching\n",
        "    batch_first=True,           # similar to batch_first=True in nn.RNN demonstrated in lecture\n",
        "    use_vocab=True)             # to turn each character into an integer index\n",
        "\n",
        "full_dataset = torchtext.data.TabularDataset(\n",
        "    path=file_path,                 # data file path\n",
        "    format=\"tsv\",                   # fields are separated by a tab\n",
        "    fields=[('title', text_field)]) # list of fields (we have only one)\n",
        "\n",
        "# Split the dataset into train and validation sets (80/20 split)\n",
        "train_data, val_data = full_dataset.split(split_ratio=0.8)"
      ]
    },
    {
      "cell_type": "markdown",
      "source": [
        "# Data Exploration"
      ],
      "metadata": {
        "id": "WrYlRi-pc84b"
      }
    },
    {
      "cell_type": "markdown",
      "metadata": {
        "id": "mmq5YS2rJzS_"
      },
      "source": [
        "### Number of Words per Headline\n",
        "\n"
      ]
    },
    {
      "cell_type": "code",
      "execution_count": null,
      "metadata": {
        "colab": {
          "base_uri": "https://localhost:8080/",
          "height": 508
        },
        "id": "70B87MVUJzS_",
        "outputId": "8c57aec6-101b-4595-9ae3-61e47378d5a2"
      },
      "outputs": [
        {
          "output_type": "stream",
          "name": "stdout",
          "text": [
            "['<bos>', 'Cactus', 'Mechanisms', ':', 'Optimal', 'Differential', 'Privacy', 'Mechanisms', 'in', 'the', 'Large', '-', 'Composition', 'Regime', '<eos>']\n",
            "['<bos>', 'A', 'grid', '-', 'point', 'detection', 'method', 'based', 'on', 'U', '-', 'net', 'for', 'a', 'structured', 'light', 'system', '<eos>']\n"
          ]
        },
        {
          "output_type": "display_data",
          "data": {
            "text/plain": [
              "<Figure size 640x480 with 1 Axes>"
            ],
            "image/png": "[encoded data removed]"
          },
          "metadata": {}
        }
      ],
      "source": [
        "# Include your histogram and your written explanations\n",
        "\n",
        "# Here is an example of how to plot a histogram in matplotlib:\n",
        "# plt.hist(np.random.normal(0, 1, 40), bins=)\n",
        "\n",
        "word_counts = [len(x.title) - 2 for x in train_data] # Exclude <bos>, <eos>\n",
        "plt.figure()\n",
        "plt.hist(word_counts, bins=10, range=(0, 40))\n",
        "plt.title('Research Paper Title Lengths')\n",
        "plt.savefig('title_lengths.png')\n",
        "\n",
        "# Here are some sample code that uses the train_data object:\n",
        "print(train_data[5].title)\n",
        "for example in train_data:\n",
        "    print(example.title)\n",
        "    break"
      ]
    },
    {
      "cell_type": "markdown",
      "metadata": {
        "id": "PJk3wBhDJzS_"
      },
      "source": [
        "### Number of Distinct Words in Training Data\n",
        "\n",
        "How many distinct words appear in the training data?\n",
        "Exclude the `<bos>` and `<eos>` tags in your computation."
      ]
    },
    {
      "cell_type": "code",
      "execution_count": null,
      "metadata": {
        "colab": {
          "base_uri": "https://localhost:8080/"
        },
        "id": "fW7k5B1SJzS_",
        "outputId": "df54382a-2499-4177-e265-b824a608e51e"
      },
      "outputs": [
        {
          "output_type": "stream",
          "name": "stdout",
          "text": [
            "Distinct Words: 61191\n"
          ]
        }
      ],
      "source": [
        "# of distinct words in the training data\n",
        "\n",
        "# You might find the python class Counter from the collections package useful\n",
        "from collections import Counter\n",
        "words_cnt = Counter()\n",
        "for x in train_data:\n",
        "  words_cnt.update(x.title[1:-1])\n",
        "\n",
        "print(f'Distinct Words: {len(words_cnt)}')"
      ]
    },
    {
      "cell_type": "code",
      "execution_count": null,
      "metadata": {
        "colab": {
          "base_uri": "https://localhost:8080/"
        },
        "id": "M_5JJ5RCJzTA",
        "outputId": "bce98ec4-2c9d-4a9b-d633-e45f675526b6"
      },
      "outputs": [
        {
          "output_type": "stream",
          "name": "stdout",
          "text": [
            "Appearing Once: ['CAFIN', 'tableaux', 'SDSRA', 'HATP', 'fractals', 'railway', 'Husserlian', 'phenomenology', 'TauPETGen', 'AAIA']\n",
            "Appearing Twice: ['roots', 'IN', 'HTS', 'AT', 'phenotypic', 'Myeloid', 'opcode', 'concavity', 'MLN', 'Olympic']\n"
          ]
        }
      ],
      "source": [
        "# Report your values here. Make sure that you report the actual values,\n",
        "# and not just the code used to get those values\n",
        "\n",
        "\n",
        "word_freqs = [(word, count) for (word, count) in words_cnt.items()]\n",
        "\n",
        "appear_once = [word for (word, count) in word_freqs if count == 1]\n",
        "appear_twice = [word for (word, count) in word_freqs if count == 2]\n",
        "\n",
        "print(f\"Appearing Once: {appear_once[:10]}\")\n",
        "print(f\"Appearing Twice: {appear_twice[:10]}\")"
      ]
    },
    {
      "cell_type": "code",
      "source": [
        "# Get the most common words and their frequencies\n",
        "most_common_words = words_cnt.most_common(20)  # You can change 10 to show a different number of words\n",
        "\n",
        "# Extract words and frequencies\n",
        "words, frequencies = zip(*most_common_words)\n",
        "\n",
        "# Create a bar graph\n",
        "plt.bar(words, frequencies)\n",
        "plt.xticks(rotation=45, fontsize=8)\n",
        "plt.title('Top 20 Most Common Words in Research Paper Titles')\n",
        "plt.xlabel('Words')\n",
        "plt.ylabel('Frequency')\n",
        "plt.savefig('word_frequencies.png')\n",
        "plt.show()"
      ],
      "metadata": {
        "colab": {
          "base_uri": "https://localhost:8080/",
          "height": 502
        },
        "id": "RhOglSIWImKL",
        "outputId": "f4b70e12-689a-49c7-bbaf-dafc81b99f59"
      },
      "execution_count": null,
      "outputs": [
        {
          "output_type": "display_data",
          "data": {
            "text/plain": [
              "<Figure size 640x480 with 1 Axes>"
            ],
            "image/png": "[encoded data removed]"
          },
          "metadata": {}
        }
      ]
    },
    {
      "cell_type": "markdown",
      "metadata": {
        "id": "VmhkWz_kJzTA"
      },
      "source": [
        "### Justification for using \\<unk\\> token\n",
        "\n",
        "\n",
        "Words in the validation set that do not appear during training will not have have an associated embeddings.\n"
      ]
    },
    {
      "cell_type": "markdown",
      "metadata": {
        "id": "ftZ5PnskJzTA"
      },
      "source": [
        "### Limit vocab size to 1000 most frequent words\n",
        "\n",
        "We will only model the top 9995 words in the training set, excluding the tags\n",
        "`<bos>`, `<eos>`, and other possible tags we haven't mentioned yet\n",
        "(including those, we will have a vocabulary size of exactly 10000 tokens).\n",
        "\n",
        "What percentage of word occurrences will be supported? Alternatively, what percentage\n",
        "of word occurrences in the training set will be set to the `<unk>` tag?"
      ]
    },
    {
      "cell_type": "code",
      "execution_count": null,
      "metadata": {
        "id": "KHPB4BQcJzTA"
      },
      "outputs": [],
      "source": [
        "# Report your values here. Make sure that you report the actual values,\n",
        "# and not just the code used to get those values\n",
        "\n",
        "top_words = words_cnt.most_common(9995)\n",
        "total = len(list(words_cnt.elements()))\n",
        "\n",
        "total_kept = 0\n",
        "for _, cnt in top_words:\n",
        "  total_kept += cnt\n",
        "\n",
        "print(f'Percentage of occurrences supported: {total_kept / total}')"
      ]
    },
    {
      "cell_type": "markdown",
      "metadata": {
        "id": "gKjIXeMcJzTA"
      },
      "source": [
        "Our `torchtext` package will help us keep track of our list of unique words, known\n",
        "as a **vocabulary**. A vocabulary also assigns a unique integer index to each word.\n",
        "You can interpret these indices as sparse representations of one-hot vectors."
      ]
    },
    {
      "cell_type": "code",
      "execution_count": null,
      "metadata": {
        "colab": {
          "base_uri": "https://localhost:8080/"
        },
        "id": "xy0zlLGtJzTA",
        "outputId": "246450c7-2b19-43f7-ea8b-021d1562ca39"
      },
      "outputs": [
        {
          "output_type": "stream",
          "name": "stdout",
          "text": [
            "0\n",
            "in\n",
            "10000\n",
            "<unk>\n",
            "<pad>\n"
          ]
        }
      ],
      "source": [
        "# Build the vocabulary based on the training data. The vocabulary\n",
        "# can have at most 9997 words (9995 words + the <bos> and <eos> token)\n",
        "text_field.build_vocab(train_data, max_size=9997)\n",
        "\n",
        "# This vocabulary object will be helpful for us\n",
        "vocab = text_field.vocab\n",
        "print(vocab.stoi[\"hello\"]) # for instances, we can convert from string to (unique) index\n",
        "print(vocab.itos[10])      # ... and from word index to string\n",
        "\n",
        "# The size of our vocabulary is actually 10000\n",
        "vocab_size = len(text_field.vocab.stoi)\n",
        "print(vocab_size) # should be 10000\n",
        "\n",
        "\n",
        "# The reason is that torchtext adds two more tokens for us:\n",
        "print(vocab.itos[0]) # <unk> represents an unknown word not in our vocabulary\n",
        "print(vocab.itos[1]) # <pad> will be used to pad short sequences for batching"
      ]
    },
    {
      "cell_type": "markdown",
      "metadata": {
        "id": "1b1T26K9VWUS"
      },
      "source": [
        "# Autoencoder implementation\n",
        "\n",
        "Complete the code for the AutoEncoder class below by:\n",
        "\n",
        "1. Filling in the missing numbers in the `__init__` method using\n",
        "   the parameters `vocab_size`, `emb_size`, and `hidden_size`. (4 points)\n",
        "2. Complete the `forward` method, which uses teacher forcing\n",
        "   and computes the logits $z^{(t)}$ of the reconstruction of\n",
        "   the sequence. (4 points)\n",
        "\n",
        "You should first try to understand the `encode` and `decode` methods,\n",
        "which are written for you. The `encode` method mimics a discriminative\n",
        "RNN (see the sentiment analysis notebook).  The `decode` method is\n",
        "a generative RNN and is a bit more complex (see the text generation\n",
        "tutorial notebook).  You might want to scroll down to the\n",
        "`sample_sequence` function to see how this function will be called.\n",
        "\n",
        "You can (but don't have to) use the `encode` and `decode` method in\n",
        "your `forward` method. In either case, be very careful of the input\n",
        "that you feed into ether `decode` or to `self.decoder_rnn`.\n",
        "Refer to the teacher-forcing diagram."
      ]
    },
    {
      "cell_type": "code",
      "execution_count": null,
      "metadata": {
        "id": "Sb4_VBvHNOHG"
      },
      "outputs": [],
      "source": [
        "class AutoEncoder(nn.Module):\n",
        "    def __init__(self, vocab_size, emb_size, hidden_size):\n",
        "        \"\"\"\n",
        "        A text autoencoder. The parameters\n",
        "            - vocab_size: number of unique words/tokens in the vocabulary\n",
        "            - emb_size: size of the word embeddings $x^{(t)}$\n",
        "            - hidden_size: size of the hidden states in both the\n",
        "                           encoder RNN ($h^{(t)}$) and the\n",
        "                           decoder RNN ($m^{(t)}$)\n",
        "        \"\"\"\n",
        "        super().__init__()\n",
        "        self.embed = nn.Embedding(num_embeddings=vocab_size,\n",
        "                                  embedding_dim=emb_size)\n",
        "        self.encoder_rnn = nn.GRU(input_size=emb_size,\n",
        "                                  hidden_size=hidden_size,\n",
        "                                  batch_first=True)\n",
        "        self.decoder_rnn = nn.GRU(input_size=emb_size,\n",
        "                                  hidden_size=hidden_size,\n",
        "                                  batch_first=True)\n",
        "        self.proj = nn.Linear(in_features=hidden_size,\n",
        "                              out_features=vocab_size)\n",
        "\n",
        "    def encode(self, inp):\n",
        "        \"\"\"\n",
        "        Computes the encoder output given a sequence of words.\n",
        "        \"\"\"\n",
        "        emb = self.embed(inp)\n",
        "        out, last_hidden = self.encoder_rnn(emb)\n",
        "        return last_hidden\n",
        "\n",
        "    def decode(self, inp, hidden=None):\n",
        "        \"\"\"\n",
        "        Computes the decoder output given a sequence of words, and\n",
        "        (optionally) an initial hidden state.\n",
        "        \"\"\"\n",
        "        emb = self.embed(inp)\n",
        "        out, last_hidden = self.decoder_rnn(emb, hidden)\n",
        "        out_seq = self.proj(out)\n",
        "        return out_seq, last_hidden\n",
        "\n",
        "    def forward(self, inp):\n",
        "        \"\"\"\n",
        "        Compute both the encoder and decoder forward pass\n",
        "        given an integer input sequence inp with shape [batch_size, seq_length],\n",
        "        with inp[a,b] representing the (index in our vocabulary of) the b-th word\n",
        "        of the a-th training example.\n",
        "\n",
        "        This function should return the logits $z^{(t)}$ in a tensor of shape\n",
        "        [batch_size, seq_length - 1, vocab_size], computed using *teaching forcing*.\n",
        "\n",
        "        The (seq_length - 1) part is not a typo. If you don't understand why\n",
        "        we need to subtract 1, refer to the teacher-forcing diagram above.\n",
        "        \"\"\"\n",
        "\n",
        "        last_hidden = self.encode(inp)\n",
        "        # print(last_hidden.shape) # Should be [1, batch_size, hidden_size]\n",
        "\n",
        "        # Why do we have L - 1 logits?\n",
        "        # We do not pass the <eos> token to the Autoencoder, as there is no\n",
        "        # \"next word\" to sample.\n",
        "\n",
        "        out_seq, last_hidden = self.decode(inp, last_hidden)\n",
        "        # print(out_seq.shape) # should be [batch_size, seq_length, vocab_size]\n",
        "\n",
        "        return out_seq[:, :-1, :]"
      ]
    },
    {
      "cell_type": "markdown",
      "metadata": {
        "id": "Ebrpb2RcNOHG"
      },
      "source": [
        "### Training the Autoencoder using Teacher Forcing\n",
        "\n",
        "To check that your model is set up correctly, we'll train our AutoEncoder\n",
        "neural network for at least 300 iterations to memorize this sequence:"
      ]
    },
    {
      "cell_type": "code",
      "execution_count": null,
      "metadata": {
        "id": "1lqYG47jNOHG",
        "colab": {
          "base_uri": "https://localhost:8080/",
          "height": 651
        },
        "outputId": "c8eb9df5-b60a-47ba-cea7-6e012940b450"
      },
      "outputs": [
        {
          "output_type": "stream",
          "name": "stdout",
          "text": [
            "[Iter 10] Loss 0.111032 Validation Loss 0.707095\n",
            "[Iter 20] Loss 0.108515 Validation Loss 0.664001\n",
            "[Iter 30] Loss 0.105743 Validation Loss 0.681288\n",
            "[Iter 40] Loss 0.091291 Validation Loss 0.646989\n",
            "[Iter 50] Loss 0.111706 Validation Loss 0.647040\n",
            "[Iter 60] Loss 0.118073 Validation Loss 0.619045\n",
            "[Iter 70] Loss 0.102800 Validation Loss 0.606340\n",
            "[Iter 80] Loss 0.116383 Validation Loss 0.566202\n",
            "[Iter 90] Loss 0.083954 Validation Loss 0.558155\n",
            "[Iter 100] Loss 0.082634 Validation Loss 0.553489\n"
          ]
        },
        {
          "output_type": "display_data",
          "data": {
            "text/plain": [
              "<Figure size 640x480 with 1 Axes>"
            ],
            "image/png": "[encoded data removed]"
          },
          "metadata": {}
        }
      ],
      "source": [
        "model = AutoEncoder(vocab_size, 128, 128)\n",
        "\n",
        "def train_autoencoder(model, batch_size=32, learning_rate=0.001, num_epochs=1, plot_every=10, make_plot=True):\n",
        "    optimizer = optim.Adam(model.parameters(), lr=learning_rate)\n",
        "    criterion = nn.CrossEntropyLoss()\n",
        "\n",
        "    for ep in range(num_epochs):\n",
        "\n",
        "\n",
        "        train_loss, valid_loss, iters = [], [], []\n",
        "\n",
        "        # This BucketIterator will handle padding of sequences that are not of the same length\n",
        "        train_iter = torchtext.data.BucketIterator(train_data,\n",
        "                                                   batch_size=batch_size,\n",
        "                                                   sort_key=lambda x: len(x.title), # to minimize padding\n",
        "                                                   repeat=False,\n",
        "                                                   shuffle=True)\n",
        "\n",
        "\n",
        "        valid_iter = torchtext.data.BucketIterator(val_data,\n",
        "                                                   batch_size=batch_size,\n",
        "                                                   sort_key=lambda x: len(x.title), # to minimize padding\n",
        "                                                   repeat=False,\n",
        "                                                   shuffle=True)\n",
        "\n",
        "\n",
        "        it = 0\n",
        "        for e in range(num_epochs):\n",
        "          for ((xs, lengths), _) in train_iter:\n",
        "              it += 1\n",
        "\n",
        "              # Fill in the training code here\n",
        "              zs = model(xs) # output logits from the decoder [B, L - 1, vocab_size]\n",
        "              zs = torch.permute(zs, (0, 2, 1)) # correct shape for loss fn is [B, vocab_size, L - 1]\n",
        "              targets = xs[:,1:] # Shape is [B, L - 1] (we don't generate the first token in the input sequence, <bos>)\n",
        "\n",
        "              loss = criterion(zs, targets)\n",
        "              loss.backward()\n",
        "              optimizer.step()\n",
        "\n",
        "\n",
        "              if (it) % plot_every == 0:\n",
        "                  tr_loss = (float(loss)) / batch_size\n",
        "                  train_loss.append(tr_loss)\n",
        "\n",
        "\n",
        "                  # Optional: Compute and track validation loss\n",
        "                  val_loss = 0\n",
        "                  val_n = 0\n",
        "                  for ((xs, lengths), _) in valid_iter:\n",
        "                    zs = model(xs)\n",
        "                    zs = torch.permute(zs, (0, 2, 1))\n",
        "                    targets = xs[:,1:]\n",
        "                    loss = criterion(zs, targets)\n",
        "                    val_loss += float(loss) / batch_size\n",
        "\n",
        "                    if val_n == 5:\n",
        "                      break\n",
        "                    val_n += 1\n",
        "\n",
        "\n",
        "                  valid_loss.append(val_loss)\n",
        "                  iters.append((it))\n",
        "\n",
        "\n",
        "                  print(\"[Iter %d] Loss %f Validation Loss %f\" % (it, tr_loss, val_loss ))\n",
        "\n",
        "              optimizer.zero_grad()\n",
        "              if it == 100:\n",
        "                break\n",
        "\n",
        "\n",
        "        if make_plot:\n",
        "          plt.figure()\n",
        "          plt.plot(iters[:len(train_loss)], train_loss)\n",
        "          plt.plot(iters[:len(valid_loss)], valid_loss)\n",
        "          plt.title(\"Loss over iterations\")\n",
        "          plt.xlabel(\"Iterations\")\n",
        "          plt.ylabel(\"Reconstruction Loss\")\n",
        "          plt.legend([\"Train\", \"Validation\"])\n",
        "          plt.savefig('autoencoder_train.png')\n",
        "\n",
        "        torch.save(model, 'model_baseline.pt')\n",
        "\n",
        "\n",
        "train_autoencoder(model)"
      ]
    },
    {
      "cell_type": "markdown",
      "metadata": {
        "id": "x1OcxvTBcPM8"
      },
      "source": [
        "### Sampling sequences from the decoder\n",
        "\n",
        "\n",
        "We are sampling from a multi-nomial distribution described by the logits $z^{(t)}$.For example, if our distribution is [80%, 20%]\n",
        "over a vocabulary of two words, then we will choose the first word\n",
        "with 80% probability and the second word with 20% probability.\n"
      ]
    },
    {
      "cell_type": "code",
      "execution_count": null,
      "metadata": {
        "id": "-srJ852XcPM9",
        "colab": {
          "base_uri": "https://localhost:8080/"
        },
        "outputId": "189f1022-b726-4941-db0e-1d90b1e4755e"
      },
      "outputs": [
        {
          "output_type": "stream",
          "name": "stdout",
          "text": [
            "Input Title:  Expressing Visual Relationships via Language \n",
            "Reconstructed Title: <unk> Contrastive Reinforcement Agent Pointer Learning : and Combinations Classifier\n",
            "Input Title:  Simulation of <unk> Hurricane Tracks and Features : A Deep Learning Approach \n",
            "Reconstructed Title: to Diverse Deep on and losses <pad> Learning\n",
            "Input Title:  Cluster - based trajectory segmentation with local noise \n",
            "Reconstructed Title: and Langevin Check Sign Games Effective and Quantum Multi Classification as - for Inverse Networks\n",
            "Input Title:  SMART : Robust and Efficient Fine - Tuning for Pre - trained Natural Language Models through Principled Regularized Optimization \n",
            "Reconstructed Title: <unk> Learning Text Systems <unk> An Robust <unk> Extraction\n",
            "Input Title:  Towards interpreting ML - based automated malware detection models : a survey \n",
            "Reconstructed Title: Threshold on Good Flexible of with Tuning ordering Machine Nonlinear Sets biomarkers drug images Networks\n",
            "Input Title:  Selection via Proxy : Efficient Data Selection for Deep Learning \n",
            "Reconstructed Title: Pruning Memory Biometrics Piece Search for general and Comparative in Towards\n",
            "Input Title:  <unk> : Overcoming Noise and Sparsity of Textual Features in Real - Time Location Estimation \n",
            "Reconstructed Title: the to Universal Synthesis A Propagation Subgroup Model <pad> <pad> <pad> : and Object Boxes Decaying <pad> <pad> <pad> <pad>\n",
            "Input Title:  <unk> : An Interactive Map that <unk> and Predicts <unk> in the US \n",
            "Reconstructed Title: under O Decomposition Real Detection <pad> <pad> <pad> <pad> <pad> <pad> <pad> <pad> <pad> <pad> <pad> <pad> <pad> <pad> <pad>\n",
            "Input Title:  Sustainable Urban Mobility in the Post - Pandemic Era ( position paper ) \n",
            "Reconstructed Title: SGD Dialogues Concurrent and to Fraud Near Convex with Scenarios with Navigation - Low for Doubly inference to data Networks\n",
            "Input Title:  Leveraging Vision - Language Models for Granular Market Change Prediction \n",
            "Reconstructed Title: and Kernel learning Fast Channel Global Algorithm Connection Dyadic Nonlinear\n",
            "Input Title:  Contrastive Masked Autoencoders for Self - Supervised Video Hashing \n",
            "Reconstructed Title: Model Recognition\n",
            "Input Title:  A Review of Challenges in Machine Learning based Automated Hate Speech Detection \n",
            "Reconstructed Title: Conditioned attack for with Learning to A Image\n",
            "Input Title:  Genetic - algorithm - optimized neural networks for gravitational wave classification \n",
            "Reconstructed Title: Data Evaluating : Technique <pad> <pad> <pad> <pad> <pad> <pad> <pad> <pad> <pad> <pad> <pad> Hierarchies - Strategies Train\n",
            "Input Title:  Deep Reinforcement Learning with Function Properties in Mean <unk> Strategies \n",
            "Reconstructed Title: Agnostic API BERT through of Pixel\n",
            "Input Title:  Solving the Clustered Traveling Salesman Problem via TSP methods \n",
            "Reconstructed Title: to Scenarios of Automatic Location Adversarial the on AI study Features <pad> <pad> <pad> <pad> <pad> <pad> <pad> <pad> <pad>\n",
            "Input Title:  Cognitive Visual - learning Environment for <unk> \n",
            "Reconstructed Title: Machine Data Cyber a Optimism Uncertainty Invariants\n",
            "Input Title:  Split Learning for Distributed Collaborative Training of Deep Learning Models in Health Informatics \n",
            "Reconstructed Title: Learning\n",
            "Input Title:  Video Diffusion Models \n",
            "Reconstructed Title: Deep Stronger\n",
            "Input Title:  Optimally Deceiving a Learning Leader in Stackelberg Games \n",
            "Reconstructed Title: Dataset and Inferring Enhanced Coarse\n",
            "Input Title:  Machine learning methods for the detection of <unk> <unk> in satellite <unk> : <unk> issues and their solutions \n",
            "Reconstructed Title: rough Method Kernel <pad> <pad> <pad> Multiple : - Networks\n"
          ]
        }
      ],
      "source": [
        "def sample_sequence(model, hidden, max_len=20, temperature=1):\n",
        "    \"\"\"\n",
        "    Return a sequence generated from the model's decoder\n",
        "        - model: an instance of the AutoEncoder model\n",
        "        - hidden: a hidden state (e.g. computed by the encoder)\n",
        "        - max_len: the maximum length of the generated sequence\n",
        "        - temperature: described in Part (d)\n",
        "    \"\"\"\n",
        "    # We'll store our generated sequence here\n",
        "    generated_sequence = []\n",
        "    # Set input to the <BOS> token\n",
        "    inp = torch.Tensor([text_field.vocab.stoi[\"<bos>\"]]).long()\n",
        "    for p in range(max_len):\n",
        "        # compute the output and next hidden unit\n",
        "        output, hidden = model.decode(inp.unsqueeze(0), hidden)\n",
        "        # Sample from the network as a multinomial distribution\n",
        "        output_dist = output.data.view(-1).div(temperature).exp()\n",
        "        top_i = int(torch.multinomial(output_dist, 1)[0])\n",
        "        # Add predicted word to string and use as next input\n",
        "        word = text_field.vocab.itos[top_i]\n",
        "        # Break early if we reach <eos>\n",
        "        if word == \"<eos>\":\n",
        "            break\n",
        "        generated_sequence.append(word)\n",
        "        inp = torch.Tensor([top_i]).long()\n",
        "    return generated_sequence\n",
        "\n",
        "train_dataloader = torchtext.data.BucketIterator(train_data, 32,\n",
        "                                                     train=True, sort_key=lambda x: len(x.title),\n",
        "                                                      device=None)\n",
        "X = next(iter(train_dataloader))\n",
        "titles = X.title[0]\n",
        "\n",
        "for title in titles[:20]:\n",
        "\n",
        "  print(f\"Input Title: {tokens_to_text(title)}\")\n",
        "  hidden = model.encode(title.expand(1, -1))\n",
        "  out_seq = sample_sequence(model, hidden)\n",
        "  out_seq = \" \".join(out_seq)\n",
        "  print(f\"Reconstructed Title: {out_seq}\")"
      ]
    },
    {
      "cell_type": "code",
      "execution_count": null,
      "metadata": {
        "id": "cx0tB7mGcPM9"
      },
      "outputs": [],
      "source": [
        "title = titles[0]\n",
        "\n",
        "# The temperature setting makes the multinomial distribution flatter (e.g. more likely to generate different words)\n",
        "# or peakier (e.g. less likely to generate different words).\n",
        "\n",
        "for temp in [1.5, 2, 5]:\n",
        "  hidden = model.encode(title.expand(1, -1))\n",
        "  out_seq = sample_sequence(model, hidden)\n",
        "  out_seq = \" \".join(out_seq)\n",
        "  print(out_seq)"
      ]
    },
    {
      "cell_type": "markdown",
      "metadata": {
        "id": "qpx5r7LSwr5c"
      },
      "source": [
        "# Denoising Adversarial Autoencoder\n"
      ]
    },
    {
      "cell_type": "markdown",
      "metadata": {
        "id": "n_xlIA4zxQGJ"
      },
      "source": [
        "\n",
        "We add noise to our data in the following ways:\n",
        "\n",
        "1. Shuffle the words in the headline, taking care that words don't end up too far from where they were initially\n",
        "2. Drop (remove) some words\n",
        "3. Replace some words with a blank word (a `<pad>` token)\n",
        "4. Replace some words with a random word\n",
        "\n",
        "When we train our `Autoencoder` on this noisy data, we expect that the Autoencoder will reconstruct sentences without noise. This augmentation is done\n",
        "to prevent the Autoencoder from overfitting to the data. The trained Autoencoder is called a Denoising Autoencoder.\n"
      ]
    },
    {
      "cell_type": "code",
      "execution_count": null,
      "metadata": {
        "id": "tAMl3bRnu5MJ"
      },
      "outputs": [],
      "source": [
        "def tokenize_and_randomize(title,\n",
        "                           drop_prob=0.1,  # probability of dropping a word\n",
        "                           blank_prob=0.1, # probability of \"blanking\" out a word\n",
        "                           sub_prob=0.1,   # probability of substituting a word with a random one\n",
        "                           shuffle_dist=3): # maximum distance to shuffle a word\n",
        "    \"\"\"\n",
        "    Add 'noise' to a title by slightly shuffling the word order,\n",
        "    dropping some words, blanking out some words (replacing with the <pad> token)\n",
        "    and substituting some words with random ones.\n",
        "    \"\"\"\n",
        "    title = title\n",
        "    n = len(title)\n",
        "    # shuffle\n",
        "    title = [title[i] for i in get_shuffle_index(n, shuffle_dist)]\n",
        "\n",
        "    new_title = [vocab.stoi['<bos>']]\n",
        "    for w in title:\n",
        "        if random.random() < drop_prob:\n",
        "            # drop the word\n",
        "            pass\n",
        "        elif random.random() < blank_prob:\n",
        "            # replace with blank word\n",
        "            new_title.append(vocab.stoi[\"<pad>\"])\n",
        "        elif random.random() < sub_prob:\n",
        "            # substitute word with another word\n",
        "            new_title.append(random.randint(0, vocab_size - 1))\n",
        "        else:\n",
        "            # keep the original word\n",
        "            new_title.append(w)\n",
        "    new_title.append(vocab.stoi['<eos>'])\n",
        "    return new_title\n",
        "\n",
        "def get_shuffle_index(n, max_shuffle_distance):\n",
        "    \"\"\" This is a helper function used to shuffle a headline with n words,\n",
        "    where each word is moved at most max_shuffle_distance. The function does\n",
        "    the following:\n",
        "       1. start with the *unshuffled* index of each word, which\n",
        "          is just the values [0, 1, 2, ..., n]\n",
        "       2. perturb these \"index\" values by a random floating-point value between\n",
        "          [0, max_shuffle_distance]\n",
        "       3. use the sorted position of these values as our new index\n",
        "    \"\"\"\n",
        "    index = np.arange(n)\n",
        "    perturbed_index = index + np.random.rand(n) * 3\n",
        "    new_index = sorted(enumerate(perturbed_index), key=lambda x: x[1])\n",
        "    return [index for (index, pert) in new_index]"
      ]
    },
    {
      "cell_type": "code",
      "source": [
        "text_field = torchtext.data.Field(\n",
        "    sequential=True,            # this field consists of a sequence\n",
        "    tokenize=tokenize_and_randomize, # how to split sequences into words\n",
        "    include_lengths=True,       # to track the length of sequences, for batching\n",
        "    batch_first=True,           # similar to batch_first=True in nn.RNN demonstrated in lecture\n",
        "    use_vocab=True)             # to turn each character into an integer index\n",
        "\n",
        "full_dataset = torchtext.data.TabularDataset(\n",
        "    path=file_path,                 # data file path\n",
        "    format=\"tsv\",                   # fields are separated by a tab\n",
        "    fields=[('title', text_field)]) # list of fields (we have only one)\n",
        "\n",
        "# Split the dataset into train and validation sets (80/20 split)\n",
        "train_data, val_data = full_dataset.split(split_ratio=0.8)"
      ],
      "metadata": {
        "id": "8wQsofGQF7zk"
      },
      "execution_count": null,
      "outputs": []
    },
    {
      "cell_type": "code",
      "execution_count": null,
      "metadata": {
        "id": "YaZ9Is5Mwxvz"
      },
      "outputs": [],
      "source": [
        "import torch\n",
        "import torch.nn as nn\n",
        "import torch.optim as optim\n",
        "\n",
        "class AdversarialAutoencoder(nn.Module):\n",
        "    def __init__(self, vocab_size, emb_size, hidden_size, lambda_param):\n",
        "        super().__init__()\n",
        "\n",
        "        # Encoder, Decoder, and Discriminator from the provided AutoEncoder class\n",
        "        self.autoencoder = AutoEncoder(vocab_size, emb_size, hidden_size)\n",
        "\n",
        "        # Discriminator network\n",
        "        self.discriminator = nn.Sequential(\n",
        "            nn.Linear(hidden_size, 1),\n",
        "            nn.Sigmoid()\n",
        "        )\n",
        "\n",
        "        self.lambda_param = lambda_param\n",
        "\n",
        "    def encode(self, inp):\n",
        "        return self.autoencoder.encode(inp)\n",
        "\n",
        "    def decode(self, inp, hidden=None):\n",
        "        return self.autoencoder.decode(inp, hidden)\n",
        "\n",
        "    def forward(self, inp):\n",
        "        return self.autoencoder(inp)\n",
        "\n",
        "\n",
        "# Replace with your actual vocabulary size\n",
        "emb_size = 128  # Replace with your desired embedding size\n",
        "hidden_size = 128  # Replace with your desired hidden size\n",
        "lambda_param = 0.1  # Replace with your desired lambda value\n",
        "\n",
        "model = AdversarialAutoencoder(vocab_size, 128, 128,lambda_param)"
      ]
    },
    {
      "cell_type": "code",
      "source": [
        "# Convert tensors to lists of integers\n",
        "def convert_tensor_to_list(tensor):\n",
        "    return tensor.tolist() if torch.is_tensor(tensor) else tensor"
      ],
      "metadata": {
        "id": "UFXq-awYWeDQ"
      },
      "execution_count": null,
      "outputs": []
    },
    {
      "cell_type": "code",
      "source": [
        "import torch\n",
        "import torch.optim as optim\n",
        "import torch.nn as nn\n",
        "import torch.nn.functional as F\n",
        "import torchtext\n",
        "import matplotlib.pyplot as plt\n",
        "\n",
        "def train_daae(model, batch_size=32, num_epochs=1, plot_every=10, make_plot=True):\n",
        "    optimizer_ae = optim.Adam(model.autoencoder.parameters(), lr=0.001)\n",
        "    optimizer_discriminator = optim.Adam(model.discriminator.parameters(), lr=0.001)\n",
        "    criterion_rec = nn.CrossEntropyLoss()\n",
        "    criterion_adv = nn.BCELoss()\n",
        "\n",
        "\n",
        "\n",
        "     # We will perform data augmentation by re-reading the input each time\n",
        "    field = torchtext.data.Field(sequential=True,\n",
        "                                  tokenize=tokenize_and_randomize, # <-- data augmentation\n",
        "                                  include_lengths=True,\n",
        "                                  batch_first=True,\n",
        "                                  use_vocab=False, # <-- the tokenization function replaces this\n",
        "                                  pad_token=vocab.stoi['<pad>'])\n",
        "\n",
        "\n",
        "    dataset = torchtext.data.TabularDataset(file_path, \"tsv\", [('title', field)])\n",
        "    train_data, val_data = full_dataset.split(split_ratio=0.8)\n",
        "\n",
        "\n",
        "\n",
        "    train_iter = torchtext.data.BucketIterator(train_data, batch_size,\n",
        "                                                train=True, repeat=True,\n",
        "                                                sort_key=lambda x: len(x.title),\n",
        "                                                device=None)\n",
        "\n",
        "\n",
        "    valid_iter = torchtext.data.BucketIterator(val_data,\n",
        "                                              batch_size=batch_size,\n",
        "                                              sort_key=lambda x: len(x.title), # to minimize padding\n",
        "                                              repeat=False)\n",
        "\n",
        "\n",
        "\n",
        "    iters, train_loss_rec, train_loss_adv, valid_loss = [], [], [], []\n",
        "\n",
        "    it = 0\n",
        "    for e in range(num_epochs):\n",
        "      for ((xs, lengths), _) in train_iter:\n",
        "          it += 1\n",
        "\n",
        "          # Forward pass through autoencoder\n",
        "          zs = model(xs)\n",
        "          zs = zs.permute(0, 2, 1)\n",
        "\n",
        "          # Reconstruction loss\n",
        "          targets = xs[:, 1:]\n",
        "          loss_rec = criterion_rec(zs, targets)\n",
        "\n",
        "          # Adversarial loss\n",
        "          z = model.encode(xs)\n",
        "          pred_real = model.discriminator(z)\n",
        "          loss_adv_real = criterion_adv(pred_real, torch.ones_like(pred_real))\n",
        "          z_fake = torch.randn_like(z).detach()\n",
        "          pred_fake = model.discriminator(z_fake)\n",
        "          loss_adv_fake = criterion_adv(pred_fake, torch.zeros_like(pred_fake))\n",
        "          loss_adv = loss_adv_real + loss_adv_fake\n",
        "\n",
        "          # Total loss\n",
        "          optimizer_ae.zero_grad()\n",
        "          optimizer_discriminator.zero_grad()\n",
        "\n",
        "          total_loss = loss_rec + model.lambda_param * loss_adv\n",
        "\n",
        "          # Backward pass\n",
        "          total_loss.backward()\n",
        "\n",
        "          optimizer_ae.step()\n",
        "          optimizer_discriminator.step()\n",
        "\n",
        "          if (it + 1) % plot_every == 0:\n",
        "\n",
        "              iters.append(it)\n",
        "              train_loss_rec.append(float(loss_rec))\n",
        "              train_loss_adv.append(float(loss_adv))\n",
        "\n",
        "\n",
        "              # Optional: Compute and track validation loss\n",
        "              val_loss = 0\n",
        "              val_n = 0\n",
        "              for ((xs, lengths), _) in valid_iter:\n",
        "                zs = model(xs)\n",
        "                zs = torch.permute(zs, (0, 2, 1))\n",
        "                targets = xs[:,1:]\n",
        "                loss = criterion_rec(zs, targets)\n",
        "                val_loss += float(loss)\n",
        "\n",
        "                if val_n == 5:\n",
        "                  break\n",
        "\n",
        "                val_n += 1\n",
        "\n",
        "\n",
        "              val_loss /= val_n\n",
        "              valid_loss.append(val_loss)\n",
        "              print(\"[Iter %d] Rec Loss %f, Adv Loss %f, Valid Loss %f\" % (it + 1, float(loss_rec), float(loss_adv), float(val_loss)))\n",
        "\n",
        "\n",
        "          if it == 100:\n",
        "            break\n",
        "\n",
        "\n",
        "\n",
        "    # Plotting\n",
        "    if make_plot:\n",
        "      plt.figure(figsize=(10, 5))\n",
        "      plt.plot(iters, train_loss_rec, label='Rec Loss')\n",
        "      plt.plot(iters, train_loss_adv, label='Adv Loss')\n",
        "      plt.plot(iters, valid_loss, label='Valid Loss')\n",
        "      plt.legend([\"Reconstruction Loss\", \"Adversarial Loss\", \"Validation Loss\"])\n",
        "      plt.xlabel('Iterations')\n",
        "      plt.ylabel('Loss')\n",
        "      plt.title('Training Losses')\n",
        "      plt.savefig('daae_train.png')\n",
        "      plt.show()\n",
        "\n",
        "\n",
        "    torch.save(model, 'model_daae.pt')\n",
        "\n",
        "\n",
        "\n",
        "# Train the DAAE model\n",
        "train_daae(model)\n"
      ],
      "metadata": {
        "id": "ar_f9WHXGnr5",
        "outputId": "04e359f8-328f-4a99-8734-208b28c4e3c7",
        "colab": {
          "base_uri": "https://localhost:8080/",
          "height": 641
        }
      },
      "execution_count": null,
      "outputs": [
        {
          "output_type": "stream",
          "name": "stdout",
          "text": [
            "[Iter 10] Rec Loss 7.676515, Adv Loss 0.802286, Valid Loss 8.536819\n",
            "[Iter 20] Rec Loss 6.420492, Adv Loss 0.885412, Valid Loss 6.542474\n",
            "[Iter 30] Rec Loss 4.813508, Adv Loss 0.736234, Valid Loss 5.533571\n",
            "[Iter 40] Rec Loss 3.390304, Adv Loss 0.843683, Valid Loss 4.918132\n",
            "[Iter 50] Rec Loss 3.957568, Adv Loss 0.694959, Valid Loss 4.561101\n",
            "[Iter 60] Rec Loss 4.075193, Adv Loss 0.900738, Valid Loss 4.264250\n",
            "[Iter 70] Rec Loss 3.193371, Adv Loss 0.850922, Valid Loss 4.565271\n",
            "[Iter 80] Rec Loss 3.450527, Adv Loss 0.692505, Valid Loss 4.116969\n",
            "[Iter 90] Rec Loss 2.998865, Adv Loss 0.724533, Valid Loss 4.427223\n",
            "[Iter 100] Rec Loss 3.702621, Adv Loss 0.782739, Valid Loss 4.469683\n"
          ]
        },
        {
          "output_type": "display_data",
          "data": {
            "text/plain": [
              "<Figure size 1000x500 with 1 Axes>"
            ],
            "image/png": "[encoded data removed]"
          },
          "metadata": {}
        }
      ]
    },
    {
      "cell_type": "markdown",
      "source": [
        "# Studying the Latent Space Constructed by the Autoencoder"
      ],
      "metadata": {
        "id": "o_uXCP1ZuJSn"
      }
    },
    {
      "cell_type": "code",
      "execution_count": null,
      "metadata": {
        "id": "IQoETJxvhaqP"
      },
      "outputs": [],
      "source": [
        "# Save the model\n",
        "\n",
        "\n",
        "# Load the model\n",
        "# loaded_model = DenoisAdversarialAutoencoder(vocab_size, emb_size, hidden_size, lambda_param)\n",
        "# loaded_model.load_state_dict(torch.load('model.pth'))\n",
        "loaded_model = torch.load(\"model_baseline.pt\")"
      ]
    },
    {
      "cell_type": "code",
      "source": [
        "def l_emb_size_norm(a, b, emb_size):\n",
        "    distance = 0\n",
        "    for i in range(emb_size):\n",
        "        distance += ((a[i].item() - b[i].item()) ** emb_size)\n",
        "    distance ** (1 / emb_size)\n",
        "    return distance"
      ],
      "metadata": {
        "id": "e6P-mOE891ij"
      },
      "execution_count": null,
      "outputs": []
    },
    {
      "cell_type": "code",
      "source": [
        "import gc\n",
        "gc.collect()"
      ],
      "metadata": {
        "colab": {
          "base_uri": "https://localhost:8080/"
        },
        "id": "zlRio_ytCKRf",
        "outputId": "1fc091c4-4bc4-4a63-cac6-0004b2feb65f"
      },
      "execution_count": null,
      "outputs": [
        {
          "output_type": "execute_result",
          "data": {
            "text/plain": [
              "599934"
            ]
          },
          "metadata": {},
          "execution_count": 29
        }
      ]
    },
    {
      "cell_type": "code",
      "source": [
        "import heapq\n",
        "\n",
        "input_embd = torch.tensor([-1.0000, -1.0000, -0.9136,  1.0000, -1.0000,  1.0000, -0.5133, -0.9744,\n",
        "         -1.0000,  0.8250,  0.3641,  1.0000, -1.0000,  0.7279, -0.7730,  1.0000,\n",
        "          1.0000,  0.1633,  0.2159, -0.3960, -0.9996, -0.9841,  0.9816,  1.0000,\n",
        "         -0.4607,  1.0000,  0.9734,  0.1995,  0.9950,  1.0000, -1.0000, -0.9969,\n",
        "         -0.9999, -0.6956, -0.9886, -1.0000, -1.0000, -1.0000,  0.9003, -0.9822,\n",
        "         -0.9932, -0.9944,  0.2616,  0.3027, -0.9998,  1.0000, -1.0000, -0.9834,\n",
        "         -0.5915, -0.5423,  0.8798,  1.0000, -1.0000,  1.0000, -1.0000, -1.0000,\n",
        "         -1.0000,  1.0000,  1.0000, -0.9998, -1.0000, -0.1092,  0.2921, -0.9147,\n",
        "          0.9993, -0.9999, -0.9998, -0.3213,  0.0570,  1.0000, -0.9227,  1.0000,\n",
        "          0.6010, -1.0000, -0.8422,  0.9386, -0.9998,  1.0000,  1.0000,  0.9844,\n",
        "          1.0000, -1.0000, -0.0263,  1.0000,  1.0000,  0.9958,  0.6430,  0.8459,\n",
        "         -1.0000,  1.0000, -0.6944, -0.6967, -1.0000, -1.0000,  0.9893, -1.0000,\n",
        "         -1.0000, -1.0000,  0.9990, -0.9999,  0.7598,  0.9125, -0.9892, -1.0000,\n",
        "         -1.0000, -0.8344, -0.6442,  1.0000, -0.9629, -0.7997, -0.9666, -1.0000,\n",
        "         -1.0000,  0.0574, -1.0000,  1.0000,  0.9998,  1.0000,  1.0000, -1.0000,\n",
        "         -0.9991,  1.0000,  0.5798,  1.0000, -1.0000,  1.0000, -1.0000,  1.0000])\n",
        "\n",
        "\n",
        "def get_similar_titles_approx(query_title, max_dist=9e+29):\n",
        "  train_dataloader = torchtext.data.BucketIterator(train_data, 32,\n",
        "                                            train=True, repeat=True,\n",
        "                                            shuffle=True, device=None)\n",
        "\n",
        "  top_five = []\n",
        "  input_embd = model.encode(query_title)\n",
        "\n",
        "  X = next(iter(train_dataloader)).title[0]\n",
        "\n",
        "  while len(top_five) < 5 and 0 != len(X):\n",
        "      for title in X:\n",
        "          embedding = loaded_model.encode(title)\n",
        "          dist = l_emb_size_norm(input_embd[0], embedding[0], 128) / 1e+35\n",
        "          print(dist)\n",
        "\n",
        "          if dist < max_dist:\n",
        "              top_five.append([embedding, title])\n",
        "\n",
        "      X = next(iter(train_dataloader)).title[0]\n",
        "      gc.collect()\n",
        "\n",
        "  return top_five\n",
        "\n",
        "\n",
        "\n",
        "def get_similar_titles(query_title):\n",
        "  train_iter = torchtext.data.BucketIterator(train_data, 32,\n",
        "                                                   train=True, repeat=True,\n",
        "                                                  shuffle=True, device=None)\n",
        "  top_k = []\n",
        "  heapq.heapify(top_k)\n",
        "  k = 5\n",
        "\n",
        "  input_emb = model.encode(query_title)\n",
        "  print(input_emb)\n",
        "  count = 0\n",
        "  for ((xs, lengths), _) in train_iter:\n",
        "\n",
        "    for title in xs:\n",
        "\n",
        "      embedding = loaded_model.encode(title)\n",
        "      dist = l_emb_size_norm(input_emb[0], embedding[0], 128) / 1e+35\n",
        "\n",
        "      if len(top_k) < 5:\n",
        "        heapq.heappush(top_k, (dist, (embedding, title)))\n",
        "      else:\n",
        "        heapq.heappushpop(top_k, (dist, (embedding, title)))\n",
        "      count += 1\n",
        "\n",
        "      if count == 5000:\n",
        "        return top_k\n",
        "\n",
        "\n",
        "\n",
        "  return top_k\n",
        "\n",
        "\n"
      ],
      "metadata": {
        "id": "ggeLnBOuGUR0"
      },
      "execution_count": null,
      "outputs": []
    },
    {
      "cell_type": "code",
      "source": [
        "def tokens_to_text(tokens):\n",
        "  text = \"\"\n",
        "  for token in tokens:\n",
        "    text += \" {}\".format(vocab.itos[token])\n",
        "  return text[text.index('<bos>') + 5: text.index('<eos>')]\n",
        "\n",
        "\n",
        "\n",
        "train_dataloader = torchtext.data.BucketIterator(train_data, 32,\n",
        "                                            train=True, repeat=True,\n",
        "                                            shuffle=True, device=None)\n",
        "\n",
        "query_title = next(iter(train_dataloader)).title[0][5]\n",
        "query_title_tokens = list(query_title)\n",
        "print(f\"Query Title: {tokens_to_text(query_title_tokens)}\")\n",
        "\n",
        "top_five = get_similar_titles(query_title)\n",
        "\n",
        "\n",
        "print(\"=== RECOMMENDATIONS ===\")\n",
        "for i, (dist, (_, title)) in enumerate(top_five):\n",
        "  title_tokens = list(title)\n",
        "  print(f\"Hit {i + 1}: {tokens_to_text(title_tokens)}, Distance: {dist}\")\n"
      ],
      "metadata": {
        "id": "xZMQphQrK1ox"
      },
      "execution_count": null,
      "outputs": []
    }
  ],
  "metadata": {
    "colab": {
      "provenance": [],
      "gpuType": "T4",
      "include_colab_link": true
    },
    "kernelspec": {
      "display_name": "Python 3",
      "name": "python3"
    },
    "language_info": {
      "name": "python"
    },
    "accelerator": "GPU"
  },
  "nbformat": 4,
  "nbformat_minor": 0
}