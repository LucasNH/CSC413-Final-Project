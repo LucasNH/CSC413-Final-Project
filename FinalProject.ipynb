{
  "cells": [
    {
      "cell_type": "markdown",
      "metadata": {
        "id": "view-in-github",
        "colab_type": "text"
      },
      "source": [
        "<a href=\"https://colab.research.google.com/github/LucasNH/CSC413-Final-Project/blob/main/FinalProject.ipynb\" target=\"_parent\"><img src=\"https://colab.research.google.com/assets/colab-badge.svg\" alt=\"Open In Colab\"/></a>"
      ]
    },
    {
      "cell_type": "code",
      "execution_count": null,
      "metadata": {
        "id": "B5oBvcYdqXxN"
      },
      "outputs": [],
      "source": [
        "# from google.colab import files\n",
        "# files.upload() # Upload your kaggle API Key"
      ]
    },
    {
      "cell_type": "code",
      "execution_count": null,
      "metadata": {
        "id": "cDXnFD7CsGXq"
      },
      "outputs": [],
      "source": [
        "# Installing required packages\n",
        "# !pip install arxiv\n",
        "# !pip install -q kaggle"
      ]
    },
    {
      "cell_type": "code",
      "execution_count": null,
      "metadata": {
        "id": "q4ozHOW-qgYe"
      },
      "outputs": [],
      "source": [
        "# !mkdir -p ~/.kaggle\n",
        "# !mv kaggle.json ~/.kaggle/\n",
        "\n",
        "# !chmod 600 /root/.kaggle/kaggle.json\n",
        "\n",
        "# # Create the directories for original data\n",
        "# !rm -rf ./dataset/\n",
        "# !kaggle datasets download -d Cornell-University/arxiv\n",
        "# !unzip arxiv.zip > /dev/null"
      ]
    },
    {
      "cell_type": "code",
      "execution_count": null,
      "metadata": {
        "id": "c4XtGcrisTHP"
      },
      "outputs": [],
      "source": [
        "# !ls -lah /content/"
      ]
    },
    {
      "cell_type": "markdown",
      "metadata": {
        "id": "AsOtNuu3JzS9"
      },
      "source": [
        "## Part 1\n",
        "\n",
        "Download the files `reuters_train.txt` and `reuters_valid.txt`, and upload them to Google Drive.\n",
        "\n",
        "Then, mount Google Drive from your Google Colab notebook:"
      ]
    },
    {
      "cell_type": "code",
      "execution_count": 1,
      "metadata": {
        "id": "Hr67PSFAOWFE"
      },
      "outputs": [],
      "source": [
        "import torch\n",
        "import torch.nn as nn\n",
        "import torch.nn.functional as F\n",
        "import torch.optim as optim\n",
        "\n",
        "import matplotlib.pyplot as plt\n",
        "import numpy as np\n",
        "import random\n",
        "\n",
        "%matplotlib inline"
      ]
    },
    {
      "cell_type": "code",
      "execution_count": 2,
      "metadata": {
        "colab": {
          "base_uri": "https://localhost:8080/"
        },
        "id": "57FvL2tRNbe2",
        "outputId": "325830a0-b737-4279-84eb-07057f9c8e0c"
      },
      "outputs": [
        {
          "output_type": "stream",
          "name": "stdout",
          "text": [
            "Collecting torchtext==0.6.0\n",
            "  Downloading torchtext-0.6.0-py3-none-any.whl (64 kB)\n",
            "\u001b[2K     \u001b[90m━━━━━━━━━━━━━━━━━━━━━━━━━━━━━━━━━━━━━━━━\u001b[0m \u001b[32m64.2/64.2 kB\u001b[0m \u001b[31m2.2 MB/s\u001b[0m eta \u001b[36m0:00:00\u001b[0m\n",
            "\u001b[?25hRequirement already satisfied: tqdm in /usr/local/lib/python3.10/dist-packages (from torchtext==0.6.0) (4.66.1)\n",
            "Requirement already satisfied: requests in /usr/local/lib/python3.10/dist-packages (from torchtext==0.6.0) (2.31.0)\n",
            "Requirement already satisfied: torch in /usr/local/lib/python3.10/dist-packages (from torchtext==0.6.0) (2.1.0+cu118)\n",
            "Requirement already satisfied: numpy in /usr/local/lib/python3.10/dist-packages (from torchtext==0.6.0) (1.23.5)\n",
            "Requirement already satisfied: six in /usr/local/lib/python3.10/dist-packages (from torchtext==0.6.0) (1.16.0)\n",
            "Collecting sentencepiece (from torchtext==0.6.0)\n",
            "  Downloading sentencepiece-0.1.99-cp310-cp310-manylinux_2_17_x86_64.manylinux2014_x86_64.whl (1.3 MB)\n",
            "\u001b[2K     \u001b[90m━━━━━━━━━━━━━━━━━━━━━━━━━━━━━━━━━━━━━━━━\u001b[0m \u001b[32m1.3/1.3 MB\u001b[0m \u001b[31m33.4 MB/s\u001b[0m eta \u001b[36m0:00:00\u001b[0m\n",
            "\u001b[?25hRequirement already satisfied: charset-normalizer<4,>=2 in /usr/local/lib/python3.10/dist-packages (from requests->torchtext==0.6.0) (3.3.2)\n",
            "Requirement already satisfied: idna<4,>=2.5 in /usr/local/lib/python3.10/dist-packages (from requests->torchtext==0.6.0) (3.6)\n",
            "Requirement already satisfied: urllib3<3,>=1.21.1 in /usr/local/lib/python3.10/dist-packages (from requests->torchtext==0.6.0) (2.0.7)\n",
            "Requirement already satisfied: certifi>=2017.4.17 in /usr/local/lib/python3.10/dist-packages (from requests->torchtext==0.6.0) (2023.11.17)\n",
            "Requirement already satisfied: filelock in /usr/local/lib/python3.10/dist-packages (from torch->torchtext==0.6.0) (3.13.1)\n",
            "Requirement already satisfied: typing-extensions in /usr/local/lib/python3.10/dist-packages (from torch->torchtext==0.6.0) (4.5.0)\n",
            "Requirement already satisfied: sympy in /usr/local/lib/python3.10/dist-packages (from torch->torchtext==0.6.0) (1.12)\n",
            "Requirement already satisfied: networkx in /usr/local/lib/python3.10/dist-packages (from torch->torchtext==0.6.0) (3.2.1)\n",
            "Requirement already satisfied: jinja2 in /usr/local/lib/python3.10/dist-packages (from torch->torchtext==0.6.0) (3.1.2)\n",
            "Requirement already satisfied: fsspec in /usr/local/lib/python3.10/dist-packages (from torch->torchtext==0.6.0) (2023.6.0)\n",
            "Requirement already satisfied: triton==2.1.0 in /usr/local/lib/python3.10/dist-packages (from torch->torchtext==0.6.0) (2.1.0)\n",
            "Requirement already satisfied: MarkupSafe>=2.0 in /usr/local/lib/python3.10/dist-packages (from jinja2->torch->torchtext==0.6.0) (2.1.3)\n",
            "Requirement already satisfied: mpmath>=0.19 in /usr/local/lib/python3.10/dist-packages (from sympy->torch->torchtext==0.6.0) (1.3.0)\n",
            "Installing collected packages: sentencepiece, torchtext\n",
            "  Attempting uninstall: torchtext\n",
            "    Found existing installation: torchtext 0.16.0\n",
            "    Uninstalling torchtext-0.16.0:\n",
            "      Successfully uninstalled torchtext-0.16.0\n",
            "Successfully installed sentencepiece-0.1.99 torchtext-0.6.0\n"
          ]
        }
      ],
      "source": [
        "!pip install torchtext==0.6.0"
      ]
    },
    {
      "cell_type": "code",
      "source": [
        "import gc\n",
        "gc.collect()"
      ],
      "metadata": {
        "id": "frdflkVwIrFb",
        "colab": {
          "base_uri": "https://localhost:8080/"
        },
        "outputId": "e38ac032-5908-4996-e307-1f69f36eede3"
      },
      "execution_count": 3,
      "outputs": [
        {
          "output_type": "execute_result",
          "data": {
            "text/plain": [
              "4"
            ]
          },
          "metadata": {},
          "execution_count": 3
        }
      ]
    },
    {
      "cell_type": "code",
      "execution_count": 4,
      "metadata": {
        "colab": {
          "base_uri": "https://localhost:8080/"
        },
        "id": "OxGcK1xfJ9-l",
        "outputId": "43da3eca-e90b-472b-9688-c2e066749f37"
      },
      "outputs": [
        {
          "output_type": "stream",
          "name": "stdout",
          "text": [
            "Mounted at /content/gdrive\n"
          ]
        }
      ],
      "source": [
        "from google.colab import drive\n",
        "drive.mount('/content/gdrive')\n",
        "\n",
        "\n",
        "\n",
        "# train_path = '/content/gdrive/My Drive/Colab Notebooks/data/arxiv_train.txt'\n",
        "# valid_path = '/content/gdrive/My Drive/Colab Notebooks/data/arxiv_valid.txt'"
      ]
    },
    {
      "cell_type": "code",
      "execution_count": 5,
      "metadata": {
        "id": "GvKfMrNgsMMn"
      },
      "outputs": [],
      "source": [
        "file_path =  '/content/gdrive/MyDrive/Colab Notebooks/data/arxiv.txt'"
      ]
    },
    {
      "cell_type": "markdown",
      "metadata": {
        "id": "IPijuGS6JzS-"
      },
      "source": [
        "We will be using PyTorch's `torchtext` utilities to help us load, process,\n",
        "and batch the data. This package is useful, but takes a bit of time to get\n",
        "used to.\n",
        "\n",
        "We'll be using a `TabularDataset` to load our data, which works well on structured\n",
        "CSV data with fixed columns (e.g. a column for the sequence, a column for the label). Our tabular dataset\n",
        "is even simpler: we have no labels, just some text. So, we are treating our data as a table with one field\n",
        "representing our sequence."
      ]
    },
    {
      "cell_type": "code",
      "execution_count": 6,
      "metadata": {
        "id": "ER2T6iRdJzS-"
      },
      "outputs": [],
      "source": [
        "import torchtext\n",
        "\n",
        "# Tokenization function to separate a headline into words\n",
        "def tokenize_headline(headline):\n",
        "    \"\"\"Returns the sequence of words in the string headline. We also\n",
        "    prepend the \"<bos>\" or beginning-of-string token, and append the\n",
        "    \"<eos>\" or end-of-string token to the headline.\n",
        "    \"\"\"\n",
        "    return (\"<bos> \" + headline + \" <eos>\").split()\n",
        "\n",
        "# Data field (column) representing our *text*.\n",
        "\n",
        "text_field = torchtext.data.Field(\n",
        "    sequential=True,            # this field consists of a sequence\n",
        "    tokenize=tokenize_headline, # how to split sequences into words\n",
        "    include_lengths=True,       # to track the length of sequences, for batching\n",
        "    batch_first=True,           # similar to batch_first=True in nn.RNN demonstrated in lecture\n",
        "    use_vocab=True)             # to turn each character into an integer index\n",
        "\n",
        "full_dataset = torchtext.data.TabularDataset(\n",
        "    path=file_path,                 # data file path\n",
        "    format=\"tsv\",                   # fields are separated by a tab\n",
        "    fields=[('title', text_field)]) # list of fields (we have only one)\n",
        "\n",
        "# Split the dataset into train and validation sets (80/20 split)\n",
        "train_data, val_data = full_dataset.split(split_ratio=0.8)"
      ]
    },
    {
      "cell_type": "markdown",
      "metadata": {
        "id": "mmq5YS2rJzS_"
      },
      "source": [
        "### Part (a) -- 2 points\n",
        "\n",
        "Draw histograms of the number of words per headline in our training set.\n",
        "Excluding the `<bos>` and `<eos>` tags in your computation.\n",
        "Explain why we would be interested in such histograms."
      ]
    },
    {
      "cell_type": "code",
      "execution_count": null,
      "metadata": {
        "colab": {
          "base_uri": "https://localhost:8080/",
          "height": 486
        },
        "id": "70B87MVUJzS_",
        "outputId": "35d0c9c4-0236-496c-df00-0a84f155a594"
      },
      "outputs": [
        {
          "output_type": "stream",
          "name": "stdout",
          "text": [
            "['<bos>', 'The', 'solar', 'wind', 'charge', '-', 'transfer', 'X', '-', 'ray', 'emission', 'in', 'the', '_num_', '/', '_num_', 'keV', 'energy', 'range', ':', 'inferences', 'on', 'Local', 'Bubble', 'hot', 'gas', 'at', 'low', 'Z', '<eos>']\n",
            "['<bos>', 'Face', '-', 'masks', 'save', 'us', 'from', 'SARS', '-', 'CoV', '-', '_num_', 'transmission', '<eos>']\n"
          ]
        },
        {
          "output_type": "display_data",
          "data": {
            "text/plain": [
              "<Figure size 640x480 with 1 Axes>"
            ],
            "image/png": "[encoded data removed]"
          },
          "metadata": {}
        }
      ],
      "source": [
        "# Include your histogram and your written explanations\n",
        "\n",
        "# Here is an example of how to plot a histogram in matplotlib:\n",
        "# plt.hist(np.random.normal(0, 1, 40), bins=)\n",
        "\n",
        "word_counts = [len(x.title) - 2 for x in train_data] # Exclude <bos>, <eos>\n",
        "plt.hist(word_counts, bins=10, range=(0, 40))\n",
        "\n",
        "# Here are some sample code that uses the train_data object:\n",
        "print(train_data[5].title)\n",
        "for example in train_data:\n",
        "    print(example.title)\n",
        "    break"
      ]
    },
    {
      "cell_type": "markdown",
      "metadata": {
        "id": "PJk3wBhDJzS_"
      },
      "source": [
        "### Part (b) -- 2 points\n",
        "\n",
        "How many distinct words appear in the training data?\n",
        "Exclude the `<bos>` and `<eos>` tags in your computation."
      ]
    },
    {
      "cell_type": "code",
      "execution_count": null,
      "metadata": {
        "colab": {
          "base_uri": "https://localhost:8080/"
        },
        "id": "fW7k5B1SJzS_",
        "outputId": "145e912f-5f43-4482-a3b3-6b84f08830b3"
      },
      "outputs": [
        {
          "output_type": "stream",
          "name": "stdout",
          "text": [
            "Distinct Words: 252962\n"
          ]
        }
      ],
      "source": [
        "# Report your values here. Make sure that you report the actual values,\n",
        "# and not just the code used to get those values\n",
        "\n",
        "# You might find the python class Counter from the collections package useful\n",
        "from collections import Counter\n",
        "words_cnt = Counter()\n",
        "for x in train_data:\n",
        "  words_cnt.update(x.title[1:-1])\n",
        "\n",
        "print(f'Distinct Words: {len(words_cnt)}')"
      ]
    },
    {
      "cell_type": "markdown",
      "metadata": {
        "id": "i1EKAI9aJzS_"
      },
      "source": [
        "### Part (c) -- 2 points\n",
        "\n",
        "The distribution of *words* will have a long tail, meaning that there are some words\n",
        "that will appear very often, and many words that will appear infrequently. How many words\n",
        "appear exactly once in the training set? Exactly twice?"
      ]
    },
    {
      "cell_type": "code",
      "execution_count": null,
      "metadata": {
        "colab": {
          "base_uri": "https://localhost:8080/"
        },
        "id": "M_5JJ5RCJzTA",
        "outputId": "438bdb95-dc74-44d9-a1a4-1a38609676fe"
      },
      "outputs": [
        {
          "output_type": "stream",
          "name": "stdout",
          "text": [
            "Appearing Once: ['Kracht', 'BioPlanner', 'xCrxO4', 'Diba', 'LowKey', 'bosonically', 'yConvex', 'PackNet', 'Partion', 'Quickhull']\n",
            "Appearing Twice: ['Ca2Ru1', 'DaaS', 'Colonoscope', 'Konstantinov', 'Rosnav', 'Probabilist', 'Adjointable', 'COSMOLOGIES', 'magnetostrictions', 'Ba4Ir3O10']\n"
          ]
        }
      ],
      "source": [
        "# Report your values here. Make sure that you report the actual values,\n",
        "# and not just the code used to get those values\n",
        "\n",
        "\n",
        "word_freqs = [(word, count) for (word, count) in words_cnt.items()]\n",
        "\n",
        "appear_once = [word for (word, count) in word_freqs if count == 1]\n",
        "appear_twice = [word for (word, count) in word_freqs if count == 2]\n",
        "\n",
        "print(f\"Appearing Once: {appear_once[:10]}\")\n",
        "print(f\"Appearing Twice: {appear_twice[:10]}\")"
      ]
    },
    {
      "cell_type": "markdown",
      "metadata": {
        "id": "VmhkWz_kJzTA"
      },
      "source": [
        "### Part (d) -- 2 points\n",
        "\n",
        "Explain why we may wish to replace these infrequent\n",
        "words with an `<unk>` tag, instead of learning embeddings for these rare words.\n",
        "(Hint: Consider words in the validation set that might not appear in training)"
      ]
    },
    {
      "cell_type": "code",
      "execution_count": null,
      "metadata": {
        "id": "YgeFPNdbJzTA"
      },
      "outputs": [],
      "source": [
        "# Include your explanation here\n",
        "\n",
        "# Words in the validation set that do not appear during training will not have have an associated embeddings.\n",
        "# We can obtain an embedding for thses unseen words by substituting them with <unk>"
      ]
    },
    {
      "cell_type": "markdown",
      "metadata": {
        "id": "ftZ5PnskJzTA"
      },
      "source": [
        "### Part (e) -- 2 points\n",
        "\n",
        "We will only model the top 9995 words in the training set, excluding the tags\n",
        "`<bos>`, `<eos>`, and other possible tags we haven't mentioned yet\n",
        "(including those, we will have a vocabulary size of exactly 10000 tokens).\n",
        "\n",
        "What percentage of word occurrences will be supported? Alternatively, what percentage\n",
        "of word occurrences in the training set will be set to the `<unk>` tag?"
      ]
    },
    {
      "cell_type": "code",
      "execution_count": null,
      "metadata": {
        "colab": {
          "base_uri": "https://localhost:8080/"
        },
        "id": "KHPB4BQcJzTA",
        "outputId": "364eb338-3a4a-4c42-cafe-211147514393"
      },
      "outputs": [
        {
          "output_type": "stream",
          "name": "stdout",
          "text": [
            "Percentage of occurrences supported: 0.9182398984395894\n"
          ]
        }
      ],
      "source": [
        "# Report your values here. Make sure that you report the actual values,\n",
        "# and not just the code used to get those values\n",
        "\n",
        "top_words = words_cnt.most_common(9995)\n",
        "total = len(list(words_cnt.elements()))\n",
        "\n",
        "total_kept = 0\n",
        "for _, cnt in top_words:\n",
        "  total_kept += cnt\n",
        "\n",
        "print(f'Percentage of occurrences supported: {total_kept / total}')"
      ]
    },
    {
      "cell_type": "markdown",
      "metadata": {
        "id": "gKjIXeMcJzTA"
      },
      "source": [
        "Our `torchtext` package will help us keep track of our list of unique words, known\n",
        "as a **vocabulary**. A vocabulary also assigns a unique integer index to each word.\n",
        "You can interpret these indices as sparse representations of one-hot vectors."
      ]
    },
    {
      "cell_type": "code",
      "execution_count": 7,
      "metadata": {
        "colab": {
          "base_uri": "https://localhost:8080/"
        },
        "id": "xy0zlLGtJzTA",
        "outputId": "bcc51c2c-2235-4e22-e5ab-5d3631eaae7b"
      },
      "outputs": [
        {
          "output_type": "stream",
          "name": "stdout",
          "text": [
            "0\n",
            "$\n",
            "10000\n",
            "<unk>\n",
            "<pad>\n"
          ]
        }
      ],
      "source": [
        "# Build the vocabulary based on the training data. The vocabulary\n",
        "# can have at most 9997 words (9995 words + the <bos> and <eos> token)\n",
        "text_field.build_vocab(train_data, max_size=9997)\n",
        "\n",
        "# This vocabulary object will be helpful for us\n",
        "vocab = text_field.vocab\n",
        "print(vocab.stoi[\"hello\"]) # for instances, we can convert from string to (unique) index\n",
        "print(vocab.itos[10])      # ... and from word index to string\n",
        "\n",
        "\n",
        "# The size of our vocabulary is actually 10000\n",
        "vocab_size = len(text_field.vocab.stoi)\n",
        "print(vocab_size) # should be 10000\n",
        "\n",
        "\n",
        "# The reason is that torchtext adds two more tokens for us:\n",
        "print(vocab.itos[0]) # <unk> represents an unknown word not in our vocabulary\n",
        "print(vocab.itos[1]) # <pad> will be used to pad short sequences for batching"
      ]
    },
    {
      "cell_type": "markdown",
      "metadata": {
        "id": "Yp8DEK0uNOHG"
      },
      "source": [
        "## Question 2\n",
        "\n",
        "Building a text autoencoder is a little more complicated than an image autoencoder, so\n",
        "we'll need to thoroughly understand the model that we want to build before actually building\n",
        "our model. Note that the best and fastest way to complete this assignment is to spend a *lot*\n",
        "of time upfront understanding the architecture. The explanations are quite dense, and you\n",
        "might need to stop every sentence or two to understand what's going on.\n",
        "You won't feel productive for a while since you won't be writing code,\n",
        "but this initial investment will help you become more productive later on.\n",
        "Understanding this architecture will also help you understand other machine learning\n",
        "papers you might come across. So, take a deep breath, and let's do this!\n",
        "\n",
        "Here is a diagram showing our desired architecture:\n",
        "\n",
        "![](https://github.com/LucasNH/CSC413-Final-Project/blob/model-training/p4model.png?raw=1){ width=90% }\n",
        "\n",
        "<img src=\"https://github.com/LucasNH/CSC413-Final-Project/blob/model-training/p4model.png?raw=1\" width=\"95%\" />\n",
        "\n",
        "There are two main components to the model: the **encoder** and the **decoder**.\n",
        "As always with neural networks, we'll first describe how to make\n",
        "**predictions** with of these components. Let's get started:\n",
        "\n",
        "The **encoder** will take a sequence of words (a headline) as *input*, and produce an\n",
        "embedding (a vector) that represents the entire headline. In the diagram above,\n",
        "the vector ${\\bf h}^{(7)}$ is the vector embedding containing information about\n",
        "the entire headline.  This portion is very similar\n",
        "to the sentiment analysis RNN that we discussed in lecture (but without the fully-connected\n",
        "layer that makes a prediction).\n",
        "\n",
        "The **decoder** will take an embedding (in the diagram, the vector ${\\bf h}^{(7)}$) as input,\n",
        "and uses a separate RNN to **generate a sequence of words**. To generate a sequence of words,\n",
        "the decoder needs to do the following:\n",
        "\n",
        "1) Determine the previous word that was generated. This previous word will act as ${\\bf x}^{(t)}$\n",
        "   to our RNN, and will be used to update the hidden state ${\\bf m}^{(t)}$. Since each of our\n",
        "   sequences begin with the `<bos>` token, we'll set ${\\bf x}^{(1)}$ to be the `<bos>` token.\n",
        "2) Compute the updates to the hidden state ${\\bf m}^{(t)}$ based on the previous hidden state\n",
        "   ${\\bf m}^{(t-1)}$ and ${\\bf x}^{(t)}$. Intuitively, this hidden state vector ${\\bf m}^{(t)}$\n",
        "   is a representation of *all the words we still need to generate*.\n",
        "3) We'll use a fully-connected layer to take a hidden state ${\\bf m}^{(t)}$, and determine\n",
        "   *what the next word should be*. This fully-connected layer solves a *classification problem*,\n",
        "   since we are trying to choose a word out of $K=10000$ distinct words. As in a classification\n",
        "   problem, the fully-connected neural network will compute a *probability distribution* over\n",
        "   these 10,000 words. In the diagram, we are using ${\\bf z}^{(t)}$ to represent the logits,\n",
        "   or the pre-softmax activation values representing the probability distribution.\n",
        "4) We will need to *sample* an actual word from this probability distribution ${\\bf z}^{(t)}$.\n",
        "   We can do this in a number of ways, which we'll discuss in question 3. For now, you can\n",
        "   imagine your favourite way of picking a word given a distribution over words.\n",
        "5) This word we choose will become the next input ${\\bf x}^{(t+1)}$ to our RNN, which is used\n",
        "   to update our hidden state ${\\bf m}^{(t+1)}$---i.e. to determine what are the remaining\n",
        "   words to be generated.\n",
        "\n",
        "We can repeat this process until we see an `<eos>` token generated, or until the generated\n",
        "sequence becomes too long.\n",
        "\n",
        "Unfortunately, we can't *train* this autoencoder in the way we just described. That is,\n",
        "we can't just compare our generated sequence with our ground-truth sequence, and get\n",
        "gradients. Both sequences are **discrete** entities, so we won't be able to compute\n",
        "gradients at all! In particular, **sampling is a discrete process**, and so we won't be\n",
        "able to back-propagate through any kind of sampling that we do.\n",
        "\n",
        "You might wonder whether we can get away with computing gradients by comparing the\n",
        "distributions ${\\bf z}^{(t)}$ with the ground truth words at each time step. Like any\n",
        "multi-class classification problem, we can represent the ground-truth words as a one-hot\n",
        "vector, and use the cross-entropy loss.\n",
        "\n",
        "In theory, we can do this. In practice, there are a few issues. One is that the generated\n",
        "sequence might be longer or shorter than the actual sequence, meaning that there may\n",
        "be more/fewer ${\\bf z}^{(t)}$s than ground-truth words. Another more insidious issue\n",
        "is that the **gradients will become very high-variance and unstable**, because\n",
        "**early mistakes will easily throw the model off-track**. Early in training,\n",
        "our model is unlikely to produce the right answer in step $t=1$, so the gradients\n",
        "we obtain based on the other time steps will not be very useful.\n",
        "\n",
        "At this point, you might have some ideas about \"hacks\" we can use to make training\n",
        "work. Fortunately, there is one very well-established solution called\n",
        "**teacher forcing** which we can use for training:\n",
        "instead of *sampling* the next word based on ${\\bf z}^{(t)}$, we will forgo sampling,\n",
        "and use the **ground truth** ${\\bf x}^{(t)}$ in the next step.\n",
        "\n",
        "Here is a diagram showing how we can use **teacher forcing** to train our model:\n",
        "\n",
        "![](https://github.com/LucasNH/CSC413-Final-Project/blob/model-training/p4model_tf.png?raw=1){ width=90% }\n",
        "\n",
        "<img src=\"https://github.com/LucasNH/CSC413-Final-Project/blob/model-training/p4model_tf.png?raw=1\" width=\"95%\" />\n",
        "\n",
        "We will use the RNN generator to compute the logits\n",
        "${\\bf z}^{(1)},{\\bf z}^{(2)},  \\cdots {\\bf z}^{(T)}$. These distributions\n",
        "can be compared to the ground-truth words using the cross-entropy loss.\n",
        "The loss function for this model will be the sum of the losses across each $t$.\n",
        "(This is similar to what we did in a pixel-wise prediction problem.)\n",
        "\n",
        "We'll train the encoder and decoder model simultaneously. There are several components\n",
        "to our model that contain tunable weights:\n",
        "\n",
        "- The word embedding that maps a word to a vector representation.\n",
        "  In theory, we could use GloVe embeddings, or initialize our parameters to\n",
        "  GloVe embeddings. To prevent students who don't have Colab access\n",
        "  from having to download a 1GB file, we won't do that.\n",
        "  The word embedding component is represented with blue arrows in the diagram.\n",
        "- The encoder RNN (which will use Gated Recurrent Units) that computes the\n",
        "  embedding over the entire headline. The encoder RNN\n",
        "  is represented with black arrows in the diagram.\n",
        "- The decoder RNN (which will also use Gated Recurrent Units) that computes\n",
        "  hidden states, which are vectors representing what words are to be generated.\n",
        "  The decoder RNN is represented with gray arrows in the diagram.\n",
        "- The **projection MLP** (one fully-connected layer) that computes\n",
        "  a distribution over the next word to generate, given a decoder RNN hidden\n",
        "  state.\n"
      ]
    },
    {
      "cell_type": "markdown",
      "metadata": {
        "id": "1b1T26K9VWUS"
      },
      "source": [
        "### Part (a) -- 10 pts\n",
        "\n",
        "Complete the code for the AutoEncoder class below by:\n",
        "\n",
        "1. Filling in the missing numbers in the `__init__` method using\n",
        "   the parameters `vocab_size`, `emb_size`, and `hidden_size`. (4 points)\n",
        "2. Complete the `forward` method, which uses teacher forcing\n",
        "   and computes the logits $z^{(t)}$ of the reconstruction of\n",
        "   the sequence. (4 points)\n",
        "\n",
        "You should first try to understand the `encode` and `decode` methods,\n",
        "which are written for you. The `encode` method mimics a discriminative\n",
        "RNN (see the sentiment analysis notebook).  The `decode` method is\n",
        "a generative RNN and is a bit more complex (see the text generation\n",
        "tutorial notebook).  You might want to scroll down to the\n",
        "`sample_sequence` function to see how this function will be called.\n",
        "\n",
        "You can (but don't have to) use the `encode` and `decode` method in\n",
        "your `forward` method. In either case, be very careful of the input\n",
        "that you feed into ether `decode` or to `self.decoder_rnn`.\n",
        "Refer to the teacher-forcing diagram."
      ]
    },
    {
      "cell_type": "code",
      "execution_count": 8,
      "metadata": {
        "id": "Sb4_VBvHNOHG"
      },
      "outputs": [],
      "source": [
        "class AutoEncoder(nn.Module):\n",
        "    def __init__(self, vocab_size, emb_size, hidden_size):\n",
        "        \"\"\"\n",
        "        A text autoencoder. The parameters\n",
        "            - vocab_size: number of unique words/tokens in the vocabulary\n",
        "            - emb_size: size of the word embeddings $x^{(t)}$\n",
        "            - hidden_size: size of the hidden states in both the\n",
        "                           encoder RNN ($h^{(t)}$) and the\n",
        "                           decoder RNN ($m^{(t)}$)\n",
        "        \"\"\"\n",
        "        super().__init__()\n",
        "        self.embed = nn.Embedding(num_embeddings=vocab_size, # TODO\n",
        "                                  embedding_dim=emb_size)  # TODO\n",
        "        self.encoder_rnn = nn.GRU(input_size=emb_size, #TODO\n",
        "                                  hidden_size=hidden_size, #TODO\n",
        "                                  batch_first=True)\n",
        "        self.decoder_rnn = nn.GRU(input_size=emb_size, #TODO\n",
        "                                  hidden_size=hidden_size, #TODO\n",
        "                                  batch_first=True)\n",
        "        self.proj = nn.Linear(in_features=hidden_size, # TODO\n",
        "                              out_features=vocab_size) # TODO\n",
        "\n",
        "    def encode(self, inp):\n",
        "        \"\"\"\n",
        "        Computes the encoder output given a sequence of words.\n",
        "        \"\"\"\n",
        "        emb = self.embed(inp)\n",
        "        out, last_hidden = self.encoder_rnn(emb)\n",
        "        return last_hidden\n",
        "\n",
        "    def decode(self, inp, hidden=None):\n",
        "        \"\"\"\n",
        "        Computes the decoder output given a sequence of words, and\n",
        "        (optionally) an initial hidden state.\n",
        "        \"\"\"\n",
        "        emb = self.embed(inp)\n",
        "        out, last_hidden = self.decoder_rnn(emb, hidden)\n",
        "        out_seq = self.proj(out)\n",
        "        return out_seq, last_hidden\n",
        "\n",
        "    def forward(self, inp):\n",
        "        \"\"\"\n",
        "        Compute both the encoder and decoder forward pass\n",
        "        given an integer input sequence inp with shape [batch_size, seq_length],\n",
        "        with inp[a,b] representing the (index in our vocabulary of) the b-th word\n",
        "        of the a-th training example.\n",
        "\n",
        "        This function should return the logits $z^{(t)}$ in a tensor of shape\n",
        "        [batch_size, seq_length - 1, vocab_size], computed using *teaching forcing*.\n",
        "\n",
        "        The (seq_length - 1) part is not a typo. If you don't understand why\n",
        "        we need to subtract 1, refer to the teacher-forcing diagram above.\n",
        "        \"\"\"\n",
        "\n",
        "        last_hidden = self.encode(inp)\n",
        "        # print(last_hidden.shape) # Should be [1, batch_size, hidden_size]\n",
        "\n",
        "        # Why do we have L - 1 logits?\n",
        "        # We do not pass the <eos> token to the Autoencoder, as there is no\n",
        "        # \"next word\" to sample.\n",
        "\n",
        "        out_seq, last_hidden = self.decode(inp, last_hidden)\n",
        "        # print(out_seq.shape) # should be [batch_size, seq_length, vocab_size]\n",
        "\n",
        "        return out_seq[:, :-1, :]"
      ]
    },
    {
      "cell_type": "code",
      "source": [],
      "metadata": {
        "id": "5CFQmurEBql2"
      },
      "execution_count": null,
      "outputs": []
    },
    {
      "cell_type": "code",
      "execution_count": 9,
      "metadata": {
        "colab": {
          "base_uri": "https://localhost:8080/"
        },
        "id": "ur-7r4v9WFnZ",
        "outputId": "5cf7b04b-ac90-4d52-9e12-c582f41bcc23"
      },
      "outputs": [
        {
          "output_type": "stream",
          "name": "stdout",
          "text": [
            "torch.Size([1, 100, 128])\n",
            "torch.Size([100, 42, 10000])\n"
          ]
        }
      ],
      "source": [
        "# Emulating the forward pass on a batch of examples\n",
        "\n",
        "model = AutoEncoder(vocab_size, 128, 128)\n",
        "# Load the dataset in batches of 100 examples\n",
        "train_dataloader = torchtext.data.Iterator(train_data, 100,\n",
        "                                           train=True, repeat=True,\n",
        "                                           shuffle=True, device=None)\n",
        "\n",
        "X = next(iter(train_dataloader)).title[0]\n",
        "# print(X.shape)\n",
        "last_hidden = model.encode(X)\n",
        "\n",
        "print(last_hidden.shape) # Remove 1 in dim 0\n",
        "\n",
        "out_seq, last_hidden = model.decode(X, last_hidden)\n",
        "print(out_seq.shape)\n",
        "\n",
        "\n"
      ]
    },
    {
      "cell_type": "code",
      "source": [
        "print(X[0])"
      ],
      "metadata": {
        "id": "OS1GlZVYBtqe",
        "outputId": "f07483cf-f41f-46b4-a2ba-e22781592c2e",
        "colab": {
          "base_uri": "https://localhost:8080/"
        }
      },
      "execution_count": 19,
      "outputs": [
        {
          "output_type": "stream",
          "name": "stdout",
          "text": [
            "tensor([   2,   20,  469,    4,   55,    4, 6706,    0,  442,    5, 1060,   21,\n",
            "         395, 1057,    3,    1,    1,    1,    1,    1,    1,    1,    1,    1,\n",
            "           1,    1,    1,    1,    1,    1,    1,    1,    1,    1,    1,    1,\n",
            "           1,    1,    1,    1,    1,    1,    1,    1,    1])\n"
          ]
        }
      ]
    },
    {
      "cell_type": "markdown",
      "metadata": {
        "id": "Ebrpb2RcNOHG"
      },
      "source": [
        "### Part (b) -- 5 pts\n",
        "\n",
        "To check that your model is set up correctly, we'll train our AutoEncoder\n",
        "neural network for at least 300 iterations to memorize this sequence:"
      ]
    },
    {
      "cell_type": "markdown",
      "metadata": {
        "id": "bieULfbzNOHG"
      },
      "source": [
        "We are looking for the way that you set up your loss function\n",
        "corresponding to the figure above.\n",
        "**Be very careful of off-by-ones.**\n",
        "\n",
        "Note that the Cross Entropy Loss expects a rank-2 tensor as its first\n",
        "argument, and a rank-1 tensor as its second argument. You will\n",
        "need to properly reshape your data to be able to compute the loss."
      ]
    },
    {
      "cell_type": "code",
      "execution_count": null,
      "metadata": {
        "id": "1lqYG47jNOHG",
        "colab": {
          "base_uri": "https://localhost:8080/"
        },
        "outputId": "e2339ad0-c115-4dae-c5ed-46c52f9cdeba"
      },
      "outputs": [
        {
          "output_type": "stream",
          "name": "stdout",
          "text": [
            "[Iter 50] Loss 3.258146\n",
            "[Iter 100] Loss 2.243639\n",
            "[Iter 150] Loss 2.378978\n",
            "[Iter 200] Loss 1.965921\n",
            "[Iter 250] Loss 2.597827\n",
            "[Iter 300] Loss 2.827451\n"
          ]
        }
      ],
      "source": [
        "training = True\n",
        "if training:\n",
        "    model = AutoEncoder(vocab_size, 128, 128)\n",
        "    optimizer = optim.Adam(model.parameters(), lr=0.001)\n",
        "    criterion = nn.CrossEntropyLoss()\n",
        "\n",
        "    batch_stream = iter(train_dataloader)\n",
        "\n",
        "    for it in range(300):\n",
        "        optimizer.zero_grad()\n",
        "        # Get a batch of examples. The shape is [B, L]\n",
        "        X = next(batch_stream).title[0]\n",
        "        logits = model.forward(X) # output logits from the decoder [B, L - 1, vocab_size]\n",
        "        logits = torch.permute(logits, (0, 2, 1)) # correct shape for loss fn is [B, vocab_size, L - 1]\n",
        "        targets = X[:,1:] # Shape is [B, L - 1] (we don't generate the first token in the input sequence, <bos>)\n",
        "\n",
        "        # TODO\n",
        "        loss = criterion(logits, targets)\n",
        "        loss.backward()\n",
        "        optimizer.step()\n",
        "\n",
        "        if (it+1) % 50 == 0:\n",
        "            print(\"[Iter %d] Loss %f\" % (it+1, float(loss)))"
      ]
    },
    {
      "cell_type": "markdown",
      "metadata": {
        "id": "qpx5r7LSwr5c"
      },
      "source": [
        "# Denoising Autoencoder\n"
      ]
    },
    {
      "cell_type": "markdown",
      "metadata": {
        "id": "n_xlIA4zxQGJ"
      },
      "source": [
        "### Part (b) -- 2pt\n",
        "\n",
        "We will add noise to our headlines using a few different techniques:\n",
        "\n",
        "1. Shuffle the words in the headline, taking care that words don't end up too far from where they were initially\n",
        "2. Drop (remove) some words\n",
        "3. Replace some words with a blank word (a `<pad>` token)\n",
        "4. Replace some words with a random word\n",
        "\n",
        "The code for adding these types of noise is provided for you:\n"
      ]
    },
    {
      "cell_type": "code",
      "execution_count": 23,
      "metadata": {
        "id": "tAMl3bRnu5MJ"
      },
      "outputs": [],
      "source": [
        "import torch\n",
        "\n",
        "def tokenize_and_randomize(headline,\n",
        "                           drop_prob=0.1,\n",
        "                           blank_prob=0.1,\n",
        "                           sub_prob=0.1,\n",
        "                           shuffle_dist=3):\n",
        "    n = headline.size(1)\n",
        "\n",
        "    # shuffle\n",
        "    shuffled_indices = get_shuffle_index(n, shuffle_dist)\n",
        "    title = headline[:, shuffled_indices]\n",
        "\n",
        "    new_title = torch.ones_like(title) * vocab.stoi['<bos>']\n",
        "\n",
        "    # Iterate through each word in the shuffled title\n",
        "    for i in range(1, n ):\n",
        "        w = title[:, i - 1]\n",
        "        if random.random() < drop_prob:\n",
        "            # drop the word\n",
        "            pass\n",
        "        elif random.random() < blank_prob:\n",
        "            # replace with blank word\n",
        "            new_title[:, i] = vocab.stoi[\"<pad>\"]\n",
        "        elif random.random() < sub_prob:\n",
        "            # substitute word with another word\n",
        "            new_title[:, i] = torch.randint(0, len(vocab), size=(headline.size(0),))\n",
        "        else:\n",
        "            # keep the original word\n",
        "            new_title[:, i] = w\n",
        "\n",
        "\n",
        "\n",
        "    return new_title\n",
        "\n",
        "\n",
        "def get_shuffle_index(n, max_shuffle_distance):\n",
        "    \"\"\" This is a helper function used to shuffle a headline with n words,\n",
        "    where each word is moved at most max_shuffle_distance. The function does\n",
        "    the following:\n",
        "       1. start with the *unshuffled* index of each word, which\n",
        "          is just the values [0, 1, 2, ..., n]\n",
        "       2. perturb these \"index\" values by a random floating-point value between\n",
        "          [0, max_shuffle_distance]\n",
        "       3. use the sorted position of these values as our new index\n",
        "    \"\"\"\n",
        "    index = np.arange(n)\n",
        "    perturbed_index = index + np.random.rand(n) * 3\n",
        "    new_index = sorted(enumerate(perturbed_index), key=lambda x: x[1])\n",
        "    return [index for (index, pert) in new_index]"
      ]
    },
    {
      "cell_type": "code",
      "source": [
        "vocab.stoi['<bos>']"
      ],
      "metadata": {
        "id": "BzX45rlWCMFX",
        "outputId": "89343a96-343e-439d-a42b-a7e6cc763fa0",
        "colab": {
          "base_uri": "https://localhost:8080/"
        }
      },
      "execution_count": 22,
      "outputs": [
        {
          "output_type": "execute_result",
          "data": {
            "text/plain": [
              "2"
            ]
          },
          "metadata": {},
          "execution_count": 22
        }
      ]
    },
    {
      "cell_type": "code",
      "execution_count": 11,
      "metadata": {
        "id": "YaZ9Is5Mwxvz"
      },
      "outputs": [],
      "source": [
        "import torch\n",
        "import torch.nn as nn\n",
        "import torch.optim as optim\n",
        "\n",
        "class AdversarialAutoencoder(nn.Module):\n",
        "    def __init__(self, vocab_size, emb_size, hidden_size, lambda_param):\n",
        "        super().__init__()\n",
        "\n",
        "        # Encoder, Decoder, and Discriminator from the provided AutoEncoder class\n",
        "        self.autoencoder = AutoEncoder(vocab_size, emb_size, hidden_size)\n",
        "\n",
        "        # Discriminator network\n",
        "        self.discriminator = nn.Sequential(\n",
        "            nn.Linear(hidden_size, 1),\n",
        "            nn.Sigmoid()\n",
        "        )\n",
        "\n",
        "        self.lambda_param = lambda_param\n",
        "\n",
        "    def encode(self, inp):\n",
        "        return self.autoencoder.encode(inp)\n",
        "\n",
        "    def decode(self, inp, hidden=None):\n",
        "        return self.autoencoder.decode(inp, hidden)\n",
        "\n",
        "    def forward(self, inp):\n",
        "        return self.autoencoder(inp)\n",
        "\n",
        "\n",
        "\n",
        " # Replace with your actual vocabulary size\n",
        "emb_size = 128  # Replace with your desired embedding size\n",
        "hidden_size = 128  # Replace with your desired hidden size\n",
        "lambda_param = 0.1  # Replace with your desired lambda value\n",
        "\n",
        "\n",
        "model = AdversarialAutoencoder(vocab_size, 128, 128,lambda_param)"
      ]
    },
    {
      "cell_type": "code",
      "source": [
        "import torch\n",
        "import torch.optim as optim\n",
        "import torch.nn.functional as F\n",
        "import matplotlib.pyplot as plt\n",
        "\n",
        "def train_aae(model, batch_size=32, iterations=300, plot_every=50):\n",
        "    # Setup reconstruction and adversarial loss functions\n",
        "    optimizer_ae = optim.Adam(model.autoencoder.parameters(), lr=0.001)\n",
        "    optimizer_discriminator = optim.Adam(model.discriminator.parameters(), lr=0.001)\n",
        "    criterion_ae = nn.CrossEntropyLoss()\n",
        "    criterion_adv = nn.BCELoss()\n",
        "\n",
        "    train_dataloader = torchtext.data.BucketIterator(train_data, 32,\n",
        "                                           train=True, repeat=True,\n",
        "                                           sort_key=lambda x: len(x.title),\n",
        "                                           device=None)\n",
        "\n",
        "    batch_stream = iter(train_dataloader)\n",
        "\n",
        "    iters, train_loss_ae, train_loss_adv = [], [], []\n",
        "    for it in range(iterations):\n",
        "        X = next(batch_stream).title[0]\n",
        "\n",
        "        # Forward pass through autoencoder\n",
        "        logits = model(X)\n",
        "        logits_permuted = logits.permute(0, 2, 1)  # Use .permute() instead of torch.permute()\n",
        "\n",
        "        # Reconstruction loss\n",
        "        targets = X[:, 1:]\n",
        "        loss_ae = criterion_ae(logits_permuted, targets)\n",
        "\n",
        "        # Adversarial loss\n",
        "        z = model.encode(X)\n",
        "        pred_real = model.discriminator(z)\n",
        "        loss_adv_real = criterion_adv(pred_real, torch.ones_like(pred_real))\n",
        "        z_fake = torch.randn_like(z).detach()  # Detach z_fake to avoid in-place modification\n",
        "        pred_fake = model.discriminator(z_fake)\n",
        "        loss_adv_fake = criterion_adv(pred_fake, torch.zeros_like(pred_fake))\n",
        "        loss_adv = loss_adv_real + loss_adv_fake\n",
        "\n",
        "        # Total loss\n",
        "        optimizer_ae.zero_grad()\n",
        "        optimizer_discriminator.zero_grad()\n",
        "\n",
        "\n",
        "        total_loss = loss_ae - model.lambda_param * loss_adv\n",
        "         # Minus because we want to maximize the objective\n",
        "\n",
        "        # Backward pass\n",
        "        total_loss.backward()\n",
        "\n",
        "        optimizer_ae.step()\n",
        "\n",
        "\n",
        "\n",
        "        optimizer_discriminator.step()\n",
        "\n",
        "\n",
        "\n",
        "\n",
        "        if (it + 1) % plot_every == 0:\n",
        "            print(\"[Iter %d] AE Loss %f, Adv Loss %f\" % (it + 1, float(loss_ae), float(loss_adv)))\n",
        "            iters.append(it)\n",
        "            train_loss_ae.append(loss_ae)\n",
        "            train_loss_adv.append(loss_adv)\n",
        "\n",
        "\n",
        "\n",
        "train_aae(model)"
      ],
      "metadata": {
        "colab": {
          "base_uri": "https://localhost:8080/"
        },
        "id": "MoXQxLOhG3Gn",
        "outputId": "8bfd0e0a-3729-4e61-b984-b560a9171308"
      },
      "execution_count": null,
      "outputs": [
        {
          "output_type": "stream",
          "name": "stdout",
          "text": [
            "[Iter 50] AE Loss 1.772286, Adv Loss 12.333974\n",
            "[Iter 100] AE Loss 2.292101, Adv Loss 18.960308\n",
            "[Iter 150] AE Loss 3.717732, Adv Loss 25.263441\n",
            "[Iter 200] AE Loss 2.246287, Adv Loss 30.609144\n",
            "[Iter 250] AE Loss 1.986056, Adv Loss 31.674114\n",
            "[Iter 300] AE Loss 2.011442, Adv Loss 32.030964\n"
          ]
        }
      ]
    },
    {
      "cell_type": "code",
      "source": [
        "train_dataloader = torchtext.data.BucketIterator(train_data, 32,\n",
        "                                        train=True, repeat=True,\n",
        "                                        sort_key=lambda x: len(x.title),\n",
        "                                        device=None)\n",
        "\n",
        "batch_stream = iter(train_dataloader)\n",
        "\n",
        "iters, train_loss_rec, train_loss_adv = [], [], []\n",
        "for it in range(300):\n",
        "    X = next(batch_stream).title[0]\n",
        "    preturbed = tokenize_and_randomize(X)\n",
        "    print(preturbed[0], len(preturbed[0]))\n",
        "    print('-----------------------------')\n",
        "    print(X[0], len(X[0]))\n",
        "    break\n",
        "\n"
      ],
      "metadata": {
        "id": "UFXq-awYWeDQ",
        "outputId": "d7e4222f-5c44-432d-9c0e-82a4e9969f30",
        "colab": {
          "base_uri": "https://localhost:8080/"
        }
      },
      "execution_count": 26,
      "outputs": [
        {
          "output_type": "stream",
          "name": "stdout",
          "text": [
            "tensor([   2,    2,    0,   12,    2, 1107,   12, 4381,    8, 2495,    4,  191,\n",
            "           2,   66, 8292,    1,    1,    1,    1,    1,    1,    1]) 22\n",
            "-----------------------------\n",
            "tensor([   2,    0,   12,   27,   12,   11, 4381,    8, 2495,    4,   66,  191,\n",
            "           3,    1,    1,    1,    1,    1,    1,    1,    1,    1]) 22\n"
          ]
        }
      ]
    },
    {
      "cell_type": "code",
      "source": [
        "import torch\n",
        "import torch.optim as optim\n",
        "import torch.nn as nn\n",
        "import torch.nn.functional as F\n",
        "import torchtext\n",
        "import matplotlib.pyplot as plt\n",
        "\n",
        "def train_daae(model, perturbation_function, batch_size=32, iterations=300, plot_every=50):\n",
        "    optimizer_ae = optim.Adam(model.autoencoder.parameters(), lr=0.001)\n",
        "    optimizer_discriminator = optim.Adam(model.discriminator.parameters(), lr=0.001)\n",
        "    criterion_rec = nn.CrossEntropyLoss()\n",
        "    criterion_adv = nn.BCELoss()\n",
        "\n",
        "    train_dataloader = torchtext.data.BucketIterator(train_data, batch_size,\n",
        "                                           train=True, repeat=True,\n",
        "                                           sort_key=lambda x: len(x.title),\n",
        "                                           device=None)\n",
        "\n",
        "    batch_stream = iter(train_dataloader)\n",
        "\n",
        "    iters, train_loss_rec, train_loss_adv = [], [], []\n",
        "    for it in range(iterations):\n",
        "        X = next(batch_stream).title[0]\n",
        "\n",
        "\n",
        "        # Perturb the input\n",
        "        X_perturbed = tokenize_and_randomize(X)\n",
        "       # Forward pass through autoencoder\n",
        "        logits = model(X_perturbed)\n",
        "        logits_permuted = logits.permute(0, 2, 1)\n",
        "\n",
        "        # Reconstruction loss\n",
        "        loss_rec = criterion_rec(logits_permuted, X[:, 1:])\n",
        "\n",
        "        # Adversarial loss\n",
        "        z = model.encode(X)\n",
        "        pred_real = model.discriminator(z)\n",
        "        loss_adv_real = criterion_adv(pred_real, torch.ones_like(pred_real))\n",
        "        z_fake = torch.randn_like(z).detach()\n",
        "        pred_fake = model.discriminator(z_fake)\n",
        "        loss_adv_fake = criterion_adv(pred_fake, torch.zeros_like(pred_fake))\n",
        "        loss_adv = loss_adv_real + loss_adv_fake\n",
        "\n",
        "        # Total loss\n",
        "        optimizer_ae.zero_grad()\n",
        "        optimizer_discriminator.zero_grad()\n",
        "\n",
        "        total_loss = loss_rec + model.lambda_param * loss_adv\n",
        "\n",
        "        # Backward pass\n",
        "        total_loss.backward()\n",
        "\n",
        "        optimizer_ae.step()\n",
        "        optimizer_discriminator.step()\n",
        "\n",
        "        if (it + 1) % plot_every == 0:\n",
        "            print(\"[Iter %d] Rec Loss %f, Adv Loss %f\" % (it + 1, float(loss_rec), float(loss_adv)))\n",
        "            iters.append(it)\n",
        "            train_loss_rec.append(loss_rec.item())\n",
        "            train_loss_adv.append(loss_adv.item())\n",
        "\n",
        "    # Plotting\n",
        "    plt.figure(figsize=(10, 5))\n",
        "    plt.plot(iters, train_loss_rec, label='Rec Loss')\n",
        "    plt.plot(iters, train_loss_adv, label='Adv Loss')\n",
        "    plt.legend()\n",
        "    plt.xlabel('Iterations')\n",
        "    plt.ylabel('Loss')\n",
        "    plt.title('Training Losses')\n",
        "    plt.show()\n",
        "\n",
        "\n",
        "\n",
        "# Train the DAAE model\n",
        "train_daae(model, tokenize_and_randomize)\n"
      ],
      "metadata": {
        "id": "ar_f9WHXGnr5",
        "outputId": "6c5b3620-357c-4639-af76-f3b46747ae04",
        "colab": {
          "base_uri": "https://localhost:8080/",
          "height": 591
        }
      },
      "execution_count": 28,
      "outputs": [
        {
          "output_type": "stream",
          "name": "stdout",
          "text": [
            "[Iter 50] Rec Loss 4.254242, Adv Loss 0.686099\n",
            "[Iter 100] Rec Loss 3.555929, Adv Loss 0.655234\n",
            "[Iter 150] Rec Loss 3.132878, Adv Loss 0.651228\n",
            "[Iter 200] Rec Loss 2.772278, Adv Loss 0.665369\n",
            "[Iter 250] Rec Loss 3.710874, Adv Loss 0.650476\n",
            "[Iter 300] Rec Loss 3.606711, Adv Loss 0.639391\n"
          ]
        },
        {
          "output_type": "display_data",
          "data": {
            "text/plain": [
              "<Figure size 1000x500 with 1 Axes>"
            ],
            "image/png": "[encoded data removed]"
          },
          "metadata": {}
        }
      ]
    },
    {
      "cell_type": "code",
      "source": [
        "def train_model(model, batch_size=32, iterations=300, plot_every=50):\n",
        "\n",
        "  # Setup reconstruction loss function\n",
        "  optimizer = optim.Adam(model.parameters(), lr=0.001)\n",
        "  criterion = nn.CrossEntropyLoss()\n",
        "\n",
        "\n",
        "\n",
        "  train_dataloader = torchtext.data.BucketIterator(train_data, 32,\n",
        "                                           train=True, repeat=True,\n",
        "                                           sort_key=lambda x: len(x.title),\n",
        "                                           device=None)\n",
        "\n",
        "  batch_stream = iter(train_dataloader)\n",
        "\n",
        "  iters, train_loss = [], []\n",
        "  for it in range(5000):\n",
        "      # Get a batch of examples. The shape is [B, L]\n",
        "      X = next(batch_stream).title[0]\n",
        "      logits = model.forward(X) # output logits from the decoder [B, L - 1, vocab_size]\n",
        "      logits = torch.permutae(logits, (0, 2, 1)) # correct shape for loss fn is [B, vocb_size, L - 1]\n",
        "      targets = X[:,1:] # Shape is [B, L - 1] (we don't generate the first token in the input sequence, <bos>)\n",
        "\n",
        "      loss = criterion(logits, targets)\n",
        "      loss.backward()\n",
        "      optimizer.step()\n",
        "      optimizer.zero_grad()\n",
        "\n",
        "      if (it+1) % 50 == 0:\n",
        "          print(\"[Iter %d] Loss %f\" % (it+1, float(loss)))\n",
        "          iters.append(it)\n",
        "          train_loss.append(loss)\n",
        "\n",
        "  plt.figure()\n",
        "  plt.plot(iters[:len(train_loss)], train_loss)\n",
        "  plt.title(\"Loss over iterations\")\n",
        "  plt.xlabel(\"Iterations\")\n",
        "  plt.ylabel(\"Loss\")"
      ],
      "metadata": {
        "id": "W22Sj06vYcvD"
      },
      "execution_count": null,
      "outputs": []
    },
    {
      "cell_type": "code",
      "source": [],
      "metadata": {
        "id": "r5lXnT59ZmYO"
      },
      "execution_count": null,
      "outputs": []
    },
    {
      "cell_type": "markdown",
      "metadata": {
        "id": "sgYA0ntFmWua"
      },
      "source": [
        "## Training Model"
      ]
    },
    {
      "cell_type": "code",
      "execution_count": null,
      "metadata": {
        "id": "v9S7B_tayGHF"
      },
      "outputs": [],
      "source": [
        "import torch\n",
        "import torch.nn as nn\n",
        "import torch.optim as optim\n",
        "\n",
        "training = False\n",
        "\n",
        "if training:\n",
        "    model = DenoisAdversarialAutoencoder(vocab_size, emb_size, hidden_size, lambda_param)\n",
        "\n",
        "\n",
        "    optimizer = optim.Adam(model.parameters(), lr=0.001)\n",
        "\n",
        "\n",
        "    criterion = nn.CrossEntropyLoss()\n",
        "\n",
        "\n",
        "    batch_stream = iter(train_dataloader)\n",
        "\n",
        "    for it in range(300):\n",
        "        optimizer.zero_grad()\n",
        "\n",
        "        X = next(batch_stream).title[0]\n",
        "\n",
        "\n",
        "        logits = model(X)\n",
        "\n",
        "\n",
        "        logits = torch.permute(logits, (0, 2, 1))  # [B, vocab_size, L - 1]\n",
        "        targets = X[:, 1:]  # Shape is [B, L - 1] (we don't generate the first token in the input sequence, <bos>)\n",
        "\n",
        "\n",
        "        loss_rec = criterion(logits, targets)\n",
        "\n",
        "\n",
        "        z_encoder = model.encode(X)\n",
        "        z_prior = torch.randn_like(z_encoder)\n",
        "        d_loss, g_loss = model.adversarial_loss(z_prior, z_encoder)\n",
        "\n",
        "\n",
        "        loss = loss_rec - d_loss - g_loss\n",
        "\n",
        "\n",
        "        loss.backward()\n",
        "        optimizer.step()\n",
        "\n",
        "        if (it + 1) % 50 == 0:\n",
        "            print(\"[Iter %d] Recon Loss %f | D Loss %f | G Loss %f\" % (it + 1, float(loss_rec), float(d_loss), float(g_loss)))\n"
      ]
    },
    {
      "cell_type": "code",
      "execution_count": null,
      "metadata": {
        "id": "IQoETJxvhaqP"
      },
      "outputs": [],
      "source": [
        "# Save the model\n",
        "if training:\n",
        "    torch.save(model.state_dict(), 'model.pth')\n",
        "\n",
        "# Load the model\n",
        "# loaded_model = DenoisAdversarialAutoencoder(vocab_size, emb_size, hidden_size, lambda_param)\n",
        "# loaded_model.load_state_dict(torch.load('model.pth'))\n",
        "\n",
        "# baseline_model = AutoEncoder(vocab_size, emb_size, hidden_size)\n",
        "loaded_model = torch.load(\"model_baseline.pth\")"
      ]
    },
    {
      "cell_type": "code",
      "source": [
        "def l_emb_size_norm(a, b, emb_size):\n",
        "    distance = 0\n",
        "    for i in range(emb_size):\n",
        "        distance += ((a[i].item() - b[i].item()) ** emb_size)\n",
        "    distance ** (1 / emb_size)\n",
        "    return distance"
      ],
      "metadata": {
        "id": "e6P-mOE891ij"
      },
      "execution_count": null,
      "outputs": []
    },
    {
      "cell_type": "code",
      "source": [
        "import gc\n",
        "gc.collect()"
      ],
      "metadata": {
        "colab": {
          "base_uri": "https://localhost:8080/"
        },
        "id": "zlRio_ytCKRf",
        "outputId": "71b0517b-b7a7-4929-90ce-0cff66872ca0"
      },
      "execution_count": null,
      "outputs": [
        {
          "output_type": "execute_result",
          "data": {
            "text/plain": [
              "4210"
            ]
          },
          "metadata": {},
          "execution_count": 25
        }
      ]
    },
    {
      "cell_type": "code",
      "source": [
        "input_embd = torch.tensor([-1.0000, -1.0000, -0.9136,  1.0000, -1.0000,  1.0000, -0.5133, -0.9744,\n",
        "         -1.0000,  0.8250,  0.3641,  1.0000, -1.0000,  0.7279, -0.7730,  1.0000,\n",
        "          1.0000,  0.1633,  0.2159, -0.3960, -0.9996, -0.9841,  0.9816,  1.0000,\n",
        "         -0.4607,  1.0000,  0.9734,  0.1995,  0.9950,  1.0000, -1.0000, -0.9969,\n",
        "         -0.9999, -0.6956, -0.9886, -1.0000, -1.0000, -1.0000,  0.9003, -0.9822,\n",
        "         -0.9932, -0.9944,  0.2616,  0.3027, -0.9998,  1.0000, -1.0000, -0.9834,\n",
        "         -0.5915, -0.5423,  0.8798,  1.0000, -1.0000,  1.0000, -1.0000, -1.0000,\n",
        "         -1.0000,  1.0000,  1.0000, -0.9998, -1.0000, -0.1092,  0.2921, -0.9147,\n",
        "          0.9993, -0.9999, -0.9998, -0.3213,  0.0570,  1.0000, -0.9227,  1.0000,\n",
        "          0.6010, -1.0000, -0.8422,  0.9386, -0.9998,  1.0000,  1.0000,  0.9844,\n",
        "          1.0000, -1.0000, -0.0263,  1.0000,  1.0000,  0.9958,  0.6430,  0.8459,\n",
        "         -1.0000,  1.0000, -0.6944, -0.6967, -1.0000, -1.0000,  0.9893, -1.0000,\n",
        "         -1.0000, -1.0000,  0.9990, -0.9999,  0.7598,  0.9125, -0.9892, -1.0000,\n",
        "         -1.0000, -0.8344, -0.6442,  1.0000, -0.9629, -0.7997, -0.9666, -1.0000,\n",
        "         -1.0000,  0.0574, -1.0000,  1.0000,  0.9998,  1.0000,  1.0000, -1.0000,\n",
        "         -0.9991,  1.0000,  0.5798,  1.0000, -1.0000,  1.0000, -1.0000,  1.0000])\n",
        "\n",
        "train_dataloader = torchtext.data.BucketIterator(train_data, 32,\n",
        "                                           train=True, repeat=True,\n",
        "                                           shuffle=True, device=None)\n",
        "\n",
        "top_five = []\n",
        "max_dist = 9e+29  # Hyperparameter\n",
        "\n",
        "X = next(iter(train_dataloader)).title[0]\n",
        "\n",
        "while len(top_five) < 5 and 0 != len(X):\n",
        "    for title in X:\n",
        "        embedding = loaded_model.encode(title)\n",
        "        dist = l_emb_size_norm(input_embd, embedding[0], 128)\n",
        "        print(dist)\n",
        "\n",
        "        if dist < max_dist:\n",
        "            top_five.append([embedding, title])\n",
        "\n",
        "    X = next(iter(train_dataloader)).title[0]\n",
        "    gc.collect()"
      ],
      "metadata": {
        "colab": {
          "base_uri": "https://localhost:8080/"
        },
        "id": "ggeLnBOuGUR0",
        "outputId": "d119f662-9442-43da-bb31-6d13753df2be"
      },
      "execution_count": null,
      "outputs": [
        {
          "output_type": "stream",
          "name": "stdout",
          "text": [
            "3.349067708486993e+30\n",
            "2.78715186941988e+36\n",
            "6.8515332254618e+36\n",
            "2.9139915376889246e+37\n",
            "5.604908679085502e+37\n",
            "3.2988371553027708e+37\n",
            "6.266264812889072e+37\n",
            "1.1509696013707496e+37\n",
            "6.775326793359233e+37\n",
            "6.837801090400496e+32\n",
            "4.086320595463826e+36\n",
            "8.850968872327593e+37\n",
            "2.7035203560360254e+37\n",
            "1.425875580281416e+36\n",
            "8.527847213527764e+35\n",
            "4.8230302023322834e+36\n",
            "9.6562114066532e+35\n",
            "1.9768876265974457e+32\n",
            "7.236778673810838e+33\n",
            "1.0467482276422086e+36\n",
            "1.34005012214167e+36\n",
            "4.314675511252085e+37\n",
            "1.0872699524658742e+31\n",
            "6.454676467588525e+30\n",
            "3.7522549330773873e+33\n",
            "2.3853232732250245e+34\n",
            "1.5217270593895303e+37\n",
            "4.74678135372609e+37\n",
            "9.044500704744255e+36\n",
            "1.5732704342253336e+37\n",
            "2.192440855494983e+36\n",
            "9.736318347164465e+37\n",
            "9.813430611608273e+37\n",
            "7.8785626788375495e+31\n",
            "2.6816486429568287e+37\n",
            "7.0929603347906005e+37\n",
            "2.9343321107511176e+32\n",
            "5.123345718408872e+34\n",
            "5.700211531536963e+37\n",
            "2.0302585033829727e+36\n",
            "1.1322124476779893e+37\n",
            "5.933439079362352e+37\n",
            "3.287467902502187e+34\n",
            "1.1486051842284387e+36\n",
            "6.146837927977272e+37\n",
            "8.637363006963405e+37\n",
            "1.8589073254112854e+37\n",
            "8.505631807906771e+37\n",
            "1.4844691636024572e+32\n",
            "6.059808541273014e+37\n",
            "2.1079064799321692e+37\n",
            "2.3373702755651043e+37\n",
            "3.2065555351005833e+37\n",
            "7.855460427600487e+37\n",
            "2.963972630002534e+37\n",
            "6.34034826498867e+37\n",
            "1.3147036785629183e+33\n",
            "2.6166295015184058e+36\n",
            "3.894294869629047e+34\n",
            "5.408405043073111e+37\n",
            "8.754881414722072e+35\n",
            "3.7579740178520753e+37\n",
            "1.1890319128801938e+37\n",
            "4.2449930341034944e+36\n",
            "4.616708987943715e+37\n",
            "3.2746440382749956e+35\n",
            "6.703808867893224e+37\n",
            "1.5601582577357646e+37\n",
            "4.8171652050369804e+36\n",
            "1.2807132882367792e+34\n",
            "7.0577494191912815e+37\n",
            "2.0504696120839788e+36\n",
            "1.536099940388969e+34\n",
            "6.379340345471324e+34\n",
            "9.828865271489603e+36\n",
            "1.7318118638936413e+33\n",
            "4.063915866275974e+36\n",
            "1.4059390834499598e+37\n",
            "1.2410784745632295e+38\n",
            "5.418475809586959e+37\n",
            "1.578604754831137e+36\n",
            "9.6990273727579e+33\n",
            "7.015759806805001e+24\n",
            "8.562021954444248e+34\n",
            "1.115922858520274e+34\n",
            "4.602206844888901e+36\n",
            "9.950293160164582e+37\n",
            "1.3420798581777087e+37\n",
            "1.5271799351514598e+36\n",
            "3.906020409264916e+25\n",
            "2.286259992756705e+35\n",
            "5.060702475871554e+36\n",
            "1.795875024456247e+37\n",
            "4.631023989270388e+37\n",
            "1.783156844020955e+27\n",
            "7.08467757834427e+37\n",
            "4.651207762205189e+37\n",
            "5.981531909612031e+37\n",
            "5.940908362535073e+32\n",
            "5.7011083579249285e+37\n",
            "1.5916045645016257e+35\n",
            "7.693707694876334e+28\n",
            "6.164979197409715e+37\n",
            "1.7363451600785846e+37\n",
            "5.652809270604154e+37\n",
            "1.3552856839081836e+37\n",
            "8.440147978998462e+36\n",
            "7.519004795419334e+31\n",
            "1.3070611500915516e+38\n",
            "7.303896525828762e+37\n",
            "1.1343579590422674e+36\n",
            "2.7193990662081175e+30\n",
            "2.9969759367500447e+37\n",
            "1.2066660447169914e+37\n",
            "8.002654176986451e+36\n",
            "5.971106720180618e+37\n",
            "1.0895332519461124e+34\n",
            "5.920850741126195e+37\n",
            "5.981323759532625e+37\n",
            "5.923559611730109e+36\n",
            "4.384537667768322e+37\n",
            "1.1362600231036924e+34\n",
            "2.4950969336547217e+37\n",
            "3.511426208266156e+37\n",
            "9.588910285722864e+26\n",
            "4.577694533537744e+31\n",
            "5.985465252815669e+37\n",
            "2.2192083640880517e+37\n"
          ]
        }
      ]
    },
    {
      "cell_type": "code",
      "source": [
        "title = top_five[4][1]\n",
        "\n",
        "for i in range(len(title)):\n",
        "    print(vocab.itos[title[i]], end=\" \")"
      ],
      "metadata": {
        "id": "xZMQphQrK1ox",
        "outputId": "cf56e4de-909e-4106-95c0-ba4bb9bd8553",
        "colab": {
          "base_uri": "https://localhost:8080/"
        }
      },
      "execution_count": null,
      "outputs": [
        {
          "output_type": "stream",
          "name": "stdout",
          "text": [
            "<bos> Regularity for <unk> PDE Through Uniform Estimates in Multi - Scale Geometries <eos> <pad> <pad> <pad> <pad> <pad> <pad> <pad> <pad> <pad> <pad> <pad> <pad> <pad> <pad> <pad> <pad> <pad> <pad> <pad> <pad> <pad> <pad> <pad> <pad> <pad> <pad> <pad> <pad> <pad> <pad> <pad> <pad> <pad> <pad> <pad> <pad> <pad> <pad> <pad> "
          ]
        }
      ]
    },
    {
      "cell_type": "code",
      "source": [
        "# print(embeddings_dictionary)\n",
        "\n",
        "# print(input_embd[2].item())\n",
        "\n",
        "# for key, value in embeddings_dictionary.items():\n",
        "    # print(cos(target_embd, key))\n",
        "    # print(l_emb_size_norm(input_embd, key[0], 128))\n",
        "    # print(key[0])\n",
        "    # break"
      ],
      "metadata": {
        "id": "re4UcPPsxW3a"
      },
      "execution_count": null,
      "outputs": []
    },
    {
      "cell_type": "markdown",
      "metadata": {
        "id": "0hVIs0FVNOHG"
      },
      "source": [
        "### Part (c) -- 2 pt\n",
        "\n",
        "Once you are satisfied with your model, encode your input using\n",
        "the RNN encoder, and sample some sequences from the decoder. The\n",
        "sampling code is provided to you, and performs the computation\n",
        "from the first diagram (without teacher forcing).\n",
        "\n",
        "Note that we are sampling from a multi-nomial distribution described\n",
        "by the logits $z^{(t)}$. For example, if our distribution is [80%, 20%]\n",
        "over a vocabulary of two words, then we will choose the first word\n",
        "with 80% probability and the second word with 20% probability.\n",
        "\n",
        "Call `sample_sequence` at least 5 times, with the default temperature\n",
        "value. Make sure to include the generated sequences in your PDF\n",
        "report."
      ]
    },
    {
      "cell_type": "code",
      "execution_count": null,
      "metadata": {
        "id": "xQTLwWxPNOHH"
      },
      "outputs": [],
      "source": [
        "def sample_sequence(model, hidden, max_len=20, temperature=1):\n",
        "    \"\"\"\n",
        "    Return a sequence generated from the model's decoder\n",
        "        - model: an instance of the AutoEncoder model\n",
        "        - hidden: a hidden state (e.g. computed by the encoder)\n",
        "        - max_len: the maximum length of the generated sequence\n",
        "        - temperature: described in Part (d)\n",
        "    \"\"\"\n",
        "    # We'll store our generated sequence here\n",
        "    generated_sequence = []\n",
        "    # Set input to the <BOS> token\n",
        "    inp = torch.Tensor([text_field.vocab.stoi[\"<bos>\"]]).long()\n",
        "    for p in range(max_len):\n",
        "        # compute the output and next hidden unit\n",
        "        output, hidden = model.decode(inp.unsqueeze(0), hidden)\n",
        "        # Sample from the network as a multinomial distribution\n",
        "        output_dist = output.data.view(-1).div(temperature).exp()\n",
        "        top_i = int(torch.multinomial(output_dist, 1)[0])\n",
        "        # Add predicted word to string and use as next input\n",
        "        word = text_field.vocab.itos[top_i]\n",
        "        # Break early if we reach <eos>\n",
        "        if word == \"<eos>\":\n",
        "            break\n",
        "        generated_sequence.append(word)\n",
        "        inp = torch.Tensor([top_i]).long()\n",
        "    return generated_sequence\n",
        "\n",
        "# Your solutions go here"
      ]
    },
    {
      "cell_type": "markdown",
      "metadata": {
        "id": "DZFJSYBHV_YU"
      },
      "source": []
    },
    {
      "cell_type": "markdown",
      "metadata": {
        "id": "TVKFCePENOHH"
      },
      "source": [
        "### Part (d) -- 3 pt\n",
        "\n",
        "The multi-nomial distribution can be manipulated using the `temperature`\n",
        "setting. This setting can be used to make the distribution \"flatter\" (e.g.\n",
        "more likely to generate different words) or \"peakier\" (e.g. less likely\n",
        "to generate different words).\n",
        "\n",
        "Call `sample_sequence` at least 5 times each for at least 3 different\n",
        "temperature settings (e.g. 1.5, 2, and 5). Explain why we generally\n",
        "don't want the temperature setting to be too **large**."
      ]
    },
    {
      "cell_type": "code",
      "execution_count": null,
      "metadata": {
        "id": "DyQuyvjoNOHH"
      },
      "outputs": [],
      "source": [
        "# Include the generated sequences and explanation in your PDF report."
      ]
    },
    {
      "cell_type": "code",
      "execution_count": null,
      "metadata": {
        "id": "iG69llZWumJi"
      },
      "outputs": [],
      "source": []
    },
    {
      "cell_type": "markdown",
      "metadata": {
        "id": "a8KpFQWF6KWd"
      },
      "source": [
        "## Count distinct words in title"
      ]
    },
    {
      "cell_type": "code",
      "execution_count": null,
      "metadata": {
        "id": "BddUc_cPoRu8"
      },
      "outputs": [],
      "source": [
        "import pandas as pd\n",
        "\n",
        "# This crashes the runtime environment\n",
        "df = pd.read_json(\"/content/arxiv-metadata-oai-snapshot.json\", lines=True)\n",
        "df.head()"
      ]
    },
    {
      "cell_type": "code",
      "execution_count": null,
      "metadata": {
        "id": "4hwNTilO6Ogl"
      },
      "outputs": [],
      "source": [
        "import json\n",
        "from collections import Counter\n",
        "import re\n",
        "\n",
        "# Function to extract unique words from a given text\n",
        "def extract_unique_words(text):\n",
        "    # Use regex to split the text into words\n",
        "    words = re.findall(r'\\w+', text.lower())  # Convert to lowercase and split into words\n",
        "    return set(words)\n",
        "\n",
        "\n",
        "# Initialize a Counter to count unique words\n",
        "unique_word_counter = Counter()\n",
        "\n",
        "# Open the JSON file and process it line by line\n",
        "# File from https://www.kaggle.com/datasets/Cornell-University/arxiv/\n",
        "with open('arxiv-metadata-oai-snapshot.json', 'r') as file:\n",
        "    for line in file:\n",
        "        try:\n",
        "            data = json.loads(line)  # Parse the JSON object in each line\n",
        "            if 'title' in data:\n",
        "                title = data['title']\n",
        "                unique_words = extract_unique_words(title)\n",
        "                unique_word_counter.update(unique_words)\n",
        "        except json.JSONDecodeError:\n",
        "            pass  # Skip lines that are not valid JSON\n",
        "\n",
        "# Count the total number of unique words\n",
        "total_unique_words = len(unique_word_counter)\n",
        "\n",
        "# Print the result\n",
        "print(f\"Total number of unique words in paper titles (vocabulary size): {total_unique_words}\")"
      ]
    },
    {
      "cell_type": "code",
      "execution_count": null,
      "metadata": {
        "id": "TZjeIWRwB40P"
      },
      "outputs": [],
      "source": [
        "import json\n",
        "import re\n",
        "import matplotlib.pyplot as plt\n",
        "\n",
        "# Function to extract the number of words from a given text\n",
        "def count_words(text):\n",
        "    words = re.findall(r'\\w+', text)  # Split the text into words\n",
        "    return len(words)\n",
        "\n",
        "# Initialize a list to store the word counts for titles\n",
        "title_word_counts = []\n",
        "\n",
        "# Open the JSON file and process it line by line\n",
        "with open('arxiv-metadata-oai-snapshot.json', 'r') as file:\n",
        "    for line in file:\n",
        "        try:\n",
        "            data = json.loads(line)  # Parse the JSON object in each line\n",
        "            if 'title' in data:\n",
        "                title = data['title']\n",
        "                word_count = count_words(title)\n",
        "                title_word_counts.append(word_count)\n",
        "        except json.JSONDecodeError:\n",
        "            pass  # Skip lines that are not valid JSON\n",
        "\n",
        "# Create a histogram\n",
        "plt.hist(title_word_counts, bins=20, edgecolor='k')  # Adjust the number of bins as needed\n",
        "plt.title('Word Count Distribution for Research Paper Titles')\n",
        "plt.xlabel('Number of Words in Title')\n",
        "plt.ylabel('Number of Research Papers')\n",
        "plt.show()\n"
      ]
    },
    {
      "cell_type": "code",
      "execution_count": null,
      "metadata": {
        "id": "KrkJAfkeD6Zb"
      },
      "outputs": [],
      "source": [
        "import json\n",
        "import re\n",
        "import matplotlib.pyplot as plt\n",
        "from collections import Counter\n",
        "\n",
        "# Function to extract unique words from a given text\n",
        "def extract_unique_words(text):\n",
        "    words = re.findall(r'\\w+', text.lower())  # Convert to lowercase and split into words\n",
        "    return words\n",
        "\n",
        "# Initialize a Counter to count word frequencies\n",
        "word_counter = Counter()\n",
        "\n",
        "# Open the JSON file and process it line by line\n",
        "with open('arxiv-metadata-oai-snapshot.json', 'r') as file:\n",
        "    for line in file:\n",
        "        try:\n",
        "            data = json.loads(line)  # Parse the JSON object in each line\n",
        "            if 'title' in data:\n",
        "                title = data['title']\n",
        "                words = extract_unique_words(title)\n",
        "                word_counter.update(words)\n",
        "        except json.JSONDecodeError:\n",
        "            pass  # Skip lines that are not valid JSON\n",
        "\n",
        "# Get the most common words and their frequencies\n",
        "most_common_words = word_counter.most_common(20)  # You can change 10 to show a different number of words\n",
        "\n",
        "# Extract words and frequencies\n",
        "words, frequencies = zip(*most_common_words)\n",
        "\n",
        "# Create a bar graph\n",
        "plt.bar(words, frequencies)\n",
        "plt.xticks(rotation=45, fontsize=8)\n",
        "plt.title('Top 20 Most Common Words in Research Paper Titles')\n",
        "plt.xlabel('Words')\n",
        "plt.ylabel('Frequency')\n",
        "plt.show()\n"
      ]
    }
  ],
  "metadata": {
    "accelerator": "GPU",
    "colab": {
      "gpuType": "T4",
      "machine_shape": "hm",
      "provenance": [],
      "include_colab_link": true
    },
    "kernelspec": {
      "display_name": "Python 3",
      "name": "python3"
    },
    "language_info": {
      "name": "python"
    }
  },
  "nbformat": 4,
  "nbformat_minor": 0
}