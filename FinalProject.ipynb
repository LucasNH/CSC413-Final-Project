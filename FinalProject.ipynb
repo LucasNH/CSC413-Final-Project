{
  "cells": [
    {
      "cell_type": "markdown",
      "metadata": {
        "id": "view-in-github",
        "colab_type": "text"
      },
      "source": [
        "<a href=\"https://colab.research.google.com/github/LucasNH/CSC413-Final-Project/blob/main/FinalProject.ipynb\" target=\"_parent\"><img src=\"https://colab.research.google.com/assets/colab-badge.svg\" alt=\"Open In Colab\"/></a>"
      ]
    },
    {
      "cell_type": "code",
      "execution_count": 1,
      "metadata": {
        "id": "B5oBvcYdqXxN"
      },
      "outputs": [],
      "source": [
        "# from google.colab import files\n",
        "# files.upload() # Upload your kaggle API Key"
      ]
    },
    {
      "cell_type": "code",
      "execution_count": 2,
      "metadata": {
        "id": "cDXnFD7CsGXq"
      },
      "outputs": [],
      "source": [
        "# Installing required packages\n",
        "# !pip install arxiv\n",
        "# !pip install -q kaggle"
      ]
    },
    {
      "cell_type": "code",
      "execution_count": 3,
      "metadata": {
        "id": "q4ozHOW-qgYe"
      },
      "outputs": [],
      "source": [
        "# !mkdir -p ~/.kaggle\n",
        "# !mv kaggle.json ~/.kaggle/\n",
        "\n",
        "# !chmod 600 /root/.kaggle/kaggle.json\n",
        "\n",
        "# # Create the directories for original data\n",
        "# !rm -rf ./dataset/\n",
        "# !kaggle datasets download -d Cornell-University/arxiv\n",
        "# !unzip arxiv.zip > /dev/null"
      ]
    },
    {
      "cell_type": "code",
      "execution_count": 4,
      "metadata": {
        "id": "c4XtGcrisTHP"
      },
      "outputs": [],
      "source": [
        "# !ls -lah /content/"
      ]
    },
    {
      "cell_type": "markdown",
      "metadata": {
        "id": "AsOtNuu3JzS9"
      },
      "source": [
        "## Part 1\n",
        "\n",
        "Download the files `reuters_train.txt` and `reuters_valid.txt`, and upload them to Google Drive.\n",
        "\n",
        "Then, mount Google Drive from your Google Colab notebook:"
      ]
    },
    {
      "cell_type": "code",
      "execution_count": 5,
      "metadata": {
        "id": "Hr67PSFAOWFE"
      },
      "outputs": [],
      "source": [
        "import torch\n",
        "import torch.nn as nn\n",
        "import torch.nn.functional as F\n",
        "import torch.optim as optim\n",
        "\n",
        "import matplotlib.pyplot as plt\n",
        "import numpy as np\n",
        "import random\n",
        "\n",
        "%matplotlib inline"
      ]
    },
    {
      "cell_type": "code",
      "execution_count": 6,
      "metadata": {
        "colab": {
          "base_uri": "https://localhost:8080/"
        },
        "id": "57FvL2tRNbe2",
        "outputId": "c0d721ae-dd6f-4e27-fca3-a1079454f1fe"
      },
      "outputs": [
        {
          "output_type": "stream",
          "name": "stdout",
          "text": [
            "Collecting torchtext==0.6.0\n",
            "  Downloading torchtext-0.6.0-py3-none-any.whl (64 kB)\n",
            "\u001b[2K     \u001b[90m━━━━━━━━━━━━━━━━━━━━━━━━━━━━━━━━━━━━━━━━\u001b[0m \u001b[32m64.2/64.2 kB\u001b[0m \u001b[31m721.5 kB/s\u001b[0m eta \u001b[36m0:00:00\u001b[0m\n",
            "\u001b[?25hRequirement already satisfied: tqdm in /usr/local/lib/python3.10/dist-packages (from torchtext==0.6.0) (4.66.1)\n",
            "Requirement already satisfied: requests in /usr/local/lib/python3.10/dist-packages (from torchtext==0.6.0) (2.31.0)\n",
            "Requirement already satisfied: torch in /usr/local/lib/python3.10/dist-packages (from torchtext==0.6.0) (2.1.0+cu118)\n",
            "Requirement already satisfied: numpy in /usr/local/lib/python3.10/dist-packages (from torchtext==0.6.0) (1.23.5)\n",
            "Requirement already satisfied: six in /usr/local/lib/python3.10/dist-packages (from torchtext==0.6.0) (1.16.0)\n",
            "Collecting sentencepiece (from torchtext==0.6.0)\n",
            "  Downloading sentencepiece-0.1.99-cp310-cp310-manylinux_2_17_x86_64.manylinux2014_x86_64.whl (1.3 MB)\n",
            "\u001b[2K     \u001b[90m━━━━━━━━━━━━━━━━━━━━━━━━━━━━━━━━━━━━━━━━\u001b[0m \u001b[32m1.3/1.3 MB\u001b[0m \u001b[31m18.9 MB/s\u001b[0m eta \u001b[36m0:00:00\u001b[0m\n",
            "\u001b[?25hRequirement already satisfied: charset-normalizer<4,>=2 in /usr/local/lib/python3.10/dist-packages (from requests->torchtext==0.6.0) (3.3.2)\n",
            "Requirement already satisfied: idna<4,>=2.5 in /usr/local/lib/python3.10/dist-packages (from requests->torchtext==0.6.0) (3.6)\n",
            "Requirement already satisfied: urllib3<3,>=1.21.1 in /usr/local/lib/python3.10/dist-packages (from requests->torchtext==0.6.0) (2.0.7)\n",
            "Requirement already satisfied: certifi>=2017.4.17 in /usr/local/lib/python3.10/dist-packages (from requests->torchtext==0.6.0) (2023.11.17)\n",
            "Requirement already satisfied: filelock in /usr/local/lib/python3.10/dist-packages (from torch->torchtext==0.6.0) (3.13.1)\n",
            "Requirement already satisfied: typing-extensions in /usr/local/lib/python3.10/dist-packages (from torch->torchtext==0.6.0) (4.5.0)\n",
            "Requirement already satisfied: sympy in /usr/local/lib/python3.10/dist-packages (from torch->torchtext==0.6.0) (1.12)\n",
            "Requirement already satisfied: networkx in /usr/local/lib/python3.10/dist-packages (from torch->torchtext==0.6.0) (3.2.1)\n",
            "Requirement already satisfied: jinja2 in /usr/local/lib/python3.10/dist-packages (from torch->torchtext==0.6.0) (3.1.2)\n",
            "Requirement already satisfied: fsspec in /usr/local/lib/python3.10/dist-packages (from torch->torchtext==0.6.0) (2023.6.0)\n",
            "Requirement already satisfied: triton==2.1.0 in /usr/local/lib/python3.10/dist-packages (from torch->torchtext==0.6.0) (2.1.0)\n",
            "Requirement already satisfied: MarkupSafe>=2.0 in /usr/local/lib/python3.10/dist-packages (from jinja2->torch->torchtext==0.6.0) (2.1.3)\n",
            "Requirement already satisfied: mpmath>=0.19 in /usr/local/lib/python3.10/dist-packages (from sympy->torch->torchtext==0.6.0) (1.3.0)\n",
            "Installing collected packages: sentencepiece, torchtext\n",
            "  Attempting uninstall: torchtext\n",
            "    Found existing installation: torchtext 0.16.0\n",
            "    Uninstalling torchtext-0.16.0:\n",
            "      Successfully uninstalled torchtext-0.16.0\n",
            "Successfully installed sentencepiece-0.1.99 torchtext-0.6.0\n"
          ]
        }
      ],
      "source": [
        "!pip install torchtext==0.6.0"
      ]
    },
    {
      "cell_type": "code",
      "execution_count": 7,
      "metadata": {
        "colab": {
          "base_uri": "https://localhost:8080/"
        },
        "id": "OxGcK1xfJ9-l",
        "outputId": "2f3d1056-d5d5-424f-b67f-8f356734fc6a"
      },
      "outputs": [
        {
          "output_type": "stream",
          "name": "stdout",
          "text": [
            "Mounted at /content/gdrive\n"
          ]
        }
      ],
      "source": [
        "from google.colab import drive\n",
        "drive.mount('/content/gdrive')\n",
        "\n",
        "\n",
        "# train_path = '/content/gdrive/My Drive/Colab Notebooks/data/arxiv_train.txt'\n",
        "# valid_path = '/content/gdrive/My Drive/Colab Notebooks/data/arxiv_valid.txt'"
      ]
    },
    {
      "cell_type": "code",
      "execution_count": 8,
      "metadata": {
        "id": "GvKfMrNgsMMn"
      },
      "outputs": [],
      "source": [
        "file_path =  '/content/gdrive/MyDrive/Colab Notebooks/data/arxiv.txt'"
      ]
    },
    {
      "cell_type": "markdown",
      "metadata": {
        "id": "IPijuGS6JzS-"
      },
      "source": [
        "We will be using PyTorch's `torchtext` utilities to help us load, process,\n",
        "and batch the data. This package is useful, but takes a bit of time to get\n",
        "used to.\n",
        "\n",
        "We'll be using a `TabularDataset` to load our data, which works well on structured\n",
        "CSV data with fixed columns (e.g. a column for the sequence, a column for the label). Our tabular dataset\n",
        "is even simpler: we have no labels, just some text. So, we are treating our data as a table with one field\n",
        "representing our sequence."
      ]
    },
    {
      "cell_type": "code",
      "execution_count": 9,
      "metadata": {
        "id": "ER2T6iRdJzS-"
      },
      "outputs": [],
      "source": [
        "import torchtext\n",
        "\n",
        "# Tokenization function to separate a headline into words\n",
        "def tokenize_headline(headline):\n",
        "    \"\"\"Returns the sequence of words in the string headline. We also\n",
        "    prepend the \"<bos>\" or beginning-of-string token, and append the\n",
        "    \"<eos>\" or end-of-string token to the headline.\n",
        "    \"\"\"\n",
        "    return (\"<bos> \" + headline + \" <eos>\").split()\n",
        "\n",
        "# Data field (column) representing our *text*.\n",
        "\n",
        "text_field = torchtext.data.Field(\n",
        "    sequential=True,            # this field consists of a sequence\n",
        "    tokenize=tokenize_headline, # how to split sequences into words\n",
        "    include_lengths=True,       # to track the length of sequences, for batching\n",
        "    batch_first=True,           # similar to batch_first=True in nn.RNN demonstrated in lecture\n",
        "    use_vocab=True)             # to turn each character into an integer index\n",
        "\n",
        "full_dataset = torchtext.data.TabularDataset(\n",
        "    path=file_path,                 # data file path\n",
        "    format=\"tsv\",                   # fields are separated by a tab\n",
        "    fields=[('title', text_field)]) # list of fields (we have only one)\n",
        "\n",
        "# Split the dataset into train and validation sets (80/20 split)\n",
        "train_data, val_data = full_dataset.split(split_ratio=0.8)"
      ]
    },
    {
      "cell_type": "markdown",
      "metadata": {
        "id": "mmq5YS2rJzS_"
      },
      "source": [
        "### Part (a) -- 2 points\n",
        "\n",
        "Draw histograms of the number of words per headline in our training set.\n",
        "Excluding the `<bos>` and `<eos>` tags in your computation.\n",
        "Explain why we would be interested in such histograms."
      ]
    },
    {
      "cell_type": "code",
      "execution_count": 10,
      "metadata": {
        "colab": {
          "base_uri": "https://localhost:8080/",
          "height": 486
        },
        "id": "70B87MVUJzS_",
        "outputId": "f967795d-1acd-4350-c215-c998edd700ed"
      },
      "outputs": [
        {
          "output_type": "stream",
          "name": "stdout",
          "text": [
            "['<bos>', 'The', 'solar', 'wind', 'charge', '-', 'transfer', 'X', '-', 'ray', 'emission', 'in', 'the', '_num_', '/', '_num_', 'keV', 'energy', 'range', ':', 'inferences', 'on', 'Local', 'Bubble', 'hot', 'gas', 'at', 'low', 'Z', '<eos>']\n",
            "['<bos>', 'Face', '-', 'masks', 'save', 'us', 'from', 'SARS', '-', 'CoV', '-', '_num_', 'transmission', '<eos>']\n"
          ]
        },
        {
          "output_type": "display_data",
          "data": {
            "text/plain": [
              "<Figure size 640x480 with 1 Axes>"
            ],
            "image/png": "[encoded data removed]"
          },
          "metadata": {}
        }
      ],
      "source": [
        "# Include your histogram and your written explanations\n",
        "\n",
        "# Here is an example of how to plot a histogram in matplotlib:\n",
        "# plt.hist(np.random.normal(0, 1, 40), bins=)\n",
        "\n",
        "word_counts = [len(x.title) - 2 for x in train_data] # Exclude <bos>, <eos>\n",
        "plt.hist(word_counts, bins=10, range=(0, 40))\n",
        "\n",
        "# Here are some sample code that uses the train_data object:\n",
        "print(train_data[5].title)\n",
        "for example in train_data:\n",
        "    print(example.title)\n",
        "    break"
      ]
    },
    {
      "cell_type": "markdown",
      "metadata": {
        "id": "PJk3wBhDJzS_"
      },
      "source": [
        "### Part (b) -- 2 points\n",
        "\n",
        "How many distinct words appear in the training data?\n",
        "Exclude the `<bos>` and `<eos>` tags in your computation."
      ]
    },
    {
      "cell_type": "code",
      "execution_count": 11,
      "metadata": {
        "colab": {
          "base_uri": "https://localhost:8080/"
        },
        "id": "fW7k5B1SJzS_",
        "outputId": "5d7b9474-aec5-497c-cbe1-4f783edaa3d5"
      },
      "outputs": [
        {
          "output_type": "stream",
          "name": "stdout",
          "text": [
            "Distinct Words: 252962\n"
          ]
        }
      ],
      "source": [
        "# Report your values here. Make sure that you report the actual values,\n",
        "# and not just the code used to get those values\n",
        "\n",
        "# You might find the python class Counter from the collections package useful\n",
        "from collections import Counter\n",
        "words_cnt = Counter()\n",
        "for x in train_data:\n",
        "  words_cnt.update(x.title[1:-1])\n",
        "\n",
        "print(f'Distinct Words: {len(words_cnt)}')"
      ]
    },
    {
      "cell_type": "markdown",
      "metadata": {
        "id": "i1EKAI9aJzS_"
      },
      "source": [
        "### Part (c) -- 2 points\n",
        "\n",
        "The distribution of *words* will have a long tail, meaning that there are some words\n",
        "that will appear very often, and many words that will appear infrequently. How many words\n",
        "appear exactly once in the training set? Exactly twice?"
      ]
    },
    {
      "cell_type": "code",
      "execution_count": 12,
      "metadata": {
        "colab": {
          "base_uri": "https://localhost:8080/"
        },
        "id": "M_5JJ5RCJzTA",
        "outputId": "f9a9178c-efdb-4ac0-e75e-2cc5f435846b"
      },
      "outputs": [
        {
          "output_type": "stream",
          "name": "stdout",
          "text": [
            "Appearing Once: ['Kracht', 'BioPlanner', 'xCrxO4', 'Diba', 'LowKey', 'bosonically', 'yConvex', 'PackNet', 'Partion', 'Quickhull']\n",
            "Appearing Twice: ['Ca2Ru1', 'DaaS', 'Colonoscope', 'Konstantinov', 'Rosnav', 'Probabilist', 'Adjointable', 'COSMOLOGIES', 'magnetostrictions', 'Ba4Ir3O10']\n"
          ]
        }
      ],
      "source": [
        "# Report your values here. Make sure that you report the actual values,\n",
        "# and not just the code used to get those values\n",
        "\n",
        "\n",
        "word_freqs = [(word, count) for (word, count) in words_cnt.items()]\n",
        "\n",
        "appear_once = [word for (word, count) in word_freqs if count == 1]\n",
        "appear_twice = [word for (word, count) in word_freqs if count == 2]\n",
        "\n",
        "print(f\"Appearing Once: {appear_once[:10]}\")\n",
        "print(f\"Appearing Twice: {appear_twice[:10]}\")\n",
        "\n"
      ]
    },
    {
      "cell_type": "markdown",
      "metadata": {
        "id": "VmhkWz_kJzTA"
      },
      "source": [
        "### Part (d) -- 2 points\n",
        "\n",
        "Explain why we may wish to replace these infrequent\n",
        "words with an `<unk>` tag, instead of learning embeddings for these rare words.\n",
        "(Hint: Consider words in the validation set that might not appear in training)"
      ]
    },
    {
      "cell_type": "code",
      "execution_count": 13,
      "metadata": {
        "id": "YgeFPNdbJzTA"
      },
      "outputs": [],
      "source": [
        "# Include your explanation here\n",
        "\n",
        "# Words in the validation set that do not appear during training will not have have an associated embeddings.\n",
        "# We can obtain an embedding for thses unseen words by substituting them with <unk>"
      ]
    },
    {
      "cell_type": "markdown",
      "metadata": {
        "id": "ftZ5PnskJzTA"
      },
      "source": [
        "### Part (e) -- 2 points\n",
        "\n",
        "We will only model the top 9995 words in the training set, excluding the tags\n",
        "`<bos>`, `<eos>`, and other possible tags we haven't mentioned yet\n",
        "(including those, we will have a vocabulary size of exactly 10000 tokens).\n",
        "\n",
        "What percentage of word occurrences will be supported? Alternatively, what percentage\n",
        "of word occurrences in the training set will be set to the `<unk>` tag?"
      ]
    },
    {
      "cell_type": "code",
      "execution_count": 14,
      "metadata": {
        "colab": {
          "base_uri": "https://localhost:8080/"
        },
        "id": "KHPB4BQcJzTA",
        "outputId": "6065f229-32e4-4eff-a333-faa6dde811d5"
      },
      "outputs": [
        {
          "output_type": "stream",
          "name": "stdout",
          "text": [
            "Percentage of occurrences supported: 0.9182398984395894\n"
          ]
        }
      ],
      "source": [
        "# Report your values here. Make sure that you report the actual values,\n",
        "# and not just the code used to get those values\n",
        "\n",
        "top_words = words_cnt.most_common(9995)\n",
        "total = len(list(words_cnt.elements()))\n",
        "\n",
        "total_kept = 0\n",
        "for _, cnt in top_words:\n",
        "  total_kept += cnt\n",
        "\n",
        "print(f'Percentage of occurrences supported: {total_kept / total}')"
      ]
    },
    {
      "cell_type": "markdown",
      "metadata": {
        "id": "gKjIXeMcJzTA"
      },
      "source": [
        "Our `torchtext` package will help us keep track of our list of unique words, known\n",
        "as a **vocabulary**. A vocabulary also assigns a unique integer index to each word.\n",
        "You can interpret these indices as sparse representations of one-hot vectors."
      ]
    },
    {
      "cell_type": "code",
      "execution_count": 15,
      "metadata": {
        "colab": {
          "base_uri": "https://localhost:8080/"
        },
        "id": "xy0zlLGtJzTA",
        "outputId": "29d7187e-1329-40f2-da87-12af0f9c4dff"
      },
      "outputs": [
        {
          "output_type": "stream",
          "name": "stdout",
          "text": [
            "0\n",
            "$\n",
            "10000\n",
            "<unk>\n",
            "<pad>\n"
          ]
        }
      ],
      "source": [
        "# Build the vocabulary based on the training data. The vocabulary\n",
        "# can have at most 9997 words (9995 words + the <bos> and <eos> token)\n",
        "text_field.build_vocab(train_data, max_size=9997)\n",
        "\n",
        "# This vocabulary object will be helpful for us\n",
        "vocab = text_field.vocab\n",
        "print(vocab.stoi[\"hello\"]) # for instances, we can convert from string to (unique) index\n",
        "print(vocab.itos[10])      # ... and from word index to string\n",
        "\n",
        "# The size of our vocabulary is actually 10000\n",
        "vocab_size = len(text_field.vocab.stoi)\n",
        "print(vocab_size) # should be 10000\n",
        "\n",
        "\n",
        "# The reason is that torchtext adds two more tokens for us:\n",
        "print(vocab.itos[0]) # <unk> represents an unknown word not in our vocabulary\n",
        "print(vocab.itos[1]) # <pad> will be used to pad short sequences for batching"
      ]
    },
    {
      "cell_type": "markdown",
      "metadata": {
        "id": "Yp8DEK0uNOHG"
      },
      "source": [
        "## Question 2\n",
        "\n",
        "Building a text autoencoder is a little more complicated than an image autoencoder, so\n",
        "we'll need to thoroughly understand the model that we want to build before actually building\n",
        "our model. Note that the best and fastest way to complete this assignment is to spend a *lot*\n",
        "of time upfront understanding the architecture. The explanations are quite dense, and you\n",
        "might need to stop every sentence or two to understand what's going on.\n",
        "You won't feel productive for a while since you won't be writing code,\n",
        "but this initial investment will help you become more productive later on.\n",
        "Understanding this architecture will also help you understand other machine learning\n",
        "papers you might come across. So, take a deep breath, and let's do this!\n",
        "\n",
        "Here is a diagram showing our desired architecture:\n",
        "\n",
        "![](https://github.com/LucasNH/CSC413-Final-Project/blob/model-training/p4model.png?raw=1){ width=90% }\n",
        "\n",
        "<img src=\"https://github.com/LucasNH/CSC413-Final-Project/blob/model-training/p4model.png?raw=1\" width=\"95%\" />\n",
        "\n",
        "There are two main components to the model: the **encoder** and the **decoder**.\n",
        "As always with neural networks, we'll first describe how to make\n",
        "**predictions** with of these components. Let's get started:\n",
        "\n",
        "The **encoder** will take a sequence of words (a headline) as *input*, and produce an\n",
        "embedding (a vector) that represents the entire headline. In the diagram above,\n",
        "the vector ${\\bf h}^{(7)}$ is the vector embedding containing information about\n",
        "the entire headline.  This portion is very similar\n",
        "to the sentiment analysis RNN that we discussed in lecture (but without the fully-connected\n",
        "layer that makes a prediction).\n",
        "\n",
        "The **decoder** will take an embedding (in the diagram, the vector ${\\bf h}^{(7)}$) as input,\n",
        "and uses a separate RNN to **generate a sequence of words**. To generate a sequence of words,\n",
        "the decoder needs to do the following:\n",
        "\n",
        "1) Determine the previous word that was generated. This previous word will act as ${\\bf x}^{(t)}$\n",
        "   to our RNN, and will be used to update the hidden state ${\\bf m}^{(t)}$. Since each of our\n",
        "   sequences begin with the `<bos>` token, we'll set ${\\bf x}^{(1)}$ to be the `<bos>` token.\n",
        "2) Compute the updates to the hidden state ${\\bf m}^{(t)}$ based on the previous hidden state\n",
        "   ${\\bf m}^{(t-1)}$ and ${\\bf x}^{(t)}$. Intuitively, this hidden state vector ${\\bf m}^{(t)}$\n",
        "   is a representation of *all the words we still need to generate*.\n",
        "3) We'll use a fully-connected layer to take a hidden state ${\\bf m}^{(t)}$, and determine\n",
        "   *what the next word should be*. This fully-connected layer solves a *classification problem*,\n",
        "   since we are trying to choose a word out of $K=10000$ distinct words. As in a classification\n",
        "   problem, the fully-connected neural network will compute a *probability distribution* over\n",
        "   these 10,000 words. In the diagram, we are using ${\\bf z}^{(t)}$ to represent the logits,\n",
        "   or the pre-softmax activation values representing the probability distribution.\n",
        "4) We will need to *sample* an actual word from this probability distribution ${\\bf z}^{(t)}$.\n",
        "   We can do this in a number of ways, which we'll discuss in question 3. For now, you can\n",
        "   imagine your favourite way of picking a word given a distribution over words.\n",
        "5) This word we choose will become the next input ${\\bf x}^{(t+1)}$ to our RNN, which is used\n",
        "   to update our hidden state ${\\bf m}^{(t+1)}$---i.e. to determine what are the remaining\n",
        "   words to be generated.\n",
        "\n",
        "We can repeat this process until we see an `<eos>` token generated, or until the generated\n",
        "sequence becomes too long.\n",
        "\n",
        "Unfortunately, we can't *train* this autoencoder in the way we just described. That is,\n",
        "we can't just compare our generated sequence with our ground-truth sequence, and get\n",
        "gradients. Both sequences are **discrete** entities, so we won't be able to compute\n",
        "gradients at all! In particular, **sampling is a discrete process**, and so we won't be\n",
        "able to back-propagate through any kind of sampling that we do.\n",
        "\n",
        "You might wonder whether we can get away with computing gradients by comparing the\n",
        "distributions ${\\bf z}^{(t)}$ with the ground truth words at each time step. Like any\n",
        "multi-class classification problem, we can represent the ground-truth words as a one-hot\n",
        "vector, and use the cross-entropy loss.\n",
        "\n",
        "In theory, we can do this. In practice, there are a few issues. One is that the generated\n",
        "sequence might be longer or shorter than the actual sequence, meaning that there may\n",
        "be more/fewer ${\\bf z}^{(t)}$s than ground-truth words. Another more insidious issue\n",
        "is that the **gradients will become very high-variance and unstable**, because\n",
        "**early mistakes will easily throw the model off-track**. Early in training,\n",
        "our model is unlikely to produce the right answer in step $t=1$, so the gradients\n",
        "we obtain based on the other time steps will not be very useful.\n",
        "\n",
        "At this point, you might have some ideas about \"hacks\" we can use to make training\n",
        "work. Fortunately, there is one very well-established solution called\n",
        "**teacher forcing** which we can use for training:\n",
        "instead of *sampling* the next word based on ${\\bf z}^{(t)}$, we will forgo sampling,\n",
        "and use the **ground truth** ${\\bf x}^{(t)}$ in the next step.\n",
        "\n",
        "Here is a diagram showing how we can use **teacher forcing** to train our model:\n",
        "\n",
        "![](https://github.com/LucasNH/CSC413-Final-Project/blob/model-training/p4model_tf.png?raw=1){ width=90% }\n",
        "\n",
        "<img src=\"https://github.com/LucasNH/CSC413-Final-Project/blob/model-training/p4model_tf.png?raw=1\" width=\"95%\" />\n",
        "\n",
        "We will use the RNN generator to compute the logits\n",
        "${\\bf z}^{(1)},{\\bf z}^{(2)},  \\cdots {\\bf z}^{(T)}$. These distributions\n",
        "can be compared to the ground-truth words using the cross-entropy loss.\n",
        "The loss function for this model will be the sum of the losses across each $t$.\n",
        "(This is similar to what we did in a pixel-wise prediction problem.)\n",
        "\n",
        "We'll train the encoder and decoder model simultaneously. There are several components\n",
        "to our model that contain tunable weights:\n",
        "\n",
        "- The word embedding that maps a word to a vector representation.\n",
        "  In theory, we could use GloVe embeddings, or initialize our parameters to\n",
        "  GloVe embeddings. To prevent students who don't have Colab access\n",
        "  from having to download a 1GB file, we won't do that.\n",
        "  The word embedding component is represented with blue arrows in the diagram.\n",
        "- The encoder RNN (which will use Gated Recurrent Units) that computes the\n",
        "  embedding over the entire headline. The encoder RNN\n",
        "  is represented with black arrows in the diagram.\n",
        "- The decoder RNN (which will also use Gated Recurrent Units) that computes\n",
        "  hidden states, which are vectors representing what words are to be generated.\n",
        "  The decoder RNN is represented with gray arrows in the diagram.\n",
        "- The **projection MLP** (one fully-connected layer) that computes\n",
        "  a distribution over the next word to generate, given a decoder RNN hidden\n",
        "  state.\n"
      ]
    },
    {
      "cell_type": "markdown",
      "metadata": {
        "id": "1b1T26K9VWUS"
      },
      "source": [
        "### Part (a) -- 10 pts\n",
        "\n",
        "Complete the code for the AutoEncoder class below by:\n",
        "\n",
        "1. Filling in the missing numbers in the `__init__` method using\n",
        "   the parameters `vocab_size`, `emb_size`, and `hidden_size`. (4 points)\n",
        "2. Complete the `forward` method, which uses teacher forcing\n",
        "   and computes the logits $z^{(t)}$ of the reconstruction of\n",
        "   the sequence. (4 points)\n",
        "\n",
        "You should first try to understand the `encode` and `decode` methods,\n",
        "which are written for you. The `encode` method mimics a discriminative\n",
        "RNN (see the sentiment analysis notebook).  The `decode` method is\n",
        "a generative RNN and is a bit more complex (see the text generation\n",
        "tutorial notebook).  You might want to scroll down to the\n",
        "`sample_sequence` function to see how this function will be called.\n",
        "\n",
        "You can (but don't have to) use the `encode` and `decode` method in\n",
        "your `forward` method. In either case, be very careful of the input\n",
        "that you feed into ether `decode` or to `self.decoder_rnn`.\n",
        "Refer to the teacher-forcing diagram."
      ]
    },
    {
      "cell_type": "code",
      "execution_count": 16,
      "metadata": {
        "id": "Sb4_VBvHNOHG"
      },
      "outputs": [],
      "source": [
        "class AutoEncoder(nn.Module):\n",
        "    def __init__(self, vocab_size, emb_size, hidden_size):\n",
        "        \"\"\"\n",
        "        A text autoencoder. The parameters\n",
        "            - vocab_size: number of unique words/tokens in the vocabulary\n",
        "            - emb_size: size of the word embeddings $x^{(t)}$\n",
        "            - hidden_size: size of the hidden states in both the\n",
        "                           encoder RNN ($h^{(t)}$) and the\n",
        "                           decoder RNN ($m^{(t)}$)\n",
        "        \"\"\"\n",
        "        super().__init__()\n",
        "        self.embed = nn.Embedding(num_embeddings=vocab_size, # TODO\n",
        "                                  embedding_dim=emb_size)  # TODO\n",
        "        self.encoder_rnn = nn.GRU(input_size=emb_size, #TODO\n",
        "                                  hidden_size=hidden_size, #TODO\n",
        "                                  batch_first=True)\n",
        "        self.decoder_rnn = nn.GRU(input_size=emb_size, #TODO\n",
        "                                  hidden_size=hidden_size, #TODO\n",
        "                                  batch_first=True)\n",
        "        self.proj = nn.Linear(in_features=hidden_size, # TODO\n",
        "                              out_features=vocab_size) # TODO\n",
        "\n",
        "    def encode(self, inp):\n",
        "        \"\"\"\n",
        "        Computes the encoder output given a sequence of words.\n",
        "        \"\"\"\n",
        "        emb = self.embed(inp)\n",
        "        out, last_hidden = self.encoder_rnn(emb)\n",
        "        return last_hidden\n",
        "\n",
        "    def decode(self, inp, hidden=None):\n",
        "        \"\"\"\n",
        "        Computes the decoder output given a sequence of words, and\n",
        "        (optionally) an initial hidden state.\n",
        "        \"\"\"\n",
        "        emb = self.embed(inp)\n",
        "        out, last_hidden = self.decoder_rnn(emb, hidden)\n",
        "        out_seq = self.proj(out)\n",
        "        return out_seq, last_hidden\n",
        "\n",
        "    def forward(self, inp):\n",
        "        \"\"\"\n",
        "        Compute both the encoder and decoder forward pass\n",
        "        given an integer input sequence inp with shape [batch_size, seq_length],\n",
        "        with inp[a,b] representing the (index in our vocabulary of) the b-th word\n",
        "        of the a-th training example.\n",
        "\n",
        "        This function should return the logits $z^{(t)}$ in a tensor of shape\n",
        "        [batch_size, seq_length - 1, vocab_size], computed using *teaching forcing*.\n",
        "\n",
        "        The (seq_length - 1) part is not a typo. If you don't understand why\n",
        "        we need to subtract 1, refer to the teacher-forcing diagram above.\n",
        "        \"\"\"\n",
        "\n",
        "        last_hidden = self.encode(inp)\n",
        "        # print(last_hidden.shape) # Should be [1, batch_size, hidden_size]\n",
        "\n",
        "        # Why do we have L - 1 logits?\n",
        "        # We do not pass the <eos> token to the Autoencoder, as there is no\n",
        "        # \"next word\" to sample.\n",
        "\n",
        "        out_seq, last_hidden = self.decode(inp, last_hidden)\n",
        "        # print(out_seq.shape) # should be [batch_size, seq_length, vocab_size]\n",
        "\n",
        "        return out_seq[:, :-1, :]"
      ]
    },
    {
      "cell_type": "code",
      "execution_count": 17,
      "metadata": {
        "colab": {
          "base_uri": "https://localhost:8080/"
        },
        "id": "ur-7r4v9WFnZ",
        "outputId": "58fc596a-5277-438d-da05-218359b2cc34"
      },
      "outputs": [
        {
          "output_type": "stream",
          "name": "stdout",
          "text": [
            "torch.Size([1, 100, 128])\n",
            "torch.Size([100, 29, 10000])\n"
          ]
        }
      ],
      "source": [
        "# Emulating the forward pass on a batch of examples\n",
        "\n",
        "model = AutoEncoder(vocab_size, 128, 128)\n",
        "# Load the dataset in batches of 100 examples\n",
        "train_dataloader = torchtext.data.Iterator(train_data, 100,\n",
        "                                           train=True, repeat=True,\n",
        "                                           shuffle=True, device=None)\n",
        "\n",
        "X = next(iter(train_dataloader)).title[0]\n",
        "# print(X.shape)\n",
        "last_hidden = model.encode(X)\n",
        "\n",
        "print(last_hidden.shape) # Remove 1 in dim 0\n",
        "\n",
        "out_seq, last_hidden = model.decode(X, last_hidden)\n",
        "print(out_seq.shape)\n",
        "\n",
        "\n"
      ]
    },
    {
      "cell_type": "markdown",
      "metadata": {
        "id": "Ebrpb2RcNOHG"
      },
      "source": [
        "### Part (b) -- 5 pts\n",
        "\n",
        "To check that your model is set up correctly, we'll train our AutoEncoder\n",
        "neural network for at least 300 iterations to memorize this sequence:"
      ]
    },
    {
      "cell_type": "markdown",
      "metadata": {
        "id": "bieULfbzNOHG"
      },
      "source": [
        "We are looking for the way that you set up your loss function\n",
        "corresponding to the figure above.\n",
        "**Be very careful of off-by-ones.**\n",
        "\n",
        "Note that the Cross Entropy Loss expects a rank-2 tensor as its first\n",
        "argument, and a rank-1 tensor as its second argument. You will\n",
        "need to properly reshape your data to be able to compute the loss."
      ]
    },
    {
      "cell_type": "code",
      "execution_count": 19,
      "metadata": {
        "id": "1lqYG47jNOHG"
      },
      "outputs": [],
      "source": [
        "training = False\n",
        "if training:\n",
        "    model = AutoEncoder(vocab_size, 128, 128)\n",
        "    optimizer = optim.Adam(model.parameters(), lr=0.001)\n",
        "    criterion = nn.CrossEntropyLoss()\n",
        "\n",
        "    batch_stream = iter(train_dataloader)\n",
        "\n",
        "    for it in range(300):\n",
        "        optimizer.zero_grad()\n",
        "        # Get a batch of examples. The shape is [B, L]\n",
        "        X = next(batch_stream).title[0]\n",
        "        logits = model.forward(X) # output logits from the decoder [B, L - 1, vocab_size]\n",
        "        logits = torch.permute(logits, (0, 2, 1)) # correct shape for loss fn is [B, vocab_size, L - 1]\n",
        "        targets = X[:,1:] # Shape is [B, L - 1] (we don't generate the first token in the input sequence, <bos>)\n",
        "\n",
        "        # TODO\n",
        "        loss = criterion(logits, targets)\n",
        "        loss.backward()\n",
        "        optimizer.step()\n",
        "\n",
        "        if (it+1) % 50 == 0:\n",
        "            print(\"[Iter %d] Loss %f\" % (it+1, float(loss)))"
      ]
    },
    {
      "cell_type": "markdown",
      "metadata": {
        "id": "qpx5r7LSwr5c"
      },
      "source": [
        "# Denoising Autoencoder\n"
      ]
    },
    {
      "cell_type": "markdown",
      "metadata": {
        "id": "n_xlIA4zxQGJ"
      },
      "source": [
        "### Part (b) -- 2pt\n",
        "\n",
        "We will add noise to our headlines using a few different techniques:\n",
        "\n",
        "1. Shuffle the words in the headline, taking care that words don't end up too far from where they were initially\n",
        "2. Drop (remove) some words\n",
        "3. Replace some words with a blank word (a `<pad>` token)\n",
        "4. Replace some words with a random word\n",
        "\n",
        "The code for adding these types of noise is provided for you:\n"
      ]
    },
    {
      "cell_type": "code",
      "execution_count": 20,
      "metadata": {
        "id": "tAMl3bRnu5MJ"
      },
      "outputs": [],
      "source": [
        "def tokenize_and_randomize(headline,\n",
        "                           drop_prob=0.1,  # probability of dropping a word\n",
        "                           blank_prob=0.1, # probability of \"blanking\" out a word\n",
        "                           sub_prob=0.1,   # probability of substituting a word with a random one\n",
        "                           shuffle_dist=3): # maximum distance to shuffle a word\n",
        "    \"\"\"\n",
        "    Add 'noise' to a headline by slightly shuffling the word order,\n",
        "    dropping some words, blanking out some words (replacing with the <pad> token)\n",
        "    and substituting some words with random ones.\n",
        "    \"\"\"\n",
        "    title = [vocab.stoi[w] for w in title.split()]\n",
        "    n = len(title)\n",
        "    # shuffle\n",
        "    title = [title[i] for i in get_shuffle_index(n, shuffle_dist)]\n",
        "\n",
        "    new_title = [vocab.stoi['<bos>']]\n",
        "    for w in title:\n",
        "        if random.random() < drop_prob:\n",
        "            # drop the word\n",
        "            pass\n",
        "        elif random.random() < blank_prob:\n",
        "            # replace with blank word\n",
        "            new_title.append(vocab.stoi[\"<pad>\"])\n",
        "        elif random.random() < sub_prob:\n",
        "            # substitute word with another word\n",
        "            new_title.append(random.randint(0, vocab_size - 1))\n",
        "        else:\n",
        "            # keep the original word\n",
        "            new_title.append(w)\n",
        "    new_title.append(vocab.stoi['<eos>'])\n",
        "    return new_title\n",
        "\n",
        "def get_shuffle_index(n, max_shuffle_distance):\n",
        "    \"\"\" This is a helper function used to shuffle a headline with n words,\n",
        "    where each word is moved at most max_shuffle_distance. The function does\n",
        "    the following:\n",
        "       1. start with the *unshuffled* index of each word, which\n",
        "          is just the values [0, 1, 2, ..., n]\n",
        "       2. perturb these \"index\" values by a random floating-point value between\n",
        "          [0, max_shuffle_distance]\n",
        "       3. use the sorted position of these values as our new index\n",
        "    \"\"\"\n",
        "    index = np.arange(n)\n",
        "    perturbed_index = index + np.random.rand(n) * 3\n",
        "    new_index = sorted(enumerate(perturbed_index), key=lambda x: x[1])\n",
        "    return [index for (index, pert) in new_index]"
      ]
    },
    {
      "cell_type": "code",
      "execution_count": 21,
      "metadata": {
        "id": "YaZ9Is5Mwxvz"
      },
      "outputs": [],
      "source": [
        "import torch\n",
        "import torch.nn as nn\n",
        "import torch.optim as optim\n",
        "\n",
        "class DenoisAdversarialAutoencoder(nn.Module):\n",
        "    def __init__(self, vocab_size, emb_size, hidden_size, lambda_param):\n",
        "        super().__init__()\n",
        "\n",
        "        # Encoder, Decoder, and Discriminator from the provided AutoEncoder class\n",
        "        self.autoencoder = AutoEncoder(vocab_size, emb_size, hidden_size)\n",
        "\n",
        "        # Discriminator network\n",
        "        self.discriminator = nn.Sequential(\n",
        "            nn.Linear(hidden_size, 1),\n",
        "            nn.Sigmoid()\n",
        "        )\n",
        "\n",
        "        self.lambda_param = lambda_param\n",
        "\n",
        "    def encode(self, inp):\n",
        "        return self.autoencoder.encode(inp)\n",
        "\n",
        "    def decode(self, inp, hidden=None):\n",
        "        return self.autoencoder.decode(inp, hidden)\n",
        "\n",
        "    def forward(self, inp):\n",
        "        return self.autoencoder(inp)\n",
        "\n",
        "    def adversarial_loss(self, z_prior, z_encoder):\n",
        "\n",
        "      real_labels = torch.ones_like(z_prior[:, :, :1])\n",
        "      fake_labels = torch.zeros_like(z_encoder[:, :, :1])\n",
        "\n",
        "\n",
        "      discriminator_linear = nn.Linear(1, 1)\n",
        "\n",
        "\n",
        "      adv_loss = nn.BCEWithLogitsLoss()  # Use BCEWithLogitsLoss for stability\n",
        "      d_loss = adv_loss(discriminator_linear(z_prior[:, :, :1]), real_labels) + adv_loss(discriminator_linear(z_encoder[:, :, :1]), fake_labels)\n",
        "\n",
        "\n",
        "      g_loss = adv_loss(discriminator_linear(z_encoder[:, :, :1]), real_labels)\n",
        "\n",
        "      return d_loss, self.lambda_param * g_loss\n",
        "\n",
        "\n",
        "\n",
        "    def train_step(self, inp):\n",
        "\n",
        "        z_encoder = self.encode(inp)\n",
        "        z_prior = torch.randn_like(z_encoder)\n",
        "\n",
        "\n",
        "        d_loss, g_loss = self.adversarial_loss(z_prior, z_encoder)\n",
        "\n",
        "\n",
        "        recon_loss = nn.CrossEntropyLoss()\n",
        "        logits = self.autoencoder(inp)\n",
        "        rec_loss = recon_loss(logits.view(-1, logits.size(2)), inp[:, 1:].contiguous().view(-1))\n",
        "\n",
        "\n",
        "        total_loss = rec_loss - d_loss - g_loss\n",
        "\n",
        "\n",
        "        self.zero_grad()\n",
        "        total_loss.backward()\n",
        "        optimizer.step()\n",
        "\n",
        "        return total_loss.item()\n",
        "\n",
        "\n",
        " # Replace with your actual vocabulary size\n",
        "emb_size = 128  # Replace with your desired embedding size\n",
        "hidden_size = 128  # Replace with your desired hidden size\n",
        "lambda_param = 0.1  # Replace with your desired lambda value\n",
        "\n",
        "\n"
      ]
    },
    {
      "cell_type": "markdown",
      "metadata": {
        "id": "sgYA0ntFmWua"
      },
      "source": [
        "## Training Model"
      ]
    },
    {
      "cell_type": "code",
      "execution_count": 22,
      "metadata": {
        "id": "v9S7B_tayGHF"
      },
      "outputs": [],
      "source": [
        "import torch\n",
        "import torch.nn as nn\n",
        "import torch.optim as optim\n",
        "\n",
        "training = False\n",
        "\n",
        "if training:\n",
        "    model = DenoisAdversarialAutoencoder(vocab_size, emb_size, hidden_size, lambda_param)\n",
        "\n",
        "\n",
        "    optimizer = optim.Adam(model.parameters(), lr=0.001)\n",
        "\n",
        "\n",
        "    criterion = nn.CrossEntropyLoss()\n",
        "\n",
        "\n",
        "    batch_stream = iter(train_dataloader)\n",
        "\n",
        "    for it in range(300):\n",
        "        optimizer.zero_grad()\n",
        "\n",
        "        X = next(batch_stream).title[0]\n",
        "\n",
        "\n",
        "        logits = model(X)\n",
        "\n",
        "\n",
        "        logits = torch.permute(logits, (0, 2, 1))  # [B, vocab_size, L - 1]\n",
        "        targets = X[:, 1:]  # Shape is [B, L - 1] (we don't generate the first token in the input sequence, <bos>)\n",
        "\n",
        "\n",
        "        loss_rec = criterion(logits, targets)\n",
        "\n",
        "\n",
        "        z_encoder = model.encode(X)\n",
        "        z_prior = torch.randn_like(z_encoder)\n",
        "        d_loss, g_loss = model.adversarial_loss(z_prior, z_encoder)\n",
        "\n",
        "\n",
        "        loss = loss_rec - d_loss - g_loss\n",
        "\n",
        "\n",
        "        loss.backward()\n",
        "        optimizer.step()\n",
        "\n",
        "        if (it + 1) % 50 == 0:\n",
        "            print(\"[Iter %d] Recon Loss %f | D Loss %f | G Loss %f\" % (it + 1, float(loss_rec), float(d_loss), float(g_loss)))\n"
      ]
    },
    {
      "cell_type": "code",
      "execution_count": 23,
      "metadata": {
        "id": "IQoETJxvhaqP"
      },
      "outputs": [],
      "source": [
        "# Save the model\n",
        "if training:\n",
        "    torch.save(model.state_dict(), 'model.pth')\n",
        "\n",
        "# Load the model\n",
        "# loaded_model = DenoisAdversarialAutoencoder(vocab_size, emb_size, hidden_size, lambda_param)\n",
        "# loaded_model.load_state_dict(torch.load('model.pth'))\n",
        "\n",
        "# baseline_model = AutoEncoder(vocab_size, emb_size, hidden_size)\n",
        "loaded_model = torch.load(\"model_baseline.pth\")"
      ]
    },
    {
      "cell_type": "code",
      "source": [
        "def l_emb_size_norm(a, b, emb_size):\n",
        "    distance = 0\n",
        "    for i in range(emb_size):\n",
        "        distance += ((a[i].item() - b[i].item()) ** emb_size)\n",
        "    distance ** (1 / emb_size)\n",
        "    return distance"
      ],
      "metadata": {
        "id": "e6P-mOE891ij"
      },
      "execution_count": 24,
      "outputs": []
    },
    {
      "cell_type": "code",
      "source": [
        "import gc\n",
        "gc.collect()"
      ],
      "metadata": {
        "id": "zlRio_ytCKRf",
        "outputId": "71b0517b-b7a7-4929-90ce-0cff66872ca0",
        "colab": {
          "base_uri": "https://localhost:8080/"
        }
      },
      "execution_count": 25,
      "outputs": [
        {
          "output_type": "execute_result",
          "data": {
            "text/plain": [
              "4210"
            ]
          },
          "metadata": {},
          "execution_count": 25
        }
      ]
    },
    {
      "cell_type": "code",
      "source": [
        "input_embd = torch.tensor([-1.0000, -1.0000, -0.9136,  1.0000, -1.0000,  1.0000, -0.5133, -0.9744,\n",
        "         -1.0000,  0.8250,  0.3641,  1.0000, -1.0000,  0.7279, -0.7730,  1.0000,\n",
        "          1.0000,  0.1633,  0.2159, -0.3960, -0.9996, -0.9841,  0.9816,  1.0000,\n",
        "         -0.4607,  1.0000,  0.9734,  0.1995,  0.9950,  1.0000, -1.0000, -0.9969,\n",
        "         -0.9999, -0.6956, -0.9886, -1.0000, -1.0000, -1.0000,  0.9003, -0.9822,\n",
        "         -0.9932, -0.9944,  0.2616,  0.3027, -0.9998,  1.0000, -1.0000, -0.9834,\n",
        "         -0.5915, -0.5423,  0.8798,  1.0000, -1.0000,  1.0000, -1.0000, -1.0000,\n",
        "         -1.0000,  1.0000,  1.0000, -0.9998, -1.0000, -0.1092,  0.2921, -0.9147,\n",
        "          0.9993, -0.9999, -0.9998, -0.3213,  0.0570,  1.0000, -0.9227,  1.0000,\n",
        "          0.6010, -1.0000, -0.8422,  0.9386, -0.9998,  1.0000,  1.0000,  0.9844,\n",
        "          1.0000, -1.0000, -0.0263,  1.0000,  1.0000,  0.9958,  0.6430,  0.8459,\n",
        "         -1.0000,  1.0000, -0.6944, -0.6967, -1.0000, -1.0000,  0.9893, -1.0000,\n",
        "         -1.0000, -1.0000,  0.9990, -0.9999,  0.7598,  0.9125, -0.9892, -1.0000,\n",
        "         -1.0000, -0.8344, -0.6442,  1.0000, -0.9629, -0.7997, -0.9666, -1.0000,\n",
        "         -1.0000,  0.0574, -1.0000,  1.0000,  0.9998,  1.0000,  1.0000, -1.0000,\n",
        "         -0.9991,  1.0000,  0.5798,  1.0000, -1.0000,  1.0000, -1.0000,  1.0000])\n",
        "\n",
        "\n",
        "train_dataloader = torchtext.data.BucketIterator(train_data, 32,\n",
        "                                           train=True, repeat=True,\n",
        "                                           shuffle=True, device=None)\n",
        "\n",
        "top_five = {0: [], 1: [], 2: [], 3: [], 4: []}\n",
        "five_smallest_dists = [float(\"inf\")] * 5\n",
        "\n",
        "X = next(iter(train_dataloader)).title[0]\n",
        "\n",
        "while 0 != len(X):\n",
        "    for title in X:\n",
        "        embedding = loaded_model.encode(title)\n",
        "        dist = l_emb_size_norm(input_embd, embedding[0], 128)\n",
        "\n",
        "        for i in range(5):\n",
        "            if dist < five_smallest_dists[i]:\n",
        "                five_smallest_dists = five_smallest_dists[:i] + [dist] + five_smallest_dists[i + 1:]\n",
        "                top_five[i] = [embedding, title]\n",
        "                break\n",
        "    X = next(iter(train_dataloader)).title[0]\n",
        "    gc.collect()\n",
        "\n",
        "# embeddings_dictionary = {}\n",
        "\n",
        "# # print(X)\n",
        "\n",
        "# for title in X:\n",
        "#     embedding = loaded_model.encode(title)\n",
        "#     if embedding in embeddings_dictionary:\n",
        "#         embeddings_dictionary[embedding].append(title)\n",
        "#     else:\n",
        "#         embeddings_dictionary[embedding] = [title]"
      ],
      "metadata": {
        "id": "bs0jhj-On_IJ"
      },
      "execution_count": null,
      "outputs": []
    },
    {
      "cell_type": "code",
      "source": [
        "# print(embeddings_dictionary)\n",
        "\n",
        "# print(input_embd[2].item())\n",
        "\n",
        "for key, value in embeddings_dictionary.items():\n",
        "    # print(cos(target_embd, key))\n",
        "    print(l_emb_size_norm(input_embd, key[0], 128))\n",
        "    # print(key[0])\n",
        "    # break"
      ],
      "metadata": {
        "id": "re4UcPPsxW3a"
      },
      "execution_count": null,
      "outputs": []
    },
    {
      "cell_type": "markdown",
      "metadata": {
        "id": "0hVIs0FVNOHG"
      },
      "source": [
        "### Part (c) -- 2 pt\n",
        "\n",
        "Once you are satisfied with your model, encode your input using\n",
        "the RNN encoder, and sample some sequences from the decoder. The\n",
        "sampling code is provided to you, and performs the computation\n",
        "from the first diagram (without teacher forcing).\n",
        "\n",
        "Note that we are sampling from a multi-nomial distribution described\n",
        "by the logits $z^{(t)}$. For example, if our distribution is [80%, 20%]\n",
        "over a vocabulary of two words, then we will choose the first word\n",
        "with 80% probability and the second word with 20% probability.\n",
        "\n",
        "Call `sample_sequence` at least 5 times, with the default temperature\n",
        "value. Make sure to include the generated sequences in your PDF\n",
        "report."
      ]
    },
    {
      "cell_type": "code",
      "execution_count": null,
      "metadata": {
        "id": "xQTLwWxPNOHH"
      },
      "outputs": [],
      "source": [
        "def sample_sequence(model, hidden, max_len=20, temperature=1):\n",
        "    \"\"\"\n",
        "    Return a sequence generated from the model's decoder\n",
        "        - model: an instance of the AutoEncoder model\n",
        "        - hidden: a hidden state (e.g. computed by the encoder)\n",
        "        - max_len: the maximum length of the generated sequence\n",
        "        - temperature: described in Part (d)\n",
        "    \"\"\"\n",
        "    # We'll store our generated sequence here\n",
        "    generated_sequence = []\n",
        "    # Set input to the <BOS> token\n",
        "    inp = torch.Tensor([text_field.vocab.stoi[\"<bos>\"]]).long()\n",
        "    for p in range(max_len):\n",
        "        # compute the output and next hidden unit\n",
        "        output, hidden = model.decode(inp.unsqueeze(0), hidden)\n",
        "        # Sample from the network as a multinomial distribution\n",
        "        output_dist = output.data.view(-1).div(temperature).exp()\n",
        "        top_i = int(torch.multinomial(output_dist, 1)[0])\n",
        "        # Add predicted word to string and use as next input\n",
        "        word = text_field.vocab.itos[top_i]\n",
        "        # Break early if we reach <eos>\n",
        "        if word == \"<eos>\":\n",
        "            break\n",
        "        generated_sequence.append(word)\n",
        "        inp = torch.Tensor([top_i]).long()\n",
        "    return generated_sequence\n",
        "\n",
        "# Your solutions go here"
      ]
    },
    {
      "cell_type": "markdown",
      "metadata": {
        "id": "DZFJSYBHV_YU"
      },
      "source": []
    },
    {
      "cell_type": "markdown",
      "metadata": {
        "id": "TVKFCePENOHH"
      },
      "source": [
        "### Part (d) -- 3 pt\n",
        "\n",
        "The multi-nomial distribution can be manipulated using the `temperature`\n",
        "setting. This setting can be used to make the distribution \"flatter\" (e.g.\n",
        "more likely to generate different words) or \"peakier\" (e.g. less likely\n",
        "to generate different words).\n",
        "\n",
        "Call `sample_sequence` at least 5 times each for at least 3 different\n",
        "temperature settings (e.g. 1.5, 2, and 5). Explain why we generally\n",
        "don't want the temperature setting to be too **large**."
      ]
    },
    {
      "cell_type": "code",
      "execution_count": null,
      "metadata": {
        "id": "DyQuyvjoNOHH"
      },
      "outputs": [],
      "source": [
        "# Include the generated sequences and explanation in your PDF report."
      ]
    },
    {
      "cell_type": "code",
      "execution_count": null,
      "metadata": {
        "id": "iG69llZWumJi"
      },
      "outputs": [],
      "source": []
    },
    {
      "cell_type": "markdown",
      "metadata": {
        "id": "a8KpFQWF6KWd"
      },
      "source": [
        "## Count distinct words in title"
      ]
    },
    {
      "cell_type": "code",
      "execution_count": null,
      "metadata": {
        "id": "BddUc_cPoRu8"
      },
      "outputs": [],
      "source": [
        "import pandas as pd\n",
        "\n",
        "# This crashes the runtime environment\n",
        "df = pd.read_json(\"/content/arxiv-metadata-oai-snapshot.json\", lines=True)\n",
        "df.head()"
      ]
    },
    {
      "cell_type": "code",
      "execution_count": null,
      "metadata": {
        "id": "4hwNTilO6Ogl"
      },
      "outputs": [],
      "source": [
        "import json\n",
        "from collections import Counter\n",
        "import re\n",
        "\n",
        "# Function to extract unique words from a given text\n",
        "def extract_unique_words(text):\n",
        "    # Use regex to split the text into words\n",
        "    words = re.findall(r'\\w+', text.lower())  # Convert to lowercase and split into words\n",
        "    return set(words)\n",
        "\n",
        "\n",
        "# Initialize a Counter to count unique words\n",
        "unique_word_counter = Counter()\n",
        "\n",
        "# Open the JSON file and process it line by line\n",
        "# File from https://www.kaggle.com/datasets/Cornell-University/arxiv/\n",
        "with open('arxiv-metadata-oai-snapshot.json', 'r') as file:\n",
        "    for line in file:\n",
        "        try:\n",
        "            data = json.loads(line)  # Parse the JSON object in each line\n",
        "            if 'title' in data:\n",
        "                title = data['title']\n",
        "                unique_words = extract_unique_words(title)\n",
        "                unique_word_counter.update(unique_words)\n",
        "        except json.JSONDecodeError:\n",
        "            pass  # Skip lines that are not valid JSON\n",
        "\n",
        "# Count the total number of unique words\n",
        "total_unique_words = len(unique_word_counter)\n",
        "\n",
        "# Print the result\n",
        "print(f\"Total number of unique words in paper titles (vocabulary size): {total_unique_words}\")"
      ]
    },
    {
      "cell_type": "code",
      "execution_count": null,
      "metadata": {
        "id": "TZjeIWRwB40P"
      },
      "outputs": [],
      "source": [
        "import json\n",
        "import re\n",
        "import matplotlib.pyplot as plt\n",
        "\n",
        "# Function to extract the number of words from a given text\n",
        "def count_words(text):\n",
        "    words = re.findall(r'\\w+', text)  # Split the text into words\n",
        "    return len(words)\n",
        "\n",
        "# Initialize a list to store the word counts for titles\n",
        "title_word_counts = []\n",
        "\n",
        "# Open the JSON file and process it line by line\n",
        "with open('arxiv-metadata-oai-snapshot.json', 'r') as file:\n",
        "    for line in file:\n",
        "        try:\n",
        "            data = json.loads(line)  # Parse the JSON object in each line\n",
        "            if 'title' in data:\n",
        "                title = data['title']\n",
        "                word_count = count_words(title)\n",
        "                title_word_counts.append(word_count)\n",
        "        except json.JSONDecodeError:\n",
        "            pass  # Skip lines that are not valid JSON\n",
        "\n",
        "# Create a histogram\n",
        "plt.hist(title_word_counts, bins=20, edgecolor='k')  # Adjust the number of bins as needed\n",
        "plt.title('Word Count Distribution for Research Paper Titles')\n",
        "plt.xlabel('Number of Words in Title')\n",
        "plt.ylabel('Number of Research Papers')\n",
        "plt.show()\n"
      ]
    },
    {
      "cell_type": "code",
      "execution_count": null,
      "metadata": {
        "id": "KrkJAfkeD6Zb"
      },
      "outputs": [],
      "source": [
        "import json\n",
        "import re\n",
        "import matplotlib.pyplot as plt\n",
        "from collections import Counter\n",
        "\n",
        "# Function to extract unique words from a given text\n",
        "def extract_unique_words(text):\n",
        "    words = re.findall(r'\\w+', text.lower())  # Convert to lowercase and split into words\n",
        "    return words\n",
        "\n",
        "# Initialize a Counter to count word frequencies\n",
        "word_counter = Counter()\n",
        "\n",
        "# Open the JSON file and process it line by line\n",
        "with open('arxiv-metadata-oai-snapshot.json', 'r') as file:\n",
        "    for line in file:\n",
        "        try:\n",
        "            data = json.loads(line)  # Parse the JSON object in each line\n",
        "            if 'title' in data:\n",
        "                title = data['title']\n",
        "                words = extract_unique_words(title)\n",
        "                word_counter.update(words)\n",
        "        except json.JSONDecodeError:\n",
        "            pass  # Skip lines that are not valid JSON\n",
        "\n",
        "# Get the most common words and their frequencies\n",
        "most_common_words = word_counter.most_common(20)  # You can change 10 to show a different number of words\n",
        "\n",
        "# Extract words and frequencies\n",
        "words, frequencies = zip(*most_common_words)\n",
        "\n",
        "# Create a bar graph\n",
        "plt.bar(words, frequencies)\n",
        "plt.xticks(rotation=45, fontsize=8)\n",
        "plt.title('Top 20 Most Common Words in Research Paper Titles')\n",
        "plt.xlabel('Words')\n",
        "plt.ylabel('Frequency')\n",
        "plt.show()\n"
      ]
    }
  ],
  "metadata": {
    "accelerator": "GPU",
    "colab": {
      "gpuType": "T4",
      "machine_shape": "hm",
      "provenance": [],
      "include_colab_link": true
    },
    "kernelspec": {
      "display_name": "Python 3",
      "name": "python3"
    },
    "language_info": {
      "name": "python"
    }
  },
  "nbformat": 4,
  "nbformat_minor": 0
}