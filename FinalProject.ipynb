{
  "cells": [
    {
      "cell_type": "code",
      "execution_count": null,
      "metadata": {
        "colab": {
          "base_uri": "https://localhost:8080/",
          "height": 92
        },
        "id": "B5oBvcYdqXxN",
        "outputId": "c2566234-960e-4f22-c7c3-08ad28e304ae"
      },
      "outputs": [
        {
          "data": {
            "text/html": [
              "\n",
              "     <input type=\"file\" id=\"files-05822c51-fdc6-4f0c-b71a-7f5b6cee686d\" name=\"files[]\" multiple disabled\n",
              "        style=\"border:none\" />\n",
              "     <output id=\"result-05822c51-fdc6-4f0c-b71a-7f5b6cee686d\">\n",
              "      Upload widget is only available when the cell has been executed in the\n",
              "      current browser session. Please rerun this cell to enable.\n",
              "      </output>\n",
              "      <script>// Copyright 2017 Google LLC\n",
              "//\n",
              "// Licensed under the Apache License, Version 2.0 (the \"License\");\n",
              "// you may not use this file except in compliance with the License.\n",
              "// You may obtain a copy of the License at\n",
              "//\n",
              "//      http://www.apache.org/licenses/LICENSE-2.0\n",
              "//\n",
              "// Unless required by applicable law or agreed to in writing, software\n",
              "// distributed under the License is distributed on an \"AS IS\" BASIS,\n",
              "// WITHOUT WARRANTIES OR CONDITIONS OF ANY KIND, either express or implied.\n",
              "// See the License for the specific language governing permissions and\n",
              "// limitations under the License.\n",
              "\n",
              "/**\n",
              " * @fileoverview Helpers for google.colab Python module.\n",
              " */\n",
              "(function(scope) {\n",
              "function span(text, styleAttributes = {}) {\n",
              "  const element = document.createElement('span');\n",
              "  element.textContent = text;\n",
              "  for (const key of Object.keys(styleAttributes)) {\n",
              "    element.style[key] = styleAttributes[key];\n",
              "  }\n",
              "  return element;\n",
              "}\n",
              "\n",
              "// Max number of bytes which will be uploaded at a time.\n",
              "const MAX_PAYLOAD_SIZE = 100 * 1024;\n",
              "\n",
              "function _uploadFiles(inputId, outputId) {\n",
              "  const steps = uploadFilesStep(inputId, outputId);\n",
              "  const outputElement = document.getElementById(outputId);\n",
              "  // Cache steps on the outputElement to make it available for the next call\n",
              "  // to uploadFilesContinue from Python.\n",
              "  outputElement.steps = steps;\n",
              "\n",
              "  return _uploadFilesContinue(outputId);\n",
              "}\n",
              "\n",
              "// This is roughly an async generator (not supported in the browser yet),\n",
              "// where there are multiple asynchronous steps and the Python side is going\n",
              "// to poll for completion of each step.\n",
              "// This uses a Promise to block the python side on completion of each step,\n",
              "// then passes the result of the previous step as the input to the next step.\n",
              "function _uploadFilesContinue(outputId) {\n",
              "  const outputElement = document.getElementById(outputId);\n",
              "  const steps = outputElement.steps;\n",
              "\n",
              "  const next = steps.next(outputElement.lastPromiseValue);\n",
              "  return Promise.resolve(next.value.promise).then((value) => {\n",
              "    // Cache the last promise value to make it available to the next\n",
              "    // step of the generator.\n",
              "    outputElement.lastPromiseValue = value;\n",
              "    return next.value.response;\n",
              "  });\n",
              "}\n",
              "\n",
              "/**\n",
              " * Generator function which is called between each async step of the upload\n",
              " * process.\n",
              " * @param {string} inputId Element ID of the input file picker element.\n",
              " * @param {string} outputId Element ID of the output display.\n",
              " * @return {!Iterable<!Object>} Iterable of next steps.\n",
              " */\n",
              "function* uploadFilesStep(inputId, outputId) {\n",
              "  const inputElement = document.getElementById(inputId);\n",
              "  inputElement.disabled = false;\n",
              "\n",
              "  const outputElement = document.getElementById(outputId);\n",
              "  outputElement.innerHTML = '';\n",
              "\n",
              "  const pickedPromise = new Promise((resolve) => {\n",
              "    inputElement.addEventListener('change', (e) => {\n",
              "      resolve(e.target.files);\n",
              "    });\n",
              "  });\n",
              "\n",
              "  const cancel = document.createElement('button');\n",
              "  inputElement.parentElement.appendChild(cancel);\n",
              "  cancel.textContent = 'Cancel upload';\n",
              "  const cancelPromise = new Promise((resolve) => {\n",
              "    cancel.onclick = () => {\n",
              "      resolve(null);\n",
              "    };\n",
              "  });\n",
              "\n",
              "  // Wait for the user to pick the files.\n",
              "  const files = yield {\n",
              "    promise: Promise.race([pickedPromise, cancelPromise]),\n",
              "    response: {\n",
              "      action: 'starting',\n",
              "    }\n",
              "  };\n",
              "\n",
              "  cancel.remove();\n",
              "\n",
              "  // Disable the input element since further picks are not allowed.\n",
              "  inputElement.disabled = true;\n",
              "\n",
              "  if (!files) {\n",
              "    return {\n",
              "      response: {\n",
              "        action: 'complete',\n",
              "      }\n",
              "    };\n",
              "  }\n",
              "\n",
              "  for (const file of files) {\n",
              "    const li = document.createElement('li');\n",
              "    li.append(span(file.name, {fontWeight: 'bold'}));\n",
              "    li.append(span(\n",
              "        `(${file.type || 'n/a'}) - ${file.size} bytes, ` +\n",
              "        `last modified: ${\n",
              "            file.lastModifiedDate ? file.lastModifiedDate.toLocaleDateString() :\n",
              "                                    'n/a'} - `));\n",
              "    const percent = span('0% done');\n",
              "    li.appendChild(percent);\n",
              "\n",
              "    outputElement.appendChild(li);\n",
              "\n",
              "    const fileDataPromise = new Promise((resolve) => {\n",
              "      const reader = new FileReader();\n",
              "      reader.onload = (e) => {\n",
              "        resolve(e.target.result);\n",
              "      };\n",
              "      reader.readAsArrayBuffer(file);\n",
              "    });\n",
              "    // Wait for the data to be ready.\n",
              "    let fileData = yield {\n",
              "      promise: fileDataPromise,\n",
              "      response: {\n",
              "        action: 'continue',\n",
              "      }\n",
              "    };\n",
              "\n",
              "    // Use a chunked sending to avoid message size limits. See b/62115660.\n",
              "    let position = 0;\n",
              "    do {\n",
              "      const length = Math.min(fileData.byteLength - position, MAX_PAYLOAD_SIZE);\n",
              "      const chunk = new Uint8Array(fileData, position, length);\n",
              "      position += length;\n",
              "\n",
              "      const base64 = btoa(String.fromCharCode.apply(null, chunk));\n",
              "      yield {\n",
              "        response: {\n",
              "          action: 'append',\n",
              "          file: file.name,\n",
              "          data: base64,\n",
              "        },\n",
              "      };\n",
              "\n",
              "      let percentDone = fileData.byteLength === 0 ?\n",
              "          100 :\n",
              "          Math.round((position / fileData.byteLength) * 100);\n",
              "      percent.textContent = `${percentDone}% done`;\n",
              "\n",
              "    } while (position < fileData.byteLength);\n",
              "  }\n",
              "\n",
              "  // All done.\n",
              "  yield {\n",
              "    response: {\n",
              "      action: 'complete',\n",
              "    }\n",
              "  };\n",
              "}\n",
              "\n",
              "scope.google = scope.google || {};\n",
              "scope.google.colab = scope.google.colab || {};\n",
              "scope.google.colab._files = {\n",
              "  _uploadFiles,\n",
              "  _uploadFilesContinue,\n",
              "};\n",
              "})(self);\n",
              "</script> "
            ],
            "text/plain": [
              "<IPython.core.display.HTML object>"
            ]
          },
          "metadata": {},
          "output_type": "display_data"
        },
        {
          "name": "stdout",
          "output_type": "stream",
          "text": [
            "Saving kaggle.json to kaggle.json\n"
          ]
        },
        {
          "data": {
            "text/plain": [
              "{'kaggle.json': b'{\"username\":\"lucasnoritomihartwig\",\"key\":\"88cf2e35b096aa209fe282b8dee6e5b3\"}'}"
            ]
          },
          "execution_count": 1,
          "metadata": {},
          "output_type": "execute_result"
        }
      ],
      "source": [
        "from google.colab import files\n",
        "files.upload() # Upload your kaggle API Key"
      ]
    },
    {
      "cell_type": "code",
      "execution_count": null,
      "metadata": {
        "colab": {
          "base_uri": "https://localhost:8080/"
        },
        "id": "cDXnFD7CsGXq",
        "outputId": "452bf39f-0514-4a98-ad8a-ccb16969f797"
      },
      "outputs": [
        {
          "name": "stdout",
          "output_type": "stream",
          "text": [
            "Collecting arxiv\n",
            "  Downloading arxiv-2.0.0-py3-none-any.whl (11 kB)\n",
            "Collecting feedparser==6.0.10 (from arxiv)\n",
            "  Downloading feedparser-6.0.10-py3-none-any.whl (81 kB)\n",
            "\u001b[2K     \u001b[90m━━━━━━━━━━━━━━━━━━━━━━━━━━━━━━━━━━━━━━━━\u001b[0m \u001b[32m81.1/81.1 kB\u001b[0m \u001b[31m2.0 MB/s\u001b[0m eta \u001b[36m0:00:00\u001b[0m\n",
            "\u001b[?25hRequirement already satisfied: requests==2.31.0 in /usr/local/lib/python3.10/dist-packages (from arxiv) (2.31.0)\n",
            "Collecting sgmllib3k (from feedparser==6.0.10->arxiv)\n",
            "  Downloading sgmllib3k-1.0.0.tar.gz (5.8 kB)\n",
            "  Preparing metadata (setup.py) ... \u001b[?25l\u001b[?25hdone\n",
            "Requirement already satisfied: charset-normalizer<4,>=2 in /usr/local/lib/python3.10/dist-packages (from requests==2.31.0->arxiv) (3.3.2)\n",
            "Requirement already satisfied: idna<4,>=2.5 in /usr/local/lib/python3.10/dist-packages (from requests==2.31.0->arxiv) (3.4)\n",
            "Requirement already satisfied: urllib3<3,>=1.21.1 in /usr/local/lib/python3.10/dist-packages (from requests==2.31.0->arxiv) (2.0.7)\n",
            "Requirement already satisfied: certifi>=2017.4.17 in /usr/local/lib/python3.10/dist-packages (from requests==2.31.0->arxiv) (2023.7.22)\n",
            "Building wheels for collected packages: sgmllib3k\n",
            "  Building wheel for sgmllib3k (setup.py) ... \u001b[?25l\u001b[?25hdone\n",
            "  Created wheel for sgmllib3k: filename=sgmllib3k-1.0.0-py3-none-any.whl size=6049 sha256=e87044798172f3e9802fd1c3ee907ed3e033484c38e2b928e7a53401e2a6c91e\n",
            "  Stored in directory: /root/.cache/pip/wheels/f0/69/93/a47e9d621be168e9e33c7ce60524393c0b92ae83cf6c6e89c5\n",
            "Successfully built sgmllib3k\n",
            "Installing collected packages: sgmllib3k, feedparser, arxiv\n",
            "Successfully installed arxiv-2.0.0 feedparser-6.0.10 sgmllib3k-1.0.0\n"
          ]
        }
      ],
      "source": [
        "# Installing required packages\n",
        "!pip install arxiv\n",
        "!pip install -q kaggle"
      ]
    },
    {
      "cell_type": "code",
      "execution_count": null,
      "metadata": {
        "colab": {
          "base_uri": "https://localhost:8080/"
        },
        "id": "q4ozHOW-qgYe",
        "outputId": "4bcbf448-449a-426d-bd1d-2fd7fa878a06"
      },
      "outputs": [
        {
          "name": "stdout",
          "output_type": "stream",
          "text": [
            "Downloading arxiv.zip to /content\n",
            " 99% 1.20G/1.21G [00:15<00:00, 50.1MB/s]\n",
            "100% 1.21G/1.21G [00:15<00:00, 85.3MB/s]\n"
          ]
        }
      ],
      "source": [
        "!mkdir -p ~/.kaggle\n",
        "!mv kaggle.json ~/.kaggle/\n",
        "\n",
        "!chmod 600 /root/.kaggle/kaggle.json\n",
        "\n",
        "# Create the directories for original data\n",
        "!rm -rf ./dataset/\n",
        "!kaggle datasets download -d Cornell-University/arxiv\n",
        "!unzip arxiv.zip > /dev/null"
      ]
    },
    {
      "cell_type": "code",
      "execution_count": null,
      "metadata": {
        "colab": {
          "base_uri": "https://localhost:8080/"
        },
        "id": "c4XtGcrisTHP",
        "outputId": "daabb37a-7f4d-4cd4-ca8e-19f6c5cf4c21"
      },
      "outputs": [
        {
          "name": "stdout",
          "output_type": "stream",
          "text": [
            "total 4.9G\n",
            "drwxr-xr-x 1 root root 4.0K Nov 10 00:05 .\n",
            "drwxr-xr-x 1 root root 4.0K Nov 10 00:03 ..\n",
            "-rw-r--r-- 1 root root 3.7G Nov  4 23:53 arxiv-metadata-oai-snapshot.json\n",
            "-rw-r--r-- 1 root root 1.3G Nov  4 23:58 arxiv.zip\n",
            "drwxr-xr-x 4 root root 4.0K Nov  8 14:27 .config\n",
            "drwxr-xr-x 1 root root 4.0K Nov  8 14:27 sample_data\n"
          ]
        }
      ],
      "source": [
        "!ls -lah /content/"
      ]
    },
    {
      "cell_type": "code",
      "execution_count": null,
      "metadata": {
        "id": "BddUc_cPoRu8"
      },
      "outputs": [],
      "source": [
        "import pandas as pd\n",
        "\n",
        "# This crashes the runtime environment\n",
        "df = pd.read_json(\"/content/arxiv-metadata-oai-snapshot.json\", lines=True)\n",
        "df.head()"
      ]
    },
    {
      "cell_type": "markdown",
      "metadata": {
        "id": "a8KpFQWF6KWd"
      },
      "source": [
        "## Count distinct words in title"
      ]
    },
    {
      "cell_type": "code",
      "execution_count": null,
      "metadata": {
        "id": "4hwNTilO6Ogl"
      },
      "outputs": [],
      "source": [
        "import json\n",
        "from collections import Counter\n",
        "import re\n",
        "\n",
        "# Function to extract unique words from a given text\n",
        "def extract_unique_words(text):\n",
        "    # Use regex to split the text into words\n",
        "    words = re.findall(r'\\w+', text.lower())  # Convert to lowercase and split into words\n",
        "    return set(words)\n",
        "\n",
        "\n",
        "# Initialize a Counter to count unique words\n",
        "unique_word_counter = Counter()\n",
        "\n",
        "# Open the JSON file and process it line by line\n",
        "# File from https://www.kaggle.com/datasets/Cornell-University/arxiv/\n",
        "with open('arxiv-metadata-oai-snapshot.json', 'r') as file:\n",
        "    for line in file:\n",
        "        try:\n",
        "            data = json.loads(line)  # Parse the JSON object in each line\n",
        "            if 'title' in data:\n",
        "                title = data['title']\n",
        "                unique_words = extract_unique_words(title)\n",
        "                unique_word_counter.update(unique_words)\n",
        "        except json.JSONDecodeError:\n",
        "            pass  # Skip lines that are not valid JSON\n",
        "\n",
        "# Count the total number of unique words\n",
        "total_unique_words = len(unique_word_counter)\n",
        "\n",
        "# Print the result\n",
        "print(f\"Total number of unique words in paper titles (vocabulary size): {total_unique_words}\")"
      ]
    },
    {
      "cell_type": "code",
      "execution_count": null,
      "metadata": {
        "colab": {
          "base_uri": "https://localhost:8080/",
          "height": 472
        },
        "id": "TZjeIWRwB40P",
        "outputId": "212fd052-8ec5-4dda-db31-5027e2a6febf"
      },
      "outputs": [
        {
          "data": {
            "image/png": "[encoded data removed]",
            "text/plain": [
              "<Figure size 640x480 with 1 Axes>"
            ]
          },
          "metadata": {},
          "output_type": "display_data"
        }
      ],
      "source": [
        "import json\n",
        "import re\n",
        "import matplotlib.pyplot as plt\n",
        "\n",
        "# Function to extract the number of words from a given text\n",
        "def count_words(text):\n",
        "    words = re.findall(r'\\w+', text)  # Split the text into words\n",
        "    return len(words)\n",
        "\n",
        "# Initialize a list to store the word counts for titles\n",
        "title_word_counts = []\n",
        "\n",
        "# Open the JSON file and process it line by line\n",
        "with open('arxiv-metadata-oai-snapshot.json', 'r') as file:\n",
        "    for line in file:\n",
        "        try:\n",
        "            data = json.loads(line)  # Parse the JSON object in each line\n",
        "            if 'title' in data:\n",
        "                title = data['title']\n",
        "                word_count = count_words(title)\n",
        "                title_word_counts.append(word_count)\n",
        "        except json.JSONDecodeError:\n",
        "            pass  # Skip lines that are not valid JSON\n",
        "\n",
        "# Create a histogram\n",
        "plt.hist(title_word_counts, bins=20, edgecolor='k')  # Adjust the number of bins as needed\n",
        "plt.title('Word Count Distribution for Research Paper Titles')\n",
        "plt.xlabel('Number of Words in Title')\n",
        "plt.ylabel('Number of Research Papers')\n",
        "plt.show()\n"
      ]
    },
    {
      "cell_type": "code",
      "execution_count": null,
      "metadata": {
        "colab": {
          "base_uri": "https://localhost:8080/",
          "height": 501
        },
        "id": "KrkJAfkeD6Zb",
        "outputId": "9159aba0-fc60-4ce5-e3cf-e8dcb6aff352"
      },
      "outputs": [
        {
          "data": {
            "image/png": "[encoded data removed]",
            "text/plain": [
              "<Figure size 640x480 with 1 Axes>"
            ]
          },
          "metadata": {},
          "output_type": "display_data"
        }
      ],
      "source": [
        "import json\n",
        "import re\n",
        "import matplotlib.pyplot as plt\n",
        "from collections import Counter\n",
        "\n",
        "# Function to extract unique words from a given text\n",
        "def extract_unique_words(text):\n",
        "    words = re.findall(r'\\w+', text.lower())  # Convert to lowercase and split into words\n",
        "    return words\n",
        "\n",
        "# Initialize a Counter to count word frequencies\n",
        "word_counter = Counter()\n",
        "\n",
        "# Open the JSON file and process it line by line\n",
        "with open('arxiv-metadata-oai-snapshot.json', 'r') as file:\n",
        "    for line in file:\n",
        "        try:\n",
        "            data = json.loads(line)  # Parse the JSON object in each line\n",
        "            if 'title' in data:\n",
        "                title = data['title']\n",
        "                words = extract_unique_words(title)\n",
        "                word_counter.update(words)\n",
        "        except json.JSONDecodeError:\n",
        "            pass  # Skip lines that are not valid JSON\n",
        "\n",
        "# Get the most common words and their frequencies\n",
        "most_common_words = word_counter.most_common(20)  # You can change 10 to show a different number of words\n",
        "\n",
        "# Extract words and frequencies\n",
        "words, frequencies = zip(*most_common_words)\n",
        "\n",
        "# Create a bar graph\n",
        "plt.bar(words, frequencies)\n",
        "plt.xticks(rotation=45, fontsize=8)\n",
        "plt.title('Top 20 Most Common Words in Research Paper Titles')\n",
        "plt.xlabel('Words')\n",
        "plt.ylabel('Frequency')\n",
        "plt.show()\n"
      ]
    },
    {
      "cell_type": "code",
      "execution_count": null,
      "metadata": {},
      "outputs": [],
      "source": [
        "from google.colab import drive\n",
        "drive.mount('/content/gdrive')\n",
        "\n"
      ]
    },
    {
      "cell_type": "code",
      "execution_count": null,
      "metadata": {},
      "outputs": [],
      "source": [
        "train_path = '/content/drive/My Drive/Colab Notebooks/data/arxiv.txt' "
      ]
    },
    {
      "cell_type": "code",
      "execution_count": null,
      "metadata": {},
      "outputs": [],
      "source": [
        "import torch\n",
        "import torchtext\n",
        "\n",
        "# The first time you run this will download a ~823MB file\n",
        "glove = torchtext.vocab.GloVe(name=\"6B\", # trained on Wikipedia 2014 corpus\n",
        "                              dim=50)"
      ]
    },
    {
      "cell_type": "code",
      "execution_count": null,
      "metadata": {},
      "outputs": [],
      "source": [
        "import torch.nn as nn\n",
        "\n",
        "class AutoEncoder(nn.Module):\n",
        "    def __init__(self, vocab_size, emb_size, hidden_size):\n",
        "        \"\"\"\n",
        "        A text autoencoder. The parameters\n",
        "            - vocab_size: number of unique words/tokens in the vocabulary\n",
        "            - emb_size: size of the word embeddings $x^{(t)}$\n",
        "            - hidden_size: size of the hidden states in both the\n",
        "                           encoder RNN ($h^{(t)}$) and the\n",
        "                           decoder RNN ($m^{(t)}$)\n",
        "        \"\"\"\n",
        "        super().__init__()\n",
        "        self.emb = nn.Embedding.from_pretrained(glove.vectors)\n",
        "        self.encoder_rnn = nn.GRU(input_size=emb_size,\n",
        "                                  hidden_size=hidden_size,\n",
        "                                  batch_first=True)\n",
        "        self.decoder_rnn = nn.GRU(input_size=emb_size,\n",
        "                                  hidden_size=hidden_size,\n",
        "                                  batch_first=True)\n",
        "        self.proj = nn.Linear(in_features=hidden_size,\n",
        "                              out_features=vocab_size)\n",
        "\n",
        "    def encode(self, inp):\n",
        "        \"\"\"\n",
        "        Computes the encoder output given a sequence of words.\n",
        "        \"\"\"\n",
        "        emb = self.embed(inp)\n",
        "        out, last_hidden = self.encoder_rnn(emb)\n",
        "        return last_hidden\n",
        "\n",
        "    def decode(self, inp, hidden=None):\n",
        "        \"\"\"\n",
        "        Computes the decoder output given a sequence of words, and\n",
        "        (optionally) an initial hidden state.\n",
        "        \"\"\"\n",
        "        emb = self.embed(inp)\n",
        "        out, last_hidden = self.decoder_rnn(emb, hidden)\n",
        "        out_seq = self.proj(out)\n",
        "        return out_seq, last_hidden\n",
        "\n",
        "    def forward(self, inp):\n",
        "        \"\"\"\n",
        "        Compute both the encoder and decoder forward pass\n",
        "        given an integer input sequence inp with shape [batch_size, seq_length],\n",
        "        with inp[a,b] representing the (index in our vocabulary of) the b-th word\n",
        "        of the a-th training example.\n",
        "\n",
        "        This function should return the logits $z^{(t)}$ in a tensor of shape\n",
        "        [batch_size, seq_length - 1, vocab_size], computed using *teaching forcing*.\n",
        "\n",
        "        The (seq_length - 1) part is not a typo. If you don't understand why\n",
        "        we need to subtract 1, refer to the teacher-forcing diagram above.\n",
        "        \"\"\"\n",
        "\n",
        "\n",
        "        h = self.encode(inp)\n",
        "\n",
        "        #Initialize the input for the decoder with the <bos> token\n",
        "        decoder_input = inp[:, :-1]  # Remove the last word from the sequence\n",
        "        decoder_input = F.one_hot(decoder_input, num_classes=self.proj.out_features).float()\n",
        "\n",
        "        # Decode using teacher forcing\n",
        "        decoder_output, hidden_state= self.decode(decoder_input, h)\n",
        "\n",
        "        return decoder_output"
      ]
    }
  ],
  "metadata": {
    "colab": {
      "provenance": []
    },
    "kernelspec": {
      "display_name": "Python 3",
      "name": "python3"
    },
    "language_info": {
      "name": "python"
    }
  },
  "nbformat": 4,
  "nbformat_minor": 0
}
